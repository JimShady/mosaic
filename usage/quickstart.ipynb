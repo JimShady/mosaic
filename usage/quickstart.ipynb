{
 "cells": [
  {
   "cell_type": "markdown",
   "metadata": {
    "application/vnd.databricks.v1+cell": {
     "inputWidgets": {},
     "nuid": "c247678b-66ab-4879-b331-bb0532826530",
     "showTitle": false,
     "title": ""
    }
   },
   "source": [
    "# Quickstart notebook"
   ]
  },
  {
   "cell_type": "code",
   "execution_count": 0,
   "metadata": {
    "application/vnd.databricks.v1+cell": {
     "inputWidgets": {},
     "nuid": "aaf89a78-8b1f-4e27-8cc8-3fa382ff8210",
     "showTitle": false,
     "title": ""
    }
   },
   "outputs": [
    {
     "data": {
      "text/html": [
       "<style scoped>\n",
       "  .ansiout {\n",
       "    display: block;\n",
       "    unicode-bidi: embed;\n",
       "    white-space: pre-wrap;\n",
       "    word-wrap: break-word;\n",
       "    word-break: break-all;\n",
       "    font-family: \"Source Code Pro\", \"Menlo\", monospace;;\n",
       "    font-size: 13px;\n",
       "    color: #555;\n",
       "    margin-left: 4px;\n",
       "    line-height: 19px;\n",
       "  }\n",
       "</style>\n",
       "<div class=\"ansiout\"></div>"
      ]
     },
     "metadata": {
      "application/vnd.databricks.v1+output": {
       "addedWidgets": {},
       "arguments": {},
       "data": "<div class=\"ansiout\"></div>",
       "datasetInfos": [],
       "metadata": {},
       "removedWidgets": [],
       "type": "html"
      }
     },
     "output_type": "display_data",
     "transient": null
    }
   ],
   "source": [
    "from pyspark.sql.functions import *"
   ]
  },
  {
   "cell_type": "markdown",
   "metadata": {
    "application/vnd.databricks.v1+cell": {
     "inputWidgets": {},
     "nuid": "ac3649d8-5561-4370-b5d3-a36bf5068fd1",
     "showTitle": false,
     "title": ""
    }
   },
   "source": [
    "## Geometry constructors and the Mosaic internal geometry format"
   ]
  },
  {
   "cell_type": "markdown",
   "metadata": {
    "application/vnd.databricks.v1+cell": {
     "inputWidgets": {},
     "nuid": "c9e64d22-ebbc-4ea7-97aa-2dd6e240c9ad",
     "showTitle": false,
     "title": ""
    }
   },
   "source": [
    "Mosaic allows uses to create new Point geometries from a pair of Spark DoubleTypes columns."
   ]
  },
  {
   "cell_type": "code",
   "execution_count": 0,
   "metadata": {
    "application/vnd.databricks.v1+cell": {
     "inputWidgets": {},
     "nuid": "aa85d1b2-8ec1-4879-87b4-cf55eb12820c",
     "showTitle": false,
     "title": ""
    }
   },
   "outputs": [
    {
     "data": {
      "text/html": [
       "<style scoped>\n",
       "  .ansiout {\n",
       "    display: block;\n",
       "    unicode-bidi: embed;\n",
       "    white-space: pre-wrap;\n",
       "    word-wrap: break-word;\n",
       "    word-break: break-all;\n",
       "    font-family: \"Source Code Pro\", \"Menlo\", monospace;;\n",
       "    font-size: 13px;\n",
       "    color: #555;\n",
       "    margin-left: 4px;\n",
       "    line-height: 19px;\n",
       "  }\n",
       "</style>\n",
       "<div class=\"ansiout\">+----+-----+--------------------+\n",
       " lat|  lon|          point_geom|\n",
       "+----+-----+--------------------+\n",
       "35.0|-80.0|{1, [[[-80.0, 35....|\n",
       "45.0|-80.0|{1, [[[-80.0, 45....|\n",
       "45.0|-70.0|{1, [[[-70.0, 45....|\n",
       "35.0|-70.0|{1, [[[-70.0, 35....|\n",
       "35.0|-80.0|{1, [[[-80.0, 35....|\n",
       "+----+-----+--------------------+\n",
       "\n",
       "</div>"
      ]
     },
     "metadata": {
      "application/vnd.databricks.v1+output": {
       "addedWidgets": {},
       "arguments": {},
       "data": "<div class=\"ansiout\">+----+-----+--------------------+\n| lat|  lon|          point_geom|\n+----+-----+--------------------+\n|35.0|-80.0|{1, [[[-80.0, 35....|\n|45.0|-80.0|{1, [[[-80.0, 45....|\n|45.0|-70.0|{1, [[[-70.0, 45....|\n|35.0|-70.0|{1, [[[-70.0, 35....|\n|35.0|-80.0|{1, [[[-80.0, 35....|\n+----+-----+--------------------+\n\n</div>",
       "datasetInfos": [],
       "metadata": {},
       "removedWidgets": [],
       "type": "html"
      }
     },
     "output_type": "display_data",
     "transient": null
    }
   ],
   "source": [
    "from mosaic import st_point\n",
    "\n",
    "lons = [-80., -80., -70., -70., -80.]\n",
    "lats = [ 35.,  45.,  45.,  35.,  35.]\n",
    "\n",
    "bounds_df = (\n",
    "  spark\n",
    "  .createDataFrame({\"lon\": lon, \"lat\": lat} for lon, lat in zip(lons, lats))\n",
    "  .coalesce(1)\n",
    "  .withColumn(\"point_geom\", st_point(\"lon\", \"lat\"))\n",
    ")\n",
    "bounds_df.show()"
   ]
  },
  {
   "cell_type": "markdown",
   "metadata": {
    "application/vnd.databricks.v1+cell": {
     "inputWidgets": {},
     "nuid": "e0229f66-1fe7-4218-905f-6fe265fd2441",
     "showTitle": false,
     "title": ""
    }
   },
   "source": [
    "_Note: the first time you import from the Mosaic Python package, the supporting Scala classes will be copied to your cluster nodes. You can, therefore, expect this first command to take slightly longer to execute than subsequent actions._\n",
    "\n",
    "Mosaic Point geometries can be aggregated into LineString and Polygon geometries using the respective constructors."
   ]
  },
  {
   "cell_type": "code",
   "execution_count": 0,
   "metadata": {
    "application/vnd.databricks.v1+cell": {
     "inputWidgets": {},
     "nuid": "c143e704-333d-4c15-800d-7dcefc924f71",
     "showTitle": false,
     "title": ""
    }
   },
   "outputs": [
    {
     "data": {
      "text/html": [
       "<style scoped>\n",
       "  .ansiout {\n",
       "    display: block;\n",
       "    unicode-bidi: embed;\n",
       "    white-space: pre-wrap;\n",
       "    word-wrap: break-word;\n",
       "    word-break: break-all;\n",
       "    font-family: \"Source Code Pro\", \"Menlo\", monospace;;\n",
       "    font-size: 13px;\n",
       "    color: #555;\n",
       "    margin-left: 4px;\n",
       "    line-height: 19px;\n",
       "  }\n",
       "</style>\n",
       "<div class=\"ansiout\">+--------------------+\n",
       "       bounding_ring|\n",
       "+--------------------+\n",
       "{3, [[[-80.0, 35....|\n",
       "+--------------------+\n",
       "\n",
       "</div>"
      ]
     },
     "metadata": {
      "application/vnd.databricks.v1+output": {
       "addedWidgets": {},
       "arguments": {},
       "data": "<div class=\"ansiout\">+--------------------+\n|       bounding_ring|\n+--------------------+\n|{3, [[[-80.0, 35....|\n+--------------------+\n\n</div>",
       "datasetInfos": [],
       "metadata": {},
       "removedWidgets": [],
       "type": "html"
      }
     },
     "output_type": "display_data",
     "transient": null
    }
   ],
   "source": [
    "from mosaic import st_makeline\n",
    "\n",
    "bounds_df = (\n",
    "  bounds_df\n",
    "  .groupBy()\n",
    "  .agg(collect_list(\"point_geom\").alias(\"bounding_coords\"))\n",
    "  .select(st_makeline(\"bounding_coords\").alias(\"bounding_ring\"))\n",
    ")\n",
    "bounds_df.show()"
   ]
  },
  {
   "cell_type": "code",
   "execution_count": 0,
   "metadata": {
    "application/vnd.databricks.v1+cell": {
     "inputWidgets": {},
     "nuid": "0282fcbd-f9b1-4708-b015-dc9e0fac9072",
     "showTitle": false,
     "title": ""
    }
   },
   "outputs": [
    {
     "data": {
      "text/html": [
       "<style scoped>\n",
       "  .ansiout {\n",
       "    display: block;\n",
       "    unicode-bidi: embed;\n",
       "    white-space: pre-wrap;\n",
       "    word-wrap: break-word;\n",
       "    word-break: break-all;\n",
       "    font-family: \"Source Code Pro\", \"Menlo\", monospace;;\n",
       "    font-size: 13px;\n",
       "    color: #555;\n",
       "    margin-left: 4px;\n",
       "    line-height: 19px;\n",
       "  }\n",
       "</style>\n",
       "<div class=\"ansiout\">+--------------------+\n",
       "              bounds|\n",
       "+--------------------+\n",
       "{5, [[[-80.0, 35....|\n",
       "+--------------------+\n",
       "\n",
       "</div>"
      ]
     },
     "metadata": {
      "application/vnd.databricks.v1+output": {
       "addedWidgets": {},
       "arguments": {},
       "data": "<div class=\"ansiout\">+--------------------+\n|              bounds|\n+--------------------+\n|{5, [[[-80.0, 35....|\n+--------------------+\n\n</div>",
       "datasetInfos": [],
       "metadata": {},
       "removedWidgets": [],
       "type": "html"
      }
     },
     "output_type": "display_data",
     "transient": null
    }
   ],
   "source": [
    "from mosaic import st_makepolygon\n",
    "\n",
    "bounds_df = bounds_df.select(st_makepolygon(\"bounding_ring\").alias(\"bounds\"))\n",
    "bounds_df.show()"
   ]
  },
  {
   "cell_type": "markdown",
   "metadata": {
    "application/vnd.databricks.v1+cell": {
     "inputWidgets": {},
     "nuid": "459a46e8-e7cb-4bb0-a167-e359889d15a9",
     "showTitle": false,
     "title": ""
    }
   },
   "source": [
    "## Geometry clipping without an index"
   ]
  },
  {
   "cell_type": "markdown",
   "metadata": {
    "application/vnd.databricks.v1+cell": {
     "inputWidgets": {},
     "nuid": "02d90b72-81b4-48a9-b117-b7976bca13aa",
     "showTitle": false,
     "title": ""
    }
   },
   "source": [
    "Mosaic implements set intersection functions: contains, intersects, overlaps etc. Here you can see `st_contains` being used to clip points by a polygon geometry."
   ]
  },
  {
   "cell_type": "code",
   "execution_count": 0,
   "metadata": {
    "application/vnd.databricks.v1+cell": {
     "inputWidgets": {},
     "nuid": "e5ec8d70-8d6b-44b9-ad2a-ef593e2011bd",
     "showTitle": false,
     "title": ""
    }
   },
   "outputs": [
    {
     "data": {
      "text/html": [
       "<style scoped>\n",
       "  .ansiout {\n",
       "    display: block;\n",
       "    unicode-bidi: embed;\n",
       "    white-space: pre-wrap;\n",
       "    word-wrap: break-word;\n",
       "    word-break: break-all;\n",
       "    font-family: \"Source Code Pro\", \"Menlo\", monospace;;\n",
       "    font-size: 13px;\n",
       "    color: #555;\n",
       "    margin-left: 4px;\n",
       "    line-height: 19px;\n",
       "  }\n",
       "</style>\n",
       "<div class=\"ansiout\"></div>"
      ]
     },
     "metadata": {
      "application/vnd.databricks.v1+output": {
       "addedWidgets": {},
       "arguments": {},
       "data": "<div class=\"ansiout\"></div>",
       "datasetInfos": [],
       "metadata": {},
       "removedWidgets": [],
       "type": "html"
      }
     },
     "output_type": "display_data",
     "transient": null
    }
   ],
   "source": [
    "tripsTable = spark.table(\"delta.`/databricks-datasets/nyctaxi/tables/nyctaxi_yellow`\")"
   ]
  },
  {
   "cell_type": "code",
   "execution_count": 0,
   "metadata": {
    "application/vnd.databricks.v1+cell": {
     "inputWidgets": {},
     "nuid": "ad0e72a9-4e2e-45fe-ba39-d2933859154d",
     "showTitle": false,
     "title": ""
    }
   },
   "outputs": [
    {
     "data": {
      "text/html": [
       "<style scoped>\n",
       "  .ansiout {\n",
       "    display: block;\n",
       "    unicode-bidi: embed;\n",
       "    white-space: pre-wrap;\n",
       "    word-wrap: break-word;\n",
       "    word-break: break-all;\n",
       "    font-family: \"Source Code Pro\", \"Menlo\", monospace;;\n",
       "    font-size: 13px;\n",
       "    color: #555;\n",
       "    margin-left: 4px;\n",
       "    line-height: 19px;\n",
       "  }\n",
       "</style>\n",
       "<div class=\"ansiout\"></div>"
      ]
     },
     "metadata": {
      "application/vnd.databricks.v1+output": {
       "addedWidgets": {},
       "arguments": {},
       "data": "<div class=\"ansiout\"></div>",
       "datasetInfos": [],
       "metadata": {},
       "removedWidgets": [],
       "type": "html"
      }
     },
     "output_type": "display_data",
     "transient": null
    }
   ],
   "source": [
    "from mosaic import st_contains\n",
    "trips = (\n",
    "  tripsTable\n",
    "  .limit(5_000_000)\n",
    "  .repartition(sc.defaultParallelism * 20)\n",
    "  .drop(\"vendorId\", \"rateCodeId\", \"store_and_fwd_flag\", \"payment_type\")\n",
    "  .withColumn(\"pickup_geom\", st_point(\"pickup_longitude\", \"pickup_latitude\"))\n",
    "  .withColumn(\"dropoff_geom\", st_point(\"dropoff_longitude\", \"dropoff_latitude\"))\n",
    "  .crossJoin(bounds_df)\n",
    "  .where(st_contains(\"bounds\", \"pickup_geom\"))\n",
    "  .where(st_contains(\"bounds\", \"dropoff_geom\"))\n",
    "  .cache()\n",
    ")"
   ]
  },
  {
   "cell_type": "code",
   "execution_count": 0,
   "metadata": {
    "application/vnd.databricks.v1+cell": {
     "inputWidgets": {},
     "nuid": "9aa22657-47c6-4de6-8e48-733a150b00a0",
     "showTitle": false,
     "title": ""
    }
   },
   "outputs": [
    {
     "data": {
      "text/html": [
       "<style scoped>\n",
       "  .ansiout {\n",
       "    display: block;\n",
       "    unicode-bidi: embed;\n",
       "    white-space: pre-wrap;\n",
       "    word-wrap: break-word;\n",
       "    word-break: break-all;\n",
       "    font-family: \"Source Code Pro\", \"Menlo\", monospace;;\n",
       "    font-size: 13px;\n",
       "    color: #555;\n",
       "    margin-left: 4px;\n",
       "    line-height: 19px;\n",
       "  }\n",
       "</style>\n",
       "<div class=\"ansiout\">+---------+-------------------+-------------------+---------------+-------------+----------------+---------------+------------+-----------------+----------------+-----------+-----+-------+----------+------------+------------+--------------------+--------------------+--------------------+\n",
       "vendor_id|    pickup_datetime|   dropoff_datetime|passenger_count|trip_distance|pickup_longitude|pickup_latitude|rate_code_id|dropoff_longitude|dropoff_latitude|fare_amount|extra|mta_tax|tip_amount|tolls_amount|total_amount|         pickup_geom|        dropoff_geom|              bounds|\n",
       "+---------+-------------------+-------------------+---------------+-------------+----------------+---------------+------------+-----------------+----------------+-----------+-----+-------+----------+------------+------------+--------------------+--------------------+--------------------+\n",
       "      CMT|2009-10-01 20:14:02|2009-10-01 20:25:12|              1|          1.0|      -73.995029|      40.731688|        null|       -74.009906|       40.734639|        7.3|  0.0|   null|       0.0|         0.0|         7.3|{1, [[[-73.995029...|{1, [[[-74.009906...|{5, [[[-80.0, 35....|\n",
       "      VTS|2009-12-13 20:44:00|2009-12-13 20:49:00|              1|         0.86|      -74.019097|      40.697303|        null|       -74.022585|       40.696682|        4.9|  0.5|    0.5|       0.0|         0.0|         5.9|{1, [[[-74.019097...|{1, [[[-74.022585...|{5, [[[-80.0, 35....|\n",
       "      VTS|2009-02-25 03:09:00|2009-02-25 03:34:00|              3|          9.4|      -74.003012|      40.733308|        null|       -73.879022|       40.756157|       23.7|  0.5|   null|       0.0|         0.0|        24.2|{1, [[[-74.003012...|{1, [[[-73.879022...|{5, [[[-80.0, 35....|\n",
       "      CMT|2009-01-26 20:17:32|2009-01-26 20:25:09|              1|          0.8|      -73.998275|      40.725061|        null|       -73.988168|       40.721215|        6.6|  0.0|   null|       0.0|         0.0|         6.6|{1, [[[-73.998275...|{1, [[[-73.988168...|{5, [[[-80.0, 35....|\n",
       "      VTS|2009-10-29 15:23:00|2009-10-29 15:35:00|              5|         1.36|      -73.990315|      40.734607|        null|       -73.996838|       40.747757|        7.7|  0.0|   null|       2.0|         0.0|         9.7|{1, [[[-73.990315...|{1, [[[-73.996838...|{5, [[[-80.0, 35....|\n",
       "      VTS|2010-06-02 12:57:00|2010-06-02 13:10:00|              1|         3.25|       -74.01502|      40.713953|           1|       -73.994892|        40.75023|       10.9|  0.0|    0.5|       0.0|         0.0|        11.4|{1, [[[-74.01502,...|{1, [[[-73.994892...|{5, [[[-80.0, 35....|\n",
       "      VTS|2009-12-11 23:31:00|2009-12-11 23:34:00|              5|         0.51|      -74.008582|      40.732705|        null|        -74.00919|       40.725968|        3.7|  0.5|    0.5|       0.0|         0.0|         4.7|{1, [[[-74.008582...|{1, [[[-74.00919,...|{5, [[[-80.0, 35....|\n",
       "      VTS|2009-05-27 21:52:00|2009-05-27 21:56:00|              1|         0.63|      -73.989672|      40.733835|        null|        -73.98474|       40.741957|        4.5|  0.5|   null|       0.0|         0.0|         5.0|{1, [[[-73.989672...|{1, [[[-73.98474,...|{5, [[[-80.0, 35....|\n",
       "      CMT|2009-05-26 15:16:42|2009-05-26 16:24:51|              1|         27.9|      -73.991329|      40.697427|        null|       -73.781919|       40.648625|       60.9|  0.0|   null|       0.0|         0.0|        60.9|{1, [[[-73.991329...|{1, [[[-73.781919...|{5, [[[-80.0, 35....|\n",
       "      VTS|2009-09-25 12:08:00|2009-09-25 12:17:00|              1|         0.87|      -73.989922|      40.733165|        null|       -73.993095|       40.742483|        6.5|  0.0|   null|       1.0|         0.0|         7.5|{1, [[[-73.989922...|{1, [[[-73.993095...|{5, [[[-80.0, 35....|\n",
       "      VTS|2009-12-08 18:48:00|2009-12-08 18:54:00|              5|         0.91|       -74.00138|      40.719952|        null|       -73.994322|       40.713878|        5.3|  1.0|    0.5|       0.0|         0.0|         6.8|{1, [[[-74.00138,...|{1, [[[-73.994322...|{5, [[[-80.0, 35....|\n",
       "      VTS|2009-11-02 19:31:00|2009-11-02 19:47:00|              5|         3.08|      -73.993238|       40.72778|        null|       -73.991493|        40.76009|       10.9|  1.0|    0.5|       0.0|         0.0|        12.4|{1, [[[-73.993238...|{1, [[[-73.991493...|{5, [[[-80.0, 35....|\n",
       "      DDS|2009-09-18 11:39:19|2009-09-18 11:54:20|              1|          0.3|      -74.008426|      40.716548|        null|       -74.014158|       40.706377|        5.3|  0.0|   null|       1.0|         0.0|         6.3|{1, [[[-74.008426...|{1, [[[-74.014158...|{5, [[[-80.0, 35....|\n",
       "      VTS|2009-02-17 18:18:00|2009-02-17 18:38:00|              1|         2.75|       -73.99006|      40.727742|        null|       -73.984877|       40.758912|       12.5|  1.0|   null|       0.0|         0.0|        13.5|{1, [[[-73.99006,...|{1, [[[-73.984877...|{5, [[[-80.0, 35....|\n",
       "      VTS|2009-05-22 09:49:00|2009-05-22 10:06:00|              5|         2.71|      -73.990288|      40.732973|        null|       -73.960995|        40.75682|       10.9|  0.0|   null|       2.0|         0.0|        12.9|{1, [[[-73.990288...|{1, [[[-73.960995...|{5, [[[-80.0, 35....|\n",
       "      VTS|2009-05-07 18:25:00|2009-05-07 18:48:00|              1|         3.16|      -74.002703|       40.72366|        null|       -73.972418|       40.757082|       12.9|  1.0|   null|       0.0|         0.0|        13.9|{1, [[[-74.002703...|{1, [[[-73.972418...|{5, [[[-80.0, 35....|\n",
       "      VTS|2009-12-07 19:28:00|2009-12-07 19:38:00|              1|         3.03|      -74.012817|      40.702353|        null|       -73.988808|       40.693315|        9.3|  1.0|    0.5|       0.0|         0.0|        10.8|{1, [[[-74.012817...|{1, [[[-73.988808...|{5, [[[-80.0, 35....|\n",
       "      CMT|2009-12-02 15:21:45|2009-12-02 15:31:46|              1|          2.7|      -73.996832|      40.719208|        null|       -74.007177|       40.748432|        8.9|  0.0|    0.5|      1.41|         0.0|       10.81|{1, [[[-73.996832...|{1, [[[-74.007177...|{5, [[[-80.0, 35....|\n",
       "      VTS|2009-05-02 12:56:00|2009-05-02 13:11:00|              1|          1.9|      -73.992958|      40.730755|        null|       -73.977313|       40.747047|        9.3|  0.0|   null|       0.0|         0.0|         9.3|{1, [[[-73.992958...|{1, [[[-73.977313...|{5, [[[-80.0, 35....|\n",
       "      DDS|2009-05-04 14:48:28|2009-05-04 15:06:54|              2|          5.6|      -74.004991|      40.707614|        null|       -73.986253|       40.755365|       15.3|  0.0|   null|       0.0|         0.0|        15.3|{1, [[[-74.004991...|{1, [[[-73.986253...|{5, [[[-80.0, 35....|\n",
       "+---------+-------------------+-------------------+---------------+-------------+----------------+---------------+------------+-----------------+----------------+-----------+-----+-------+----------+------------+------------+--------------------+--------------------+--------------------+\n",
       "only showing top 20 rows\n",
       "\n",
       "</div>"
      ]
     },
     "metadata": {
      "application/vnd.databricks.v1+output": {
       "addedWidgets": {},
       "arguments": {},
       "data": "<div class=\"ansiout\">+---------+-------------------+-------------------+---------------+-------------+----------------+---------------+------------+-----------------+----------------+-----------+-----+-------+----------+------------+------------+--------------------+--------------------+--------------------+\n|vendor_id|    pickup_datetime|   dropoff_datetime|passenger_count|trip_distance|pickup_longitude|pickup_latitude|rate_code_id|dropoff_longitude|dropoff_latitude|fare_amount|extra|mta_tax|tip_amount|tolls_amount|total_amount|         pickup_geom|        dropoff_geom|              bounds|\n+---------+-------------------+-------------------+---------------+-------------+----------------+---------------+------------+-----------------+----------------+-----------+-----+-------+----------+------------+------------+--------------------+--------------------+--------------------+\n|      CMT|2009-10-01 20:14:02|2009-10-01 20:25:12|              1|          1.0|      -73.995029|      40.731688|        null|       -74.009906|       40.734639|        7.3|  0.0|   null|       0.0|         0.0|         7.3|{1, [[[-73.995029...|{1, [[[-74.009906...|{5, [[[-80.0, 35....|\n|      VTS|2009-12-13 20:44:00|2009-12-13 20:49:00|              1|         0.86|      -74.019097|      40.697303|        null|       -74.022585|       40.696682|        4.9|  0.5|    0.5|       0.0|         0.0|         5.9|{1, [[[-74.019097...|{1, [[[-74.022585...|{5, [[[-80.0, 35....|\n|      VTS|2009-02-25 03:09:00|2009-02-25 03:34:00|              3|          9.4|      -74.003012|      40.733308|        null|       -73.879022|       40.756157|       23.7|  0.5|   null|       0.0|         0.0|        24.2|{1, [[[-74.003012...|{1, [[[-73.879022...|{5, [[[-80.0, 35....|\n|      CMT|2009-01-26 20:17:32|2009-01-26 20:25:09|              1|          0.8|      -73.998275|      40.725061|        null|       -73.988168|       40.721215|        6.6|  0.0|   null|       0.0|         0.0|         6.6|{1, [[[-73.998275...|{1, [[[-73.988168...|{5, [[[-80.0, 35....|\n|      VTS|2009-10-29 15:23:00|2009-10-29 15:35:00|              5|         1.36|      -73.990315|      40.734607|        null|       -73.996838|       40.747757|        7.7|  0.0|   null|       2.0|         0.0|         9.7|{1, [[[-73.990315...|{1, [[[-73.996838...|{5, [[[-80.0, 35....|\n|      VTS|2010-06-02 12:57:00|2010-06-02 13:10:00|              1|         3.25|       -74.01502|      40.713953|           1|       -73.994892|        40.75023|       10.9|  0.0|    0.5|       0.0|         0.0|        11.4|{1, [[[-74.01502,...|{1, [[[-73.994892...|{5, [[[-80.0, 35....|\n|      VTS|2009-12-11 23:31:00|2009-12-11 23:34:00|              5|         0.51|      -74.008582|      40.732705|        null|        -74.00919|       40.725968|        3.7|  0.5|    0.5|       0.0|         0.0|         4.7|{1, [[[-74.008582...|{1, [[[-74.00919,...|{5, [[[-80.0, 35....|\n|      VTS|2009-05-27 21:52:00|2009-05-27 21:56:00|              1|         0.63|      -73.989672|      40.733835|        null|        -73.98474|       40.741957|        4.5|  0.5|   null|       0.0|         0.0|         5.0|{1, [[[-73.989672...|{1, [[[-73.98474,...|{5, [[[-80.0, 35....|\n|      CMT|2009-05-26 15:16:42|2009-05-26 16:24:51|              1|         27.9|      -73.991329|      40.697427|        null|       -73.781919|       40.648625|       60.9|  0.0|   null|       0.0|         0.0|        60.9|{1, [[[-73.991329...|{1, [[[-73.781919...|{5, [[[-80.0, 35....|\n|      VTS|2009-09-25 12:08:00|2009-09-25 12:17:00|              1|         0.87|      -73.989922|      40.733165|        null|       -73.993095|       40.742483|        6.5|  0.0|   null|       1.0|         0.0|         7.5|{1, [[[-73.989922...|{1, [[[-73.993095...|{5, [[[-80.0, 35....|\n|      VTS|2009-12-08 18:48:00|2009-12-08 18:54:00|              5|         0.91|       -74.00138|      40.719952|        null|       -73.994322|       40.713878|        5.3|  1.0|    0.5|       0.0|         0.0|         6.8|{1, [[[-74.00138,...|{1, [[[-73.994322...|{5, [[[-80.0, 35....|\n|      VTS|2009-11-02 19:31:00|2009-11-02 19:47:00|              5|         3.08|      -73.993238|       40.72778|        null|       -73.991493|        40.76009|       10.9|  1.0|    0.5|       0.0|         0.0|        12.4|{1, [[[-73.993238...|{1, [[[-73.991493...|{5, [[[-80.0, 35....|\n|      DDS|2009-09-18 11:39:19|2009-09-18 11:54:20|              1|          0.3|      -74.008426|      40.716548|        null|       -74.014158|       40.706377|        5.3|  0.0|   null|       1.0|         0.0|         6.3|{1, [[[-74.008426...|{1, [[[-74.014158...|{5, [[[-80.0, 35....|\n|      VTS|2009-02-17 18:18:00|2009-02-17 18:38:00|              1|         2.75|       -73.99006|      40.727742|        null|       -73.984877|       40.758912|       12.5|  1.0|   null|       0.0|         0.0|        13.5|{1, [[[-73.99006,...|{1, [[[-73.984877...|{5, [[[-80.0, 35....|\n|      VTS|2009-05-22 09:49:00|2009-05-22 10:06:00|              5|         2.71|      -73.990288|      40.732973|        null|       -73.960995|        40.75682|       10.9|  0.0|   null|       2.0|         0.0|        12.9|{1, [[[-73.990288...|{1, [[[-73.960995...|{5, [[[-80.0, 35....|\n|      VTS|2009-05-07 18:25:00|2009-05-07 18:48:00|              1|         3.16|      -74.002703|       40.72366|        null|       -73.972418|       40.757082|       12.9|  1.0|   null|       0.0|         0.0|        13.9|{1, [[[-74.002703...|{1, [[[-73.972418...|{5, [[[-80.0, 35....|\n|      VTS|2009-12-07 19:28:00|2009-12-07 19:38:00|              1|         3.03|      -74.012817|      40.702353|        null|       -73.988808|       40.693315|        9.3|  1.0|    0.5|       0.0|         0.0|        10.8|{1, [[[-74.012817...|{1, [[[-73.988808...|{5, [[[-80.0, 35....|\n|      CMT|2009-12-02 15:21:45|2009-12-02 15:31:46|              1|          2.7|      -73.996832|      40.719208|        null|       -74.007177|       40.748432|        8.9|  0.0|    0.5|      1.41|         0.0|       10.81|{1, [[[-73.996832...|{1, [[[-74.007177...|{5, [[[-80.0, 35....|\n|      VTS|2009-05-02 12:56:00|2009-05-02 13:11:00|              1|          1.9|      -73.992958|      40.730755|        null|       -73.977313|       40.747047|        9.3|  0.0|   null|       0.0|         0.0|         9.3|{1, [[[-73.992958...|{1, [[[-73.977313...|{5, [[[-80.0, 35....|\n|      DDS|2009-05-04 14:48:28|2009-05-04 15:06:54|              2|          5.6|      -74.004991|      40.707614|        null|       -73.986253|       40.755365|       15.3|  0.0|   null|       0.0|         0.0|        15.3|{1, [[[-74.004991...|{1, [[[-73.986253...|{5, [[[-80.0, 35....|\n+---------+-------------------+-------------------+---------------+-------------+----------------+---------------+------------+-----------------+----------------+-----------+-----+-------+----------+------------+------------+--------------------+--------------------+--------------------+\nonly showing top 20 rows\n\n</div>",
       "datasetInfos": [],
       "metadata": {},
       "removedWidgets": [],
       "type": "html"
      }
     },
     "output_type": "display_data",
     "transient": null
    }
   ],
   "source": [
    "trips.show()"
   ]
  },
  {
   "cell_type": "markdown",
   "metadata": {
    "application/vnd.databricks.v1+cell": {
     "inputWidgets": {},
     "nuid": "c9353ac7-aa07-4d75-8b16-0031803ea31e",
     "showTitle": false,
     "title": ""
    }
   },
   "source": [
    "## Read from GeoJson, compute some basic geometry attributes"
   ]
  },
  {
   "cell_type": "markdown",
   "metadata": {
    "application/vnd.databricks.v1+cell": {
     "inputWidgets": {},
     "nuid": "db5daf84-fc48-45ce-81a7-5af76b7b6010",
     "showTitle": false,
     "title": ""
    }
   },
   "source": [
    "You've seen how Mosaic can create geometries from Spark native data types but it also provides functions to translate Well Known Text (WKT), Well Known Binary (WKB) and GeoJSON representations to Mosaic geometries."
   ]
  },
  {
   "cell_type": "code",
   "execution_count": 0,
   "metadata": {
    "application/vnd.databricks.v1+cell": {
     "inputWidgets": {},
     "nuid": "49505635-4e84-480e-9892-e3e816af2226",
     "showTitle": false,
     "title": ""
    }
   },
   "outputs": [
    {
     "data": {
      "text/html": [
       "<style scoped>\n",
       "  .ansiout {\n",
       "    display: block;\n",
       "    unicode-bidi: embed;\n",
       "    white-space: pre-wrap;\n",
       "    word-wrap: break-word;\n",
       "    word-break: break-all;\n",
       "    font-family: \"Source Code Pro\", \"Menlo\", monospace;;\n",
       "    font-size: 13px;\n",
       "    color: #555;\n",
       "    margin-left: 4px;\n",
       "    line-height: 19px;\n",
       "  }\n",
       "</style>\n",
       "<div class=\"ansiout\">+-------------+-----------+--------+--------------------+--------------------+\n",
       "      borough|location_id|objectid|                zone|            geometry|\n",
       "+-------------+-----------+--------+--------------------+--------------------+\n",
       "          EWR|          1|       1|      Newark Airport|{6, [[[-74.184452...|\n",
       "       Queens|          2|       2|         Jamaica Bay|{6, [[[-73.823375...|\n",
       "        Bronx|          3|       3|Allerton/Pelham G...|{6, [[[-73.847926...|\n",
       "    Manhattan|          4|       4|       Alphabet City|{6, [[[-73.971774...|\n",
       "Staten Island|          5|       5|       Arden Heights|{6, [[[-74.174217...|\n",
       "Staten Island|          6|       6|Arrochar/Fort Wad...|{6, [[[-74.063673...|\n",
       "       Queens|          7|       7|             Astoria|{6, [[[-73.904136...|\n",
       "       Queens|          8|       8|        Astoria Park|{6, [[[-73.923340...|\n",
       "       Queens|          9|       9|          Auburndale|{6, [[[-73.785024...|\n",
       "    Manhattan|         24|      24|        Bloomingdale|{6, [[[-73.959536...|\n",
       "       Queens|         10|      10|        Baisley Park|{6, [[[-73.783266...|\n",
       "     Brooklyn|         11|      11|          Bath Beach|{6, [[[-74.001098...|\n",
       "    Manhattan|         12|      12|        Battery Park|{6, [[[-74.015657...|\n",
       "    Manhattan|         13|      13|   Battery Park City|{6, [[[-74.012441...|\n",
       "        Bronx|         18|      18|        Bedford Park|{6, [[[-73.885139...|\n",
       "     Brooklyn|         25|      25|         Boerum Hill|{6, [[[-73.981552...|\n",
       "     Brooklyn|         14|      14|           Bay Ridge|{6, [[[-74.034073...|\n",
       "       Queens|         15|      15|Bay Terrace/Fort ...|{6, [[[-73.777403...|\n",
       "     Brooklyn|         22|      22|    Bensonhurst West|{6, [[[-73.992549...|\n",
       "Staten Island|         23|      23|Bloomfield/Emerso...|{6, [[[-74.195686...|\n",
       "+-------------+-----------+--------+--------------------+--------------------+\n",
       "only showing top 20 rows\n",
       "\n",
       "</div>"
      ]
     },
     "metadata": {
      "application/vnd.databricks.v1+output": {
       "addedWidgets": {},
       "arguments": {},
       "data": "<div class=\"ansiout\">+-------------+-----------+--------+--------------------+--------------------+\n|      borough|location_id|objectid|                zone|            geometry|\n+-------------+-----------+--------+--------------------+--------------------+\n|          EWR|          1|       1|      Newark Airport|{6, [[[-74.184452...|\n|       Queens|          2|       2|         Jamaica Bay|{6, [[[-73.823375...|\n|        Bronx|          3|       3|Allerton/Pelham G...|{6, [[[-73.847926...|\n|    Manhattan|          4|       4|       Alphabet City|{6, [[[-73.971774...|\n|Staten Island|          5|       5|       Arden Heights|{6, [[[-74.174217...|\n|Staten Island|          6|       6|Arrochar/Fort Wad...|{6, [[[-74.063673...|\n|       Queens|          7|       7|             Astoria|{6, [[[-73.904136...|\n|       Queens|          8|       8|        Astoria Park|{6, [[[-73.923340...|\n|       Queens|          9|       9|          Auburndale|{6, [[[-73.785024...|\n|    Manhattan|         24|      24|        Bloomingdale|{6, [[[-73.959536...|\n|       Queens|         10|      10|        Baisley Park|{6, [[[-73.783266...|\n|     Brooklyn|         11|      11|          Bath Beach|{6, [[[-74.001098...|\n|    Manhattan|         12|      12|        Battery Park|{6, [[[-74.015657...|\n|    Manhattan|         13|      13|   Battery Park City|{6, [[[-74.012441...|\n|        Bronx|         18|      18|        Bedford Park|{6, [[[-73.885139...|\n|     Brooklyn|         25|      25|         Boerum Hill|{6, [[[-73.981552...|\n|     Brooklyn|         14|      14|           Bay Ridge|{6, [[[-74.034073...|\n|       Queens|         15|      15|Bay Terrace/Fort ...|{6, [[[-73.777403...|\n|     Brooklyn|         22|      22|    Bensonhurst West|{6, [[[-73.992549...|\n|Staten Island|         23|      23|Bloomfield/Emerso...|{6, [[[-74.195686...|\n+-------------+-----------+--------+--------------------+--------------------+\nonly showing top 20 rows\n\n</div>",
       "datasetInfos": [],
       "metadata": {},
       "removedWidgets": [],
       "type": "html"
      }
     },
     "output_type": "display_data",
     "transient": null
    }
   ],
   "source": [
    "from mosaic import st_geomfromgeojson\n",
    "\n",
    "geoJsonDF = (\n",
    "  spark.read.format(\"json\")\n",
    "  .load(\"dbfs:/FileStore/shared_uploads/stuart.lynn@databricks.com/NYC_Taxi_Zones.geojson\")\n",
    "  .withColumn(\"geometry\", st_geomfromgeojson(to_json(col(\"geometry\"))))\n",
    "  .select(\"properties.*\", \"geometry\")\n",
    "  .drop(\"shape_area\", \"shape_leng\")\n",
    ")\n",
    "\n",
    "geoJsonDF.show()"
   ]
  },
  {
   "cell_type": "markdown",
   "metadata": {
    "application/vnd.databricks.v1+cell": {
     "inputWidgets": {},
     "nuid": "880c5fb4-c0b2-456b-9167-cb6327876dbd",
     "showTitle": false,
     "title": ""
    }
   },
   "source": [
    "Mosaic provides a number of functions for extracting the properties of geometries. Here are some that are relevant to Polygon geometries:"
   ]
  },
  {
   "cell_type": "code",
   "execution_count": 0,
   "metadata": {
    "application/vnd.databricks.v1+cell": {
     "inputWidgets": {},
     "nuid": "939d35fd-d868-4e73-8338-3cb8142fffe9",
     "showTitle": false,
     "title": ""
    }
   },
   "outputs": [
    {
     "data": {
      "text/html": [
       "<style scoped>\n",
       "  .ansiout {\n",
       "    display: block;\n",
       "    unicode-bidi: embed;\n",
       "    white-space: pre-wrap;\n",
       "    word-wrap: break-word;\n",
       "    word-break: break-all;\n",
       "    font-family: \"Source Code Pro\", \"Menlo\", monospace;;\n",
       "    font-size: 13px;\n",
       "    color: #555;\n",
       "    margin-left: 4px;\n",
       "    line-height: 19px;\n",
       "  }\n",
       "</style>\n",
       "<div class=\"ansiout\">+--------------------+--------------------+--------------------+\n",
       "            geometry|      calculatedArea|    calculatedLength|\n",
       "+--------------------+--------------------+--------------------+\n",
       "{6, [[[-74.184452...|7.823067885002562E-4|  0.1163574531886787|\n",
       "{6, [[[-73.823375...|0.001422779097814599|  0.8431218810128789|\n",
       "{6, [[[-73.847926...|3.144141568206508E-4| 0.08434110590105784|\n",
       "{6, [[[-73.971774...| 7.94539194214528E-5| 0.03559982116907461|\n",
       "{6, [[[-74.174217...|4.979574893632193E-4| 0.09214648985735088|\n",
       "{6, [[[-74.063673...|4.046076598541714E-4| 0.12905753305870837|\n",
       "{6, [[[-73.904136...|3.897879892739018...| 0.10741717112348065|\n",
       "{6, [[[-73.923340...|2.658771690499071...|0.027590691195158792|\n",
       "{6, [[[-73.785024...|3.384438031986125...|  0.0997840924710119|\n",
       "{6, [[[-73.959536...|4.193691000471793E-5|0.034022318280805826|\n",
       "{6, [[[-73.783266...|4.358238180810105...| 0.09983947941552027|\n",
       "{6, [[[-74.001098...|2.029913532381591E-4| 0.07243934539937844|\n",
       "{6, [[[-74.015657...|1.078595394871048...| 0.01759380786230351|\n",
       "{6, [[[-74.012441...|4.874002713725957E-5| 0.04726120195723124|\n",
       "{6, [[[-73.885139...|1.488501639473639E-4| 0.06979954985700013|\n",
       "{6, [[[-73.981552...|1.241682673558662...| 0.04714581993191898|\n",
       "{6, [[[-74.034073...|6.636590898190788E-4| 0.13622530962992194|\n",
       "{6, [[[-73.777403...|4.588438269978550...|  0.1295148763926726|\n",
       "{6, [[[-73.992549...|4.613649657988681...| 0.11844001178496774|\n",
       "{6, [[[-74.195686...|0.002090822778761513|  0.3007595308122533|\n",
       "+--------------------+--------------------+--------------------+\n",
       "only showing top 20 rows\n",
       "\n",
       "</div>"
      ]
     },
     "metadata": {
      "application/vnd.databricks.v1+output": {
       "addedWidgets": {},
       "arguments": {},
       "data": "<div class=\"ansiout\">+--------------------+--------------------+--------------------+\n|            geometry|      calculatedArea|    calculatedLength|\n+--------------------+--------------------+--------------------+\n|{6, [[[-74.184452...|7.823067885002562E-4|  0.1163574531886787|\n|{6, [[[-73.823375...|0.001422779097814599|  0.8431218810128789|\n|{6, [[[-73.847926...|3.144141568206508E-4| 0.08434110590105784|\n|{6, [[[-73.971774...| 7.94539194214528E-5| 0.03559982116907461|\n|{6, [[[-74.174217...|4.979574893632193E-4| 0.09214648985735088|\n|{6, [[[-74.063673...|4.046076598541714E-4| 0.12905753305870837|\n|{6, [[[-73.904136...|3.897879892739018...| 0.10741717112348065|\n|{6, [[[-73.923340...|2.658771690499071...|0.027590691195158792|\n|{6, [[[-73.785024...|3.384438031986125...|  0.0997840924710119|\n|{6, [[[-73.959536...|4.193691000471793E-5|0.034022318280805826|\n|{6, [[[-73.783266...|4.358238180810105...| 0.09983947941552027|\n|{6, [[[-74.001098...|2.029913532381591E-4| 0.07243934539937844|\n|{6, [[[-74.015657...|1.078595394871048...| 0.01759380786230351|\n|{6, [[[-74.012441...|4.874002713725957E-5| 0.04726120195723124|\n|{6, [[[-73.885139...|1.488501639473639E-4| 0.06979954985700013|\n|{6, [[[-73.981552...|1.241682673558662...| 0.04714581993191898|\n|{6, [[[-74.034073...|6.636590898190788E-4| 0.13622530962992194|\n|{6, [[[-73.777403...|4.588438269978550...|  0.1295148763926726|\n|{6, [[[-73.992549...|4.613649657988681...| 0.11844001178496774|\n|{6, [[[-74.195686...|0.002090822778761513|  0.3007595308122533|\n+--------------------+--------------------+--------------------+\nonly showing top 20 rows\n\n</div>",
       "datasetInfos": [],
       "metadata": {},
       "removedWidgets": [],
       "type": "html"
      }
     },
     "output_type": "display_data",
     "transient": null
    }
   ],
   "source": [
    "from mosaic import st_area, st_length\n",
    "(\n",
    "  geoJsonDF\n",
    "  .withColumn(\"calculatedArea\", abs(st_area(\"geometry\")))\n",
    "  .withColumn(\"calculatedLength\", st_length(\"geometry\"))\n",
    "  .select(\"geometry\", \"calculatedArea\", \"calculatedLength\")\n",
    ").show()"
   ]
  },
  {
   "cell_type": "code",
   "execution_count": 0,
   "metadata": {
    "application/vnd.databricks.v1+cell": {
     "inputWidgets": {},
     "nuid": "920599a2-6c52-40e4-8547-a99f757406a6",
     "showTitle": false,
     "title": ""
    }
   },
   "outputs": [
    {
     "data": {
      "text/html": [
       "<style scoped>\n",
       "  .ansiout {\n",
       "    display: block;\n",
       "    unicode-bidi: embed;\n",
       "    white-space: pre-wrap;\n",
       "    word-wrap: break-word;\n",
       "    word-break: break-all;\n",
       "    font-family: \"Source Code Pro\", \"Menlo\", monospace;;\n",
       "    font-size: 13px;\n",
       "    color: #555;\n",
       "    margin-left: 4px;\n",
       "    line-height: 19px;\n",
       "  }\n",
       "</style>\n",
       "<div class=\"ansiout\">Out[29]: 263</div>"
      ]
     },
     "metadata": {
      "application/vnd.databricks.v1+output": {
       "addedWidgets": {},
       "arguments": {},
       "data": "<div class=\"ansiout\">Out[29]: 263</div>",
       "datasetInfos": [],
       "metadata": {},
       "removedWidgets": [],
       "type": "html"
      }
     },
     "output_type": "display_data",
     "transient": null
    }
   ],
   "source": [
    "geoJsonDF.count()"
   ]
  },
  {
   "cell_type": "markdown",
   "metadata": {
    "application/vnd.databricks.v1+cell": {
     "inputWidgets": {},
     "nuid": "e0d34f66-7498-4a86-9dd3-b2664ebc535c",
     "showTitle": false,
     "title": ""
    }
   },
   "source": [
    "## Example point-in-poly with indexing"
   ]
  },
  {
   "cell_type": "markdown",
   "metadata": {
    "application/vnd.databricks.v1+cell": {
     "inputWidgets": {},
     "nuid": "cb687786-0494-468d-b2e4-dbe847ea887b",
     "showTitle": false,
     "title": ""
    }
   },
   "source": [
    "Mosaic has built-in support for the popular spatial indexing library, H3. The user has access to functions for generating point indices and the sets of indices covering polygons, allowing point-in-polygon joins to be transformed into deterministic SQL joins."
   ]
  },
  {
   "cell_type": "code",
   "execution_count": 0,
   "metadata": {
    "application/vnd.databricks.v1+cell": {
     "inputWidgets": {},
     "nuid": "0ef8a536-fda8-4a9a-a2e6-58ad0c39cc8b",
     "showTitle": false,
     "title": ""
    }
   },
   "outputs": [
    {
     "data": {
      "text/html": [
       "<style scoped>\n",
       "  .ansiout {\n",
       "    display: block;\n",
       "    unicode-bidi: embed;\n",
       "    white-space: pre-wrap;\n",
       "    word-wrap: break-word;\n",
       "    word-break: break-all;\n",
       "    font-family: \"Source Code Pro\", \"Menlo\", monospace;;\n",
       "    font-size: 13px;\n",
       "    color: #555;\n",
       "    margin-left: 4px;\n",
       "    line-height: 19px;\n",
       "  }\n",
       "</style>\n",
       "<div class=\"ansiout\">+---------+-------------------+-------------------+---------------+-------------+----------------+---------------+------------+-----------------+----------------+-----------+-----+-------+----------+------------+------------+--------------------+--------------------+--------------------+------------------+------------------+\n",
       "vendor_id|    pickup_datetime|   dropoff_datetime|passenger_count|trip_distance|pickup_longitude|pickup_latitude|rate_code_id|dropoff_longitude|dropoff_latitude|fare_amount|extra|mta_tax|tip_amount|tolls_amount|total_amount|         pickup_geom|        dropoff_geom|              bounds|         pickup_h3|        dropoff_h3|\n",
       "+---------+-------------------+-------------------+---------------+-------------+----------------+---------------+------------+-----------------+----------------+-----------+-----+-------+----------+------------+------------+--------------------+--------------------+--------------------+------------------+------------------+\n",
       "      CMT|2009-10-01 20:14:02|2009-10-01 20:25:12|              1|          1.0|      -73.995029|      40.731688|        null|       -74.009906|       40.734639|        7.3|  0.0|   null|       0.0|         0.0|         7.3|{1, [[[-73.995029...|{1, [[[-74.009906...|{5, [[[-80.0, 35....|622236750715715583|622236750524612607|\n",
       "      VTS|2009-12-13 20:44:00|2009-12-13 20:49:00|              1|         0.86|      -74.019097|      40.697303|        null|       -74.022585|       40.696682|        4.9|  0.5|    0.5|       0.0|         0.0|         5.9|{1, [[[-74.019097...|{1, [[[-74.022585...|{5, [[[-80.0, 35....|622236750646149119|622236750645264383|\n",
       "      VTS|2009-02-25 03:09:00|2009-02-25 03:34:00|              3|          9.4|      -74.003012|      40.733308|        null|       -73.879022|       40.756157|       23.7|  0.5|   null|       0.0|         0.0|        24.2|{1, [[[-74.003012...|{1, [[[-73.879022...|{5, [[[-80.0, 35....|622236750719352831|622236723948191743|\n",
       "      CMT|2009-01-26 20:17:32|2009-01-26 20:25:09|              1|          0.8|      -73.998275|      40.725061|        null|       -73.988168|       40.721215|        6.6|  0.0|   null|       0.0|         0.0|         6.6|{1, [[[-73.998275...|{1, [[[-73.988168...|{5, [[[-80.0, 35....|622236750706835455|622236750717485055|\n",
       "      VTS|2009-10-29 15:23:00|2009-10-29 15:35:00|              5|         1.36|      -73.990315|      40.734607|        null|       -73.996838|       40.747757|        7.7|  0.0|   null|       2.0|         0.0|         9.7|{1, [[[-73.990315...|{1, [[[-73.996838...|{5, [[[-80.0, 35....|622236723428556799|622236723431309311|\n",
       "      VTS|2010-06-02 12:57:00|2010-06-02 13:10:00|              1|         3.25|       -74.01502|      40.713953|           1|       -73.994892|        40.75023|       10.9|  0.0|    0.5|       0.0|         0.0|        11.4|{1, [[[-74.01502,...|{1, [[[-73.994892...|{5, [[[-80.0, 35....|622236750652309503|622236723439173631|\n",
       "      VTS|2009-12-11 23:31:00|2009-12-11 23:34:00|              5|         0.51|      -74.008582|      40.732705|        null|        -74.00919|       40.725968|        3.7|  0.5|    0.5|       0.0|         0.0|         4.7|{1, [[[-74.008582...|{1, [[[-74.00919,...|{5, [[[-80.0, 35....|622236750524645375|622236750711193599|\n",
       "      VTS|2009-05-27 21:52:00|2009-05-27 21:56:00|              1|         0.63|      -73.989672|      40.733835|        null|        -73.98474|       40.741957|        4.5|  0.5|   null|       0.0|         0.0|         5.0|{1, [[[-73.989672...|{1, [[[-73.98474,...|{5, [[[-80.0, 35....|622236723428491263|622236723427246079|\n",
       "      CMT|2009-05-26 15:16:42|2009-05-26 16:24:51|              1|         27.9|      -73.991329|      40.697427|        null|       -73.781919|       40.648625|       60.9|  0.0|   null|       0.0|         0.0|        60.9|{1, [[[-73.991329...|{1, [[[-73.781919...|{5, [[[-80.0, 35....|622236750729084927|622236735751716863|\n",
       "      VTS|2009-09-25 12:08:00|2009-09-25 12:17:00|              1|         0.87|      -73.989922|      40.733165|        null|       -73.993095|       40.742483|        6.5|  0.0|   null|       1.0|         0.0|         7.5|{1, [[[-73.989922...|{1, [[[-73.993095...|{5, [[[-80.0, 35....|622236723428589567|622236723426459647|\n",
       "      VTS|2009-12-08 18:48:00|2009-12-08 18:54:00|              5|         0.91|       -74.00138|      40.719952|        null|       -73.994322|       40.713878|        5.3|  1.0|    0.5|       0.0|         0.0|         6.8|{1, [[[-74.00138,...|{1, [[[-73.994322...|{5, [[[-80.0, 35....|622236750705983487|622236750709063679|\n",
       "      VTS|2009-11-02 19:31:00|2009-11-02 19:47:00|              5|         3.08|      -73.993238|       40.72778|        null|       -73.991493|        40.76009|       10.9|  1.0|    0.5|       0.0|         0.0|        12.4|{1, [[[-73.993238...|{1, [[[-73.991493...|{5, [[[-80.0, 35....|622236750714044415|622236750599815167|\n",
       "      DDS|2009-09-18 11:39:19|2009-09-18 11:54:20|              1|          0.3|      -74.008426|      40.716548|        null|       -74.014158|       40.706377|        5.3|  0.0|   null|       1.0|         0.0|         6.3|{1, [[[-74.008426...|{1, [[[-74.014158...|{5, [[[-80.0, 35....|622236750712373247|622236750639562751|\n",
       "      VTS|2009-02-17 18:18:00|2009-02-17 18:38:00|              1|         2.75|       -73.99006|      40.727742|        null|       -73.984877|       40.758912|       12.5|  1.0|   null|       0.0|         0.0|        13.5|{1, [[[-73.99006,...|{1, [[[-73.984877...|{5, [[[-80.0, 35....|622236750715420671|622236723501039615|\n",
       "      VTS|2009-05-22 09:49:00|2009-05-22 10:06:00|              5|         2.71|      -73.990288|      40.732973|        null|       -73.960995|        40.75682|       10.9|  0.0|   null|       2.0|         0.0|        12.9|{1, [[[-73.990288...|{1, [[[-73.960995...|{5, [[[-80.0, 35....|622236723428589567|622236723503923199|\n",
       "      VTS|2009-05-07 18:25:00|2009-05-07 18:48:00|              1|         3.16|      -74.002703|       40.72366|        null|       -73.972418|       40.757082|       12.9|  1.0|   null|       0.0|         0.0|        13.9|{1, [[[-74.002703...|{1, [[[-73.972418...|{5, [[[-80.0, 35....|622236750705688575|622236723493339135|\n",
       "      VTS|2009-12-07 19:28:00|2009-12-07 19:38:00|              1|         3.03|      -74.012817|      40.702353|        null|       -73.988808|       40.693315|        9.3|  1.0|    0.5|       0.0|         0.0|        10.8|{1, [[[-74.012817...|{1, [[[-73.988808...|{5, [[[-80.0, 35....|622236750638907391|622236750664761343|\n",
       "      CMT|2009-12-02 15:21:45|2009-12-02 15:31:46|              1|          2.7|      -73.996832|      40.719208|        null|       -74.007177|       40.748432|        8.9|  0.0|    0.5|      1.41|         0.0|       10.81|{1, [[[-73.996832...|{1, [[[-74.007177...|{5, [[[-80.0, 35....|622236750708965375|622236750530543615|\n",
       "      VTS|2009-05-02 12:56:00|2009-05-02 13:11:00|              1|          1.9|      -73.992958|      40.730755|        null|       -73.977313|       40.747047|        9.3|  0.0|   null|       0.0|         0.0|         9.3|{1, [[[-73.992958...|{1, [[[-73.977313...|{5, [[[-80.0, 35....|622236750715158527|622236723434422271|\n",
       "      DDS|2009-05-04 14:48:28|2009-05-04 15:06:54|              2|          5.6|      -74.004991|      40.707614|        null|       -73.986253|       40.755365|       15.3|  0.0|   null|       0.0|         0.0|        15.3|{1, [[[-74.004991...|{1, [[[-73.986253...|{5, [[[-80.0, 35....|622236750647295999|622236723499794431|\n",
       "+---------+-------------------+-------------------+---------------+-------------+----------------+---------------+------------+-----------------+----------------+-----------+-----+-------+----------+------------+------------+--------------------+--------------------+--------------------+------------------+------------------+\n",
       "only showing top 20 rows\n",
       "\n",
       "</div>"
      ]
     },
     "metadata": {
      "application/vnd.databricks.v1+output": {
       "addedWidgets": {},
       "arguments": {},
       "data": "<div class=\"ansiout\">+---------+-------------------+-------------------+---------------+-------------+----------------+---------------+------------+-----------------+----------------+-----------+-----+-------+----------+------------+------------+--------------------+--------------------+--------------------+------------------+------------------+\n|vendor_id|    pickup_datetime|   dropoff_datetime|passenger_count|trip_distance|pickup_longitude|pickup_latitude|rate_code_id|dropoff_longitude|dropoff_latitude|fare_amount|extra|mta_tax|tip_amount|tolls_amount|total_amount|         pickup_geom|        dropoff_geom|              bounds|         pickup_h3|        dropoff_h3|\n+---------+-------------------+-------------------+---------------+-------------+----------------+---------------+------------+-----------------+----------------+-----------+-----+-------+----------+------------+------------+--------------------+--------------------+--------------------+------------------+------------------+\n|      CMT|2009-10-01 20:14:02|2009-10-01 20:25:12|              1|          1.0|      -73.995029|      40.731688|        null|       -74.009906|       40.734639|        7.3|  0.0|   null|       0.0|         0.0|         7.3|{1, [[[-73.995029...|{1, [[[-74.009906...|{5, [[[-80.0, 35....|622236750715715583|622236750524612607|\n|      VTS|2009-12-13 20:44:00|2009-12-13 20:49:00|              1|         0.86|      -74.019097|      40.697303|        null|       -74.022585|       40.696682|        4.9|  0.5|    0.5|       0.0|         0.0|         5.9|{1, [[[-74.019097...|{1, [[[-74.022585...|{5, [[[-80.0, 35....|622236750646149119|622236750645264383|\n|      VTS|2009-02-25 03:09:00|2009-02-25 03:34:00|              3|          9.4|      -74.003012|      40.733308|        null|       -73.879022|       40.756157|       23.7|  0.5|   null|       0.0|         0.0|        24.2|{1, [[[-74.003012...|{1, [[[-73.879022...|{5, [[[-80.0, 35....|622236750719352831|622236723948191743|\n|      CMT|2009-01-26 20:17:32|2009-01-26 20:25:09|              1|          0.8|      -73.998275|      40.725061|        null|       -73.988168|       40.721215|        6.6|  0.0|   null|       0.0|         0.0|         6.6|{1, [[[-73.998275...|{1, [[[-73.988168...|{5, [[[-80.0, 35....|622236750706835455|622236750717485055|\n|      VTS|2009-10-29 15:23:00|2009-10-29 15:35:00|              5|         1.36|      -73.990315|      40.734607|        null|       -73.996838|       40.747757|        7.7|  0.0|   null|       2.0|         0.0|         9.7|{1, [[[-73.990315...|{1, [[[-73.996838...|{5, [[[-80.0, 35....|622236723428556799|622236723431309311|\n|      VTS|2010-06-02 12:57:00|2010-06-02 13:10:00|              1|         3.25|       -74.01502|      40.713953|           1|       -73.994892|        40.75023|       10.9|  0.0|    0.5|       0.0|         0.0|        11.4|{1, [[[-74.01502,...|{1, [[[-73.994892...|{5, [[[-80.0, 35....|622236750652309503|622236723439173631|\n|      VTS|2009-12-11 23:31:00|2009-12-11 23:34:00|              5|         0.51|      -74.008582|      40.732705|        null|        -74.00919|       40.725968|        3.7|  0.5|    0.5|       0.0|         0.0|         4.7|{1, [[[-74.008582...|{1, [[[-74.00919,...|{5, [[[-80.0, 35....|622236750524645375|622236750711193599|\n|      VTS|2009-05-27 21:52:00|2009-05-27 21:56:00|              1|         0.63|      -73.989672|      40.733835|        null|        -73.98474|       40.741957|        4.5|  0.5|   null|       0.0|         0.0|         5.0|{1, [[[-73.989672...|{1, [[[-73.98474,...|{5, [[[-80.0, 35....|622236723428491263|622236723427246079|\n|      CMT|2009-05-26 15:16:42|2009-05-26 16:24:51|              1|         27.9|      -73.991329|      40.697427|        null|       -73.781919|       40.648625|       60.9|  0.0|   null|       0.0|         0.0|        60.9|{1, [[[-73.991329...|{1, [[[-73.781919...|{5, [[[-80.0, 35....|622236750729084927|622236735751716863|\n|      VTS|2009-09-25 12:08:00|2009-09-25 12:17:00|              1|         0.87|      -73.989922|      40.733165|        null|       -73.993095|       40.742483|        6.5|  0.0|   null|       1.0|         0.0|         7.5|{1, [[[-73.989922...|{1, [[[-73.993095...|{5, [[[-80.0, 35....|622236723428589567|622236723426459647|\n|      VTS|2009-12-08 18:48:00|2009-12-08 18:54:00|              5|         0.91|       -74.00138|      40.719952|        null|       -73.994322|       40.713878|        5.3|  1.0|    0.5|       0.0|         0.0|         6.8|{1, [[[-74.00138,...|{1, [[[-73.994322...|{5, [[[-80.0, 35....|622236750705983487|622236750709063679|\n|      VTS|2009-11-02 19:31:00|2009-11-02 19:47:00|              5|         3.08|      -73.993238|       40.72778|        null|       -73.991493|        40.76009|       10.9|  1.0|    0.5|       0.0|         0.0|        12.4|{1, [[[-73.993238...|{1, [[[-73.991493...|{5, [[[-80.0, 35....|622236750714044415|622236750599815167|\n|      DDS|2009-09-18 11:39:19|2009-09-18 11:54:20|              1|          0.3|      -74.008426|      40.716548|        null|       -74.014158|       40.706377|        5.3|  0.0|   null|       1.0|         0.0|         6.3|{1, [[[-74.008426...|{1, [[[-74.014158...|{5, [[[-80.0, 35....|622236750712373247|622236750639562751|\n|      VTS|2009-02-17 18:18:00|2009-02-17 18:38:00|              1|         2.75|       -73.99006|      40.727742|        null|       -73.984877|       40.758912|       12.5|  1.0|   null|       0.0|         0.0|        13.5|{1, [[[-73.99006,...|{1, [[[-73.984877...|{5, [[[-80.0, 35....|622236750715420671|622236723501039615|\n|      VTS|2009-05-22 09:49:00|2009-05-22 10:06:00|              5|         2.71|      -73.990288|      40.732973|        null|       -73.960995|        40.75682|       10.9|  0.0|   null|       2.0|         0.0|        12.9|{1, [[[-73.990288...|{1, [[[-73.960995...|{5, [[[-80.0, 35....|622236723428589567|622236723503923199|\n|      VTS|2009-05-07 18:25:00|2009-05-07 18:48:00|              1|         3.16|      -74.002703|       40.72366|        null|       -73.972418|       40.757082|       12.9|  1.0|   null|       0.0|         0.0|        13.9|{1, [[[-74.002703...|{1, [[[-73.972418...|{5, [[[-80.0, 35....|622236750705688575|622236723493339135|\n|      VTS|2009-12-07 19:28:00|2009-12-07 19:38:00|              1|         3.03|      -74.012817|      40.702353|        null|       -73.988808|       40.693315|        9.3|  1.0|    0.5|       0.0|         0.0|        10.8|{1, [[[-74.012817...|{1, [[[-73.988808...|{5, [[[-80.0, 35....|622236750638907391|622236750664761343|\n|      CMT|2009-12-02 15:21:45|2009-12-02 15:31:46|              1|          2.7|      -73.996832|      40.719208|        null|       -74.007177|       40.748432|        8.9|  0.0|    0.5|      1.41|         0.0|       10.81|{1, [[[-73.996832...|{1, [[[-74.007177...|{5, [[[-80.0, 35....|622236750708965375|622236750530543615|\n|      VTS|2009-05-02 12:56:00|2009-05-02 13:11:00|              1|          1.9|      -73.992958|      40.730755|        null|       -73.977313|       40.747047|        9.3|  0.0|   null|       0.0|         0.0|         9.3|{1, [[[-73.992958...|{1, [[[-73.977313...|{5, [[[-80.0, 35....|622236750715158527|622236723434422271|\n|      DDS|2009-05-04 14:48:28|2009-05-04 15:06:54|              2|          5.6|      -74.004991|      40.707614|        null|       -73.986253|       40.755365|       15.3|  0.0|   null|       0.0|         0.0|        15.3|{1, [[[-74.004991...|{1, [[[-73.986253...|{5, [[[-80.0, 35....|622236750647295999|622236723499794431|\n+---------+-------------------+-------------------+---------------+-------------+----------------+---------------+------------+-----------------+----------------+-----------+-----+-------+----------+------------+------------+--------------------+--------------------+--------------------+------------------+------------------+\nonly showing top 20 rows\n\n</div>",
       "datasetInfos": [],
       "metadata": {},
       "removedWidgets": [],
       "type": "html"
      }
     },
     "output_type": "display_data",
     "transient": null
    }
   ],
   "source": [
    "from mosaic import point_index\n",
    "\n",
    "trips_with_geom = (\n",
    "  trips\n",
    "  .withColumn(\"pickup_h3\", point_index(lng=\"pickup_longitude\", lat=\"pickup_latitude\", resolution=lit(10)))\n",
    "  .withColumn(\"dropoff_h3\", point_index(lng=\"dropoff_longitude\", lat=\"dropoff_latitude\", resolution=lit(10)))\n",
    ")\n",
    "\n",
    "trips_with_geom.show()"
   ]
  },
  {
   "cell_type": "code",
   "execution_count": 0,
   "metadata": {
    "application/vnd.databricks.v1+cell": {
     "inputWidgets": {},
     "nuid": "21627a45-71e0-4286-907b-94de6f04ec43",
     "showTitle": false,
     "title": ""
    }
   },
   "outputs": [
    {
     "data": {
      "text/html": [
       "<style scoped>\n",
       "  .ansiout {\n",
       "    display: block;\n",
       "    unicode-bidi: embed;\n",
       "    white-space: pre-wrap;\n",
       "    word-wrap: break-word;\n",
       "    word-break: break-all;\n",
       "    font-family: \"Source Code Pro\", \"Menlo\", monospace;;\n",
       "    font-size: 13px;\n",
       "    color: #555;\n",
       "    margin-left: 4px;\n",
       "    line-height: 19px;\n",
       "  }\n",
       "</style>\n",
       "<div class=\"ansiout\">+-------+-----------+--------+--------------------+------------------+\n",
       "borough|location_id|objectid|                zone|                h3|\n",
       "+-------+-----------+--------+--------------------+------------------+\n",
       " Queens|        207|     207|Saint Michaels Ce...|622236723991183359|\n",
       " Queens|        207|     207|Saint Michaels Ce...|622236723989315583|\n",
       " Queens|        207|     207|Saint Michaels Ce...|622236723950878719|\n",
       " Queens|        207|     207|Saint Michaels Ce...|622236723988201471|\n",
       " Queens|        207|     207|Saint Michaels Ce...|622236723991216127|\n",
       " Queens|        207|     207|Saint Michaels Ce...|622236723991248895|\n",
       " Queens|        207|     207|Saint Michaels Ce...|622236723990134783|\n",
       " Queens|        207|     207|Saint Michaels Ce...|622236723990167551|\n",
       " Queens|        207|     207|Saint Michaels Ce...|622236723950223359|\n",
       " Queens|        207|     207|Saint Michaels Ce...|622236723988299775|\n",
       " Queens|        207|     207|Saint Michaels Ce...|622236723950256127|\n",
       " Queens|        207|     207|Saint Michaels Ce...|622236723951009791|\n",
       " Queens|        207|     207|Saint Michaels Ce...|622236723988332543|\n",
       " Queens|        207|     207|Saint Michaels Ce...|622236723951042559|\n",
       " Queens|        207|     207|Saint Michaels Ce...|622236723991379967|\n",
       " Queens|        207|     207|Saint Michaels Ce...|622236723950682111|\n",
       " Queens|        207|     207|Saint Michaels Ce...|622236723950714879|\n",
       " Queens|        207|     207|Saint Michaels Ce...|622236723991052287|\n",
       " Queens|        207|     207|Saint Michaels Ce...|622236723950747647|\n",
       " Queens|        207|     207|Saint Michaels Ce...|622236723991085055|\n",
       "+-------+-----------+--------+--------------------+------------------+\n",
       "only showing top 20 rows\n",
       "\n",
       "</div>"
      ]
     },
     "metadata": {
      "application/vnd.databricks.v1+output": {
       "addedWidgets": {},
       "arguments": {},
       "data": "<div class=\"ansiout\">+-------+-----------+--------+--------------------+------------------+\n|borough|location_id|objectid|                zone|                h3|\n+-------+-----------+--------+--------------------+------------------+\n| Queens|        207|     207|Saint Michaels Ce...|622236723991183359|\n| Queens|        207|     207|Saint Michaels Ce...|622236723989315583|\n| Queens|        207|     207|Saint Michaels Ce...|622236723950878719|\n| Queens|        207|     207|Saint Michaels Ce...|622236723988201471|\n| Queens|        207|     207|Saint Michaels Ce...|622236723991216127|\n| Queens|        207|     207|Saint Michaels Ce...|622236723991248895|\n| Queens|        207|     207|Saint Michaels Ce...|622236723990134783|\n| Queens|        207|     207|Saint Michaels Ce...|622236723990167551|\n| Queens|        207|     207|Saint Michaels Ce...|622236723950223359|\n| Queens|        207|     207|Saint Michaels Ce...|622236723988299775|\n| Queens|        207|     207|Saint Michaels Ce...|622236723950256127|\n| Queens|        207|     207|Saint Michaels Ce...|622236723951009791|\n| Queens|        207|     207|Saint Michaels Ce...|622236723988332543|\n| Queens|        207|     207|Saint Michaels Ce...|622236723951042559|\n| Queens|        207|     207|Saint Michaels Ce...|622236723991379967|\n| Queens|        207|     207|Saint Michaels Ce...|622236723950682111|\n| Queens|        207|     207|Saint Michaels Ce...|622236723950714879|\n| Queens|        207|     207|Saint Michaels Ce...|622236723991052287|\n| Queens|        207|     207|Saint Michaels Ce...|622236723950747647|\n| Queens|        207|     207|Saint Michaels Ce...|622236723991085055|\n+-------+-----------+--------+--------------------+------------------+\nonly showing top 20 rows\n\n</div>",
       "datasetInfos": [],
       "metadata": {},
       "removedWidgets": [],
       "type": "html"
      }
     },
     "output_type": "display_data",
     "transient": null
    }
   ],
   "source": [
    "from mosaic import polyfill\n",
    "\n",
    "neighbourhoods = (\n",
    "  geoJsonDF\n",
    "  .repartition(sc.defaultParallelism)\n",
    "  .select(\"*\", explode(polyfill(\"geometry\", lit(10))).alias(\"h3\"))\n",
    "  .drop(\"geometry\")\n",
    ")\n",
    "\n",
    "neighbourhoods.show()"
   ]
  },
  {
   "cell_type": "code",
   "execution_count": 0,
   "metadata": {
    "application/vnd.databricks.v1+cell": {
     "inputWidgets": {},
     "nuid": "c3e68351-52d4-4a8b-8ce6-4898dedd0ecc",
     "showTitle": false,
     "title": ""
    }
   },
   "outputs": [
    {
     "data": {
      "text/html": [
       "<style scoped>\n",
       "  .ansiout {\n",
       "    display: block;\n",
       "    unicode-bidi: embed;\n",
       "    white-space: pre-wrap;\n",
       "    word-wrap: break-word;\n",
       "    word-break: break-all;\n",
       "    font-family: \"Source Code Pro\", \"Menlo\", monospace;;\n",
       "    font-size: 13px;\n",
       "    color: #555;\n",
       "    margin-left: 4px;\n",
       "    line-height: 19px;\n",
       "  }\n",
       "</style>\n",
       "<div class=\"ansiout\">Out[32]: 4934121</div>"
      ]
     },
     "metadata": {
      "application/vnd.databricks.v1+output": {
       "addedWidgets": {},
       "arguments": {},
       "data": "<div class=\"ansiout\">Out[32]: 4934121</div>",
       "datasetInfos": [],
       "metadata": {},
       "removedWidgets": [],
       "type": "html"
      }
     },
     "output_type": "display_data",
     "transient": null
    }
   ],
   "source": [
    "joined_df = trips_with_geom.alias(\"t\").join(neighbourhoods.alias(\"n\"), on=expr(\"t.pickup_h3 = n.h3\"), how=\"inner\")\n",
    "joined_df.count()"
   ]
  },
  {
   "cell_type": "markdown",
   "metadata": {
    "application/vnd.databricks.v1+cell": {
     "inputWidgets": {},
     "nuid": "c4fb8772-94b2-4fbe-aaf9-6e261609b009",
     "showTitle": false,
     "title": ""
    }
   },
   "source": [
    "## Mosaic spatial join optimizations"
   ]
  },
  {
   "cell_type": "markdown",
   "metadata": {
    "application/vnd.databricks.v1+cell": {
     "inputWidgets": {},
     "nuid": "c7696c95-820a-434e-9535-48807e1fb27c",
     "showTitle": false,
     "title": ""
    }
   },
   "source": [
    "Mosaic provides easy access to the optimized spatial join technique described in [this](https://databricks.com/blog/2021/10/11/efficient-point-in-polygon-joins-via-pyspark-and-bng-geospatial-indexing.html) blog post."
   ]
  },
  {
   "cell_type": "markdown",
   "metadata": {
    "application/vnd.databricks.v1+cell": {
     "inputWidgets": {},
     "nuid": "50bbf6cd-6654-4e73-8a35-210d135501b7",
     "showTitle": false,
     "title": ""
    }
   },
   "source": [
    "(this step is required due to incompatibility between Databricks Runtime and open source Spark)"
   ]
  },
  {
   "cell_type": "code",
   "execution_count": 0,
   "metadata": {
    "application/vnd.databricks.v1+cell": {
     "inputWidgets": {},
     "nuid": "266e9121-748f-410c-a6aa-bddbb6ee4351",
     "showTitle": false,
     "title": ""
    }
   },
   "outputs": [
    {
     "data": {
      "text/html": [
       "<style scoped>\n",
       "  .ansiout {\n",
       "    display: block;\n",
       "    unicode-bidi: embed;\n",
       "    white-space: pre-wrap;\n",
       "    word-wrap: break-word;\n",
       "    word-break: break-all;\n",
       "    font-family: \"Source Code Pro\", \"Menlo\", monospace;;\n",
       "    font-size: 13px;\n",
       "    color: #555;\n",
       "    margin-left: 4px;\n",
       "    line-height: 19px;\n",
       "  }\n",
       "</style>\n",
       "<div class=\"ansiout\">\n",
       "</div>"
      ]
     },
     "metadata": {
      "application/vnd.databricks.v1+output": {
       "addedWidgets": {},
       "arguments": {},
       "data": "<div class=\"ansiout\">\n</div>",
       "datasetInfos": [],
       "metadata": {},
       "removedWidgets": [],
       "type": "html"
      }
     },
     "output_type": "display_data",
     "transient": null
    }
   ],
   "source": [
    "%run ../GeneratorsHotfix"
   ]
  },
  {
   "cell_type": "code",
   "execution_count": 0,
   "metadata": {
    "application/vnd.databricks.v1+cell": {
     "inputWidgets": {},
     "nuid": "1319c9ca-149c-4208-8512-f035ffff467b",
     "showTitle": false,
     "title": ""
    }
   },
   "outputs": [
    {
     "data": {
      "text/html": [
       "<style scoped>\n",
       "  .ansiout {\n",
       "    display: block;\n",
       "    unicode-bidi: embed;\n",
       "    white-space: pre-wrap;\n",
       "    word-wrap: break-word;\n",
       "    word-break: break-all;\n",
       "    font-family: \"Source Code Pro\", \"Menlo\", monospace;;\n",
       "    font-size: 13px;\n",
       "    color: #555;\n",
       "    margin-left: 4px;\n",
       "    line-height: 19px;\n",
       "  }\n",
       "</style>\n",
       "<div class=\"ansiout\">+-------+-----------+--------+--------------------+-------+------------------+--------------------+\n",
       "borough|location_id|objectid|                zone|is_core|                h3|                 wkb|\n",
       "+-------+-----------+--------+--------------------+-------+------------------+--------------------+\n",
       " Queens|        207|     207|Saint Michaels Ce...|   true|622236723950682111|                null|\n",
       " Queens|        207|     207|Saint Michaels Ce...|   true|622236723950845951|                null|\n",
       " Queens|        207|     207|Saint Michaels Ce...|   true|622236723951009791|                null|\n",
       " Queens|        207|     207|Saint Michaels Ce...|   true|622236723988332543|                null|\n",
       " Queens|        207|     207|Saint Michaels Ce...|   true|622236723950780415|                null|\n",
       " Queens|        207|     207|Saint Michaels Ce...|   true|622236723991085055|                null|\n",
       " Queens|        207|     207|Saint Michaels Ce...|   true|622236723991248895|                null|\n",
       " Queens|        207|     207|Saint Michaels Ce...|   true|622236723950714879|                null|\n",
       " Queens|        207|     207|Saint Michaels Ce...|   true|622236723991183359|                null|\n",
       " Queens|        207|     207|Saint Michaels Ce...|   true|622236723988299775|                null|\n",
       " Queens|        207|     207|Saint Michaels Ce...|   true|622236723950747647|                null|\n",
       " Queens|        207|     207|Saint Michaels Ce...|   true|622236723991052287|                null|\n",
       " Queens|        207|     207|Saint Michaels Ce...|   true|622236723991216127|                null|\n",
       " Queens|        207|     207|Saint Michaels Ce...|  false|622236723991379967|[01 03 00 00 00 0...|\n",
       " Queens|        207|     207|Saint Michaels Ce...|  false|622236723951140863|[01 03 00 00 00 0...|\n",
       " Queens|        207|     207|Saint Michaels Ce...|  false|622236723990167551|[01 03 00 00 00 0...|\n",
       " Queens|        207|     207|Saint Michaels Ce...|  false|622236723991117823|[01 03 00 00 00 0...|\n",
       " Queens|        207|     207|Saint Michaels Ce...|  false|622236723950288895|[01 03 00 00 00 0...|\n",
       " Queens|        207|     207|Saint Michaels Ce...|  false|622236723988365311|[01 03 00 00 00 0...|\n",
       " Queens|        207|     207|Saint Michaels Ce...|  false|622236723950878719|[01 03 00 00 00 0...|\n",
       "+-------+-----------+--------+--------------------+-------+------------------+--------------------+\n",
       "only showing top 20 rows\n",
       "\n",
       "</div>"
      ]
     },
     "metadata": {
      "application/vnd.databricks.v1+output": {
       "addedWidgets": {},
       "arguments": {},
       "data": "<div class=\"ansiout\">+-------+-----------+--------+--------------------+-------+------------------+--------------------+\n|borough|location_id|objectid|                zone|is_core|                h3|                 wkb|\n+-------+-----------+--------+--------------------+-------+------------------+--------------------+\n| Queens|        207|     207|Saint Michaels Ce...|   true|622236723950682111|                null|\n| Queens|        207|     207|Saint Michaels Ce...|   true|622236723950845951|                null|\n| Queens|        207|     207|Saint Michaels Ce...|   true|622236723951009791|                null|\n| Queens|        207|     207|Saint Michaels Ce...|   true|622236723988332543|                null|\n| Queens|        207|     207|Saint Michaels Ce...|   true|622236723950780415|                null|\n| Queens|        207|     207|Saint Michaels Ce...|   true|622236723991085055|                null|\n| Queens|        207|     207|Saint Michaels Ce...|   true|622236723991248895|                null|\n| Queens|        207|     207|Saint Michaels Ce...|   true|622236723950714879|                null|\n| Queens|        207|     207|Saint Michaels Ce...|   true|622236723991183359|                null|\n| Queens|        207|     207|Saint Michaels Ce...|   true|622236723988299775|                null|\n| Queens|        207|     207|Saint Michaels Ce...|   true|622236723950747647|                null|\n| Queens|        207|     207|Saint Michaels Ce...|   true|622236723991052287|                null|\n| Queens|        207|     207|Saint Michaels Ce...|   true|622236723991216127|                null|\n| Queens|        207|     207|Saint Michaels Ce...|  false|622236723991379967|[01 03 00 00 00 0...|\n| Queens|        207|     207|Saint Michaels Ce...|  false|622236723951140863|[01 03 00 00 00 0...|\n| Queens|        207|     207|Saint Michaels Ce...|  false|622236723990167551|[01 03 00 00 00 0...|\n| Queens|        207|     207|Saint Michaels Ce...|  false|622236723991117823|[01 03 00 00 00 0...|\n| Queens|        207|     207|Saint Michaels Ce...|  false|622236723950288895|[01 03 00 00 00 0...|\n| Queens|        207|     207|Saint Michaels Ce...|  false|622236723988365311|[01 03 00 00 00 0...|\n| Queens|        207|     207|Saint Michaels Ce...|  false|622236723950878719|[01 03 00 00 00 0...|\n+-------+-----------+--------+--------------------+-------+------------------+--------------------+\nonly showing top 20 rows\n\n</div>",
       "datasetInfos": [],
       "metadata": {},
       "removedWidgets": [],
       "type": "html"
      }
     },
     "output_type": "display_data",
     "transient": null
    }
   ],
   "source": [
    "from mosaic.patch import mosaic_explode\n",
    "\n",
    "mosaic_neighbourhoods = (\n",
    "  geoJsonDF\n",
    "  .repartition(sc.defaultParallelism)\n",
    "  .select(\"*\", mosaic_explode(\"geometry\", lit(10)))\n",
    "  .drop(\"geometry\")\n",
    ")\n",
    "\n",
    "mosaic_neighbourhoods.show()"
   ]
  },
  {
   "cell_type": "markdown",
   "metadata": {
    "application/vnd.databricks.v1+cell": {
     "inputWidgets": {},
     "nuid": "11933dab-085c-4503-8ba1-06365caa335c",
     "showTitle": false,
     "title": ""
    }
   },
   "source": [
    "Now the two datasets can be joined first on H3 index, with any false positives removed through a contains filter on a much simpler geometry."
   ]
  },
  {
   "cell_type": "code",
   "execution_count": 0,
   "metadata": {
    "application/vnd.databricks.v1+cell": {
     "inputWidgets": {},
     "nuid": "98514998-1fe7-4a0c-b4f9-eebf38fb9d81",
     "showTitle": false,
     "title": ""
    }
   },
   "outputs": [
    {
     "data": {
      "text/html": [
       "<style scoped>\n",
       "  .ansiout {\n",
       "    display: block;\n",
       "    unicode-bidi: embed;\n",
       "    white-space: pre-wrap;\n",
       "    word-wrap: break-word;\n",
       "    word-break: break-all;\n",
       "    font-family: \"Source Code Pro\", \"Menlo\", monospace;;\n",
       "    font-size: 13px;\n",
       "    color: #555;\n",
       "    margin-left: 4px;\n",
       "    line-height: 19px;\n",
       "  }\n",
       "</style>\n",
       "<div class=\"ansiout\">+---------+-------------------+-------------------+---------------+-------------+----------------+---------------+------------+-----------------+----------------+-----------+-----+-------+----------+------------+------------+--------------------+--------------------+--------------------+------------------+------------------+---------+-----------+--------+--------------------+-------+------------------+--------------------+\n",
       "vendor_id|    pickup_datetime|   dropoff_datetime|passenger_count|trip_distance|pickup_longitude|pickup_latitude|rate_code_id|dropoff_longitude|dropoff_latitude|fare_amount|extra|mta_tax|tip_amount|tolls_amount|total_amount|         pickup_geom|        dropoff_geom|              bounds|         pickup_h3|        dropoff_h3|  borough|location_id|objectid|                zone|is_core|                h3|                 wkb|\n",
       "+---------+-------------------+-------------------+---------------+-------------+----------------+---------------+------------+-----------------+----------------+-----------+-----+-------+----------+------------+------------+--------------------+--------------------+--------------------+------------------+------------------+---------+-----------+--------+--------------------+-------+------------------+--------------------+\n",
       "      CMT|2009-01-26 20:17:32|2009-01-26 20:25:09|              1|          0.8|      -73.998275|      40.725061|        null|       -73.988168|       40.721215|        6.6|  0.0|   null|       0.0|         0.0|         6.6|{1, [[[-73.998275...|{1, [[[-73.988168...|{5, [[[-80.0, 35....|622236750706835455|622236750717485055|Manhattan|        211|     211|                SoHo|  false|622236750706835455|[01 03 00 00 00 0...|\n",
       "      CMT|2009-01-26 20:17:32|2009-01-26 20:25:09|              1|          0.8|      -73.998275|      40.725061|        null|       -73.988168|       40.721215|        6.6|  0.0|   null|       0.0|         0.0|         6.6|{1, [[[-73.998275...|{1, [[[-73.988168...|{5, [[[-80.0, 35....|622236750706835455|622236750717485055|Manhattan|        114|     114|Greenwich Village...|  false|622236750706835455|[01 03 00 00 00 0...|\n",
       "      VTS|2009-10-29 15:23:00|2009-10-29 15:35:00|              5|         1.36|      -73.990315|      40.734607|        null|       -73.996838|       40.747757|        7.7|  0.0|   null|       2.0|         0.0|         9.7|{1, [[[-73.990315...|{1, [[[-73.996838...|{5, [[[-80.0, 35....|622236723428556799|622236723431309311|Manhattan|        234|     234|            Union Sq|  false|622236723428556799|[01 03 00 00 00 0...|\n",
       "      VTS|2009-10-29 15:23:00|2009-10-29 15:35:00|              5|         1.36|      -73.990315|      40.734607|        null|       -73.996838|       40.747757|        7.7|  0.0|   null|       2.0|         0.0|         9.7|{1, [[[-73.990315...|{1, [[[-73.996838...|{5, [[[-80.0, 35....|622236723428556799|622236723431309311|Manhattan|        113|     113|Greenwich Village...|  false|622236723428556799|[01 03 00 00 00 0...|\n",
       "      VTS|2009-05-27 21:52:00|2009-05-27 21:56:00|              1|         0.63|      -73.989672|      40.733835|        null|        -73.98474|       40.741957|        4.5|  0.5|   null|       0.0|         0.0|         5.0|{1, [[[-73.989672...|{1, [[[-73.98474,...|{5, [[[-80.0, 35....|622236723428491263|622236723427246079|Manhattan|        234|     234|            Union Sq|  false|622236723428491263|[01 03 00 00 00 0...|\n",
       "      VTS|2009-05-27 21:52:00|2009-05-27 21:56:00|              1|         0.63|      -73.989672|      40.733835|        null|        -73.98474|       40.741957|        4.5|  0.5|   null|       0.0|         0.0|         5.0|{1, [[[-73.989672...|{1, [[[-73.98474,...|{5, [[[-80.0, 35....|622236723428491263|622236723427246079|Manhattan|        113|     113|Greenwich Village...|  false|622236723428491263|[01 03 00 00 00 0...|\n",
       "      VTS|2009-05-27 21:52:00|2009-05-27 21:56:00|              1|         0.63|      -73.989672|      40.733835|        null|        -73.98474|       40.741957|        4.5|  0.5|   null|       0.0|         0.0|         5.0|{1, [[[-73.989672...|{1, [[[-73.98474,...|{5, [[[-80.0, 35....|622236723428491263|622236723427246079|Manhattan|        107|     107|            Gramercy|  false|622236723428491263|[01 03 00 00 00 0...|\n",
       "      VTS|2009-05-27 21:52:00|2009-05-27 21:56:00|              1|         0.63|      -73.989672|      40.733835|        null|        -73.98474|       40.741957|        4.5|  0.5|   null|       0.0|         0.0|         5.0|{1, [[[-73.989672...|{1, [[[-73.98474,...|{5, [[[-80.0, 35....|622236723428491263|622236723427246079|Manhattan|         79|      79|        East Village|  false|622236723428491263|[01 03 00 00 00 0...|\n",
       "      CMT|2009-05-26 15:16:42|2009-05-26 16:24:51|              1|         27.9|      -73.991329|      40.697427|        null|       -73.781919|       40.648625|       60.9|  0.0|   null|       0.0|         0.0|        60.9|{1, [[[-73.991329...|{1, [[[-73.781919...|{5, [[[-80.0, 35....|622236750729084927|622236735751716863| Brooklyn|         65|      65|Downtown Brooklyn...|  false|622236750729084927|[01 03 00 00 00 0...|\n",
       "      CMT|2009-05-26 15:16:42|2009-05-26 16:24:51|              1|         27.9|      -73.991329|      40.697427|        null|       -73.781919|       40.648625|       60.9|  0.0|   null|       0.0|         0.0|        60.9|{1, [[[-73.991329...|{1, [[[-73.781919...|{5, [[[-80.0, 35....|622236750729084927|622236735751716863| Brooklyn|         33|      33|    Brooklyn Heights|  false|622236750729084927|[01 03 00 00 00 0...|\n",
       "      VTS|2009-09-25 12:08:00|2009-09-25 12:17:00|              1|         0.87|      -73.989922|      40.733165|        null|       -73.993095|       40.742483|        6.5|  0.0|   null|       1.0|         0.0|         7.5|{1, [[[-73.989922...|{1, [[[-73.993095...|{5, [[[-80.0, 35....|622236723428589567|622236723426459647|Manhattan|        113|     113|Greenwich Village...|  false|622236723428589567|[01 03 00 00 00 0...|\n",
       "      VTS|2009-09-25 12:08:00|2009-09-25 12:17:00|              1|         0.87|      -73.989922|      40.733165|        null|       -73.993095|       40.742483|        6.5|  0.0|   null|       1.0|         0.0|         7.5|{1, [[[-73.989922...|{1, [[[-73.993095...|{5, [[[-80.0, 35....|622236723428589567|622236723426459647|Manhattan|         79|      79|        East Village|  false|622236723428589567|[01 03 00 00 00 0...|\n",
       "      VTS|2009-12-08 18:48:00|2009-12-08 18:54:00|              5|         0.91|       -74.00138|      40.719952|        null|       -73.994322|       40.713878|        5.3|  1.0|    0.5|       0.0|         0.0|         6.8|{1, [[[-74.00138,...|{1, [[[-73.994322...|{5, [[[-80.0, 35....|622236750705983487|622236750709063679|Manhattan|        211|     211|                SoHo|  false|622236750705983487|[01 03 00 00 00 0...|\n",
       "      VTS|2009-12-08 18:48:00|2009-12-08 18:54:00|              5|         0.91|       -74.00138|      40.719952|        null|       -73.994322|       40.713878|        5.3|  1.0|    0.5|       0.0|         0.0|         6.8|{1, [[[-74.00138,...|{1, [[[-73.994322...|{5, [[[-80.0, 35....|622236750705983487|622236750709063679|Manhattan|        144|     144| Little Italy/NoLiTa|  false|622236750705983487|[01 03 00 00 00 0...|\n",
       "      VTS|2009-11-02 19:31:00|2009-11-02 19:47:00|              5|         3.08|      -73.993238|       40.72778|        null|       -73.991493|        40.76009|       10.9|  1.0|    0.5|       0.0|         0.0|        12.4|{1, [[[-73.993238...|{1, [[[-73.991493...|{5, [[[-80.0, 35....|622236750714044415|622236750599815167|Manhattan|        113|     113|Greenwich Village...|  false|622236750714044415|[01 03 00 00 00 0...|\n",
       "      VTS|2009-11-02 19:31:00|2009-11-02 19:47:00|              5|         3.08|      -73.993238|       40.72778|        null|       -73.991493|        40.76009|       10.9|  1.0|    0.5|       0.0|         0.0|        12.4|{1, [[[-73.993238...|{1, [[[-73.991493...|{5, [[[-80.0, 35....|622236750714044415|622236750599815167|Manhattan|        114|     114|Greenwich Village...|  false|622236750714044415|[01 03 00 00 00 0...|\n",
       "      VTS|2009-02-17 18:18:00|2009-02-17 18:38:00|              1|         2.75|       -73.99006|      40.727742|        null|       -73.984877|       40.758912|       12.5|  1.0|   null|       0.0|         0.0|        13.5|{1, [[[-73.99006,...|{1, [[[-73.984877...|{5, [[[-80.0, 35....|622236750715420671|622236723501039615|Manhattan|         79|      79|        East Village|  false|622236750715420671|[01 03 00 00 00 0...|\n",
       "      VTS|2009-05-22 09:49:00|2009-05-22 10:06:00|              5|         2.71|      -73.990288|      40.732973|        null|       -73.960995|        40.75682|       10.9|  0.0|   null|       2.0|         0.0|        12.9|{1, [[[-73.990288...|{1, [[[-73.960995...|{5, [[[-80.0, 35....|622236723428589567|622236723503923199|Manhattan|        113|     113|Greenwich Village...|  false|622236723428589567|[01 03 00 00 00 0...|\n",
       "      VTS|2009-05-22 09:49:00|2009-05-22 10:06:00|              5|         2.71|      -73.990288|      40.732973|        null|       -73.960995|        40.75682|       10.9|  0.0|   null|       2.0|         0.0|        12.9|{1, [[[-73.990288...|{1, [[[-73.960995...|{5, [[[-80.0, 35....|622236723428589567|622236723503923199|Manhattan|         79|      79|        East Village|  false|622236723428589567|[01 03 00 00 00 0...|\n",
       "      DDS|2009-05-04 14:48:28|2009-05-04 15:06:54|              2|          5.6|      -74.004991|      40.707614|        null|       -73.986253|       40.755365|       15.3|  0.0|   null|       0.0|         0.0|        15.3|{1, [[[-74.004991...|{1, [[[-73.986253...|{5, [[[-80.0, 35....|622236750647295999|622236723499794431|Manhattan|         87|      87|Financial Distric...|  false|622236750647295999|[01 03 00 00 00 0...|\n",
       "+---------+-------------------+-------------------+---------------+-------------+----------------+---------------+------------+-----------------+----------------+-----------+-----+-------+----------+------------+------------+--------------------+--------------------+--------------------+------------------+------------------+---------+-----------+--------+--------------------+-------+------------------+--------------------+\n",
       "only showing top 20 rows\n",
       "\n",
       "</div>"
      ]
     },
     "metadata": {
      "application/vnd.databricks.v1+output": {
       "addedWidgets": {},
       "arguments": {},
       "data": "<div class=\"ansiout\">+---------+-------------------+-------------------+---------------+-------------+----------------+---------------+------------+-----------------+----------------+-----------+-----+-------+----------+------------+------------+--------------------+--------------------+--------------------+------------------+------------------+---------+-----------+--------+--------------------+-------+------------------+--------------------+\n|vendor_id|    pickup_datetime|   dropoff_datetime|passenger_count|trip_distance|pickup_longitude|pickup_latitude|rate_code_id|dropoff_longitude|dropoff_latitude|fare_amount|extra|mta_tax|tip_amount|tolls_amount|total_amount|         pickup_geom|        dropoff_geom|              bounds|         pickup_h3|        dropoff_h3|  borough|location_id|objectid|                zone|is_core|                h3|                 wkb|\n+---------+-------------------+-------------------+---------------+-------------+----------------+---------------+------------+-----------------+----------------+-----------+-----+-------+----------+------------+------------+--------------------+--------------------+--------------------+------------------+------------------+---------+-----------+--------+--------------------+-------+------------------+--------------------+\n|      CMT|2009-01-26 20:17:32|2009-01-26 20:25:09|              1|          0.8|      -73.998275|      40.725061|        null|       -73.988168|       40.721215|        6.6|  0.0|   null|       0.0|         0.0|         6.6|{1, [[[-73.998275...|{1, [[[-73.988168...|{5, [[[-80.0, 35....|622236750706835455|622236750717485055|Manhattan|        211|     211|                SoHo|  false|622236750706835455|[01 03 00 00 00 0...|\n|      CMT|2009-01-26 20:17:32|2009-01-26 20:25:09|              1|          0.8|      -73.998275|      40.725061|        null|       -73.988168|       40.721215|        6.6|  0.0|   null|       0.0|         0.0|         6.6|{1, [[[-73.998275...|{1, [[[-73.988168...|{5, [[[-80.0, 35....|622236750706835455|622236750717485055|Manhattan|        114|     114|Greenwich Village...|  false|622236750706835455|[01 03 00 00 00 0...|\n|      VTS|2009-10-29 15:23:00|2009-10-29 15:35:00|              5|         1.36|      -73.990315|      40.734607|        null|       -73.996838|       40.747757|        7.7|  0.0|   null|       2.0|         0.0|         9.7|{1, [[[-73.990315...|{1, [[[-73.996838...|{5, [[[-80.0, 35....|622236723428556799|622236723431309311|Manhattan|        234|     234|            Union Sq|  false|622236723428556799|[01 03 00 00 00 0...|\n|      VTS|2009-10-29 15:23:00|2009-10-29 15:35:00|              5|         1.36|      -73.990315|      40.734607|        null|       -73.996838|       40.747757|        7.7|  0.0|   null|       2.0|         0.0|         9.7|{1, [[[-73.990315...|{1, [[[-73.996838...|{5, [[[-80.0, 35....|622236723428556799|622236723431309311|Manhattan|        113|     113|Greenwich Village...|  false|622236723428556799|[01 03 00 00 00 0...|\n|      VTS|2009-05-27 21:52:00|2009-05-27 21:56:00|              1|         0.63|      -73.989672|      40.733835|        null|        -73.98474|       40.741957|        4.5|  0.5|   null|       0.0|         0.0|         5.0|{1, [[[-73.989672...|{1, [[[-73.98474,...|{5, [[[-80.0, 35....|622236723428491263|622236723427246079|Manhattan|        234|     234|            Union Sq|  false|622236723428491263|[01 03 00 00 00 0...|\n|      VTS|2009-05-27 21:52:00|2009-05-27 21:56:00|              1|         0.63|      -73.989672|      40.733835|        null|        -73.98474|       40.741957|        4.5|  0.5|   null|       0.0|         0.0|         5.0|{1, [[[-73.989672...|{1, [[[-73.98474,...|{5, [[[-80.0, 35....|622236723428491263|622236723427246079|Manhattan|        113|     113|Greenwich Village...|  false|622236723428491263|[01 03 00 00 00 0...|\n|      VTS|2009-05-27 21:52:00|2009-05-27 21:56:00|              1|         0.63|      -73.989672|      40.733835|        null|        -73.98474|       40.741957|        4.5|  0.5|   null|       0.0|         0.0|         5.0|{1, [[[-73.989672...|{1, [[[-73.98474,...|{5, [[[-80.0, 35....|622236723428491263|622236723427246079|Manhattan|        107|     107|            Gramercy|  false|622236723428491263|[01 03 00 00 00 0...|\n|      VTS|2009-05-27 21:52:00|2009-05-27 21:56:00|              1|         0.63|      -73.989672|      40.733835|        null|        -73.98474|       40.741957|        4.5|  0.5|   null|       0.0|         0.0|         5.0|{1, [[[-73.989672...|{1, [[[-73.98474,...|{5, [[[-80.0, 35....|622236723428491263|622236723427246079|Manhattan|         79|      79|        East Village|  false|622236723428491263|[01 03 00 00 00 0...|\n|      CMT|2009-05-26 15:16:42|2009-05-26 16:24:51|              1|         27.9|      -73.991329|      40.697427|        null|       -73.781919|       40.648625|       60.9|  0.0|   null|       0.0|         0.0|        60.9|{1, [[[-73.991329...|{1, [[[-73.781919...|{5, [[[-80.0, 35....|622236750729084927|622236735751716863| Brooklyn|         65|      65|Downtown Brooklyn...|  false|622236750729084927|[01 03 00 00 00 0...|\n|      CMT|2009-05-26 15:16:42|2009-05-26 16:24:51|              1|         27.9|      -73.991329|      40.697427|        null|       -73.781919|       40.648625|       60.9|  0.0|   null|       0.0|         0.0|        60.9|{1, [[[-73.991329...|{1, [[[-73.781919...|{5, [[[-80.0, 35....|622236750729084927|622236735751716863| Brooklyn|         33|      33|    Brooklyn Heights|  false|622236750729084927|[01 03 00 00 00 0...|\n|      VTS|2009-09-25 12:08:00|2009-09-25 12:17:00|              1|         0.87|      -73.989922|      40.733165|        null|       -73.993095|       40.742483|        6.5|  0.0|   null|       1.0|         0.0|         7.5|{1, [[[-73.989922...|{1, [[[-73.993095...|{5, [[[-80.0, 35....|622236723428589567|622236723426459647|Manhattan|        113|     113|Greenwich Village...|  false|622236723428589567|[01 03 00 00 00 0...|\n|      VTS|2009-09-25 12:08:00|2009-09-25 12:17:00|              1|         0.87|      -73.989922|      40.733165|        null|       -73.993095|       40.742483|        6.5|  0.0|   null|       1.0|         0.0|         7.5|{1, [[[-73.989922...|{1, [[[-73.993095...|{5, [[[-80.0, 35....|622236723428589567|622236723426459647|Manhattan|         79|      79|        East Village|  false|622236723428589567|[01 03 00 00 00 0...|\n|      VTS|2009-12-08 18:48:00|2009-12-08 18:54:00|              5|         0.91|       -74.00138|      40.719952|        null|       -73.994322|       40.713878|        5.3|  1.0|    0.5|       0.0|         0.0|         6.8|{1, [[[-74.00138,...|{1, [[[-73.994322...|{5, [[[-80.0, 35....|622236750705983487|622236750709063679|Manhattan|        211|     211|                SoHo|  false|622236750705983487|[01 03 00 00 00 0...|\n|      VTS|2009-12-08 18:48:00|2009-12-08 18:54:00|              5|         0.91|       -74.00138|      40.719952|        null|       -73.994322|       40.713878|        5.3|  1.0|    0.5|       0.0|         0.0|         6.8|{1, [[[-74.00138,...|{1, [[[-73.994322...|{5, [[[-80.0, 35....|622236750705983487|622236750709063679|Manhattan|        144|     144| Little Italy/NoLiTa|  false|622236750705983487|[01 03 00 00 00 0...|\n|      VTS|2009-11-02 19:31:00|2009-11-02 19:47:00|              5|         3.08|      -73.993238|       40.72778|        null|       -73.991493|        40.76009|       10.9|  1.0|    0.5|       0.0|         0.0|        12.4|{1, [[[-73.993238...|{1, [[[-73.991493...|{5, [[[-80.0, 35....|622236750714044415|622236750599815167|Manhattan|        113|     113|Greenwich Village...|  false|622236750714044415|[01 03 00 00 00 0...|\n|      VTS|2009-11-02 19:31:00|2009-11-02 19:47:00|              5|         3.08|      -73.993238|       40.72778|        null|       -73.991493|        40.76009|       10.9|  1.0|    0.5|       0.0|         0.0|        12.4|{1, [[[-73.993238...|{1, [[[-73.991493...|{5, [[[-80.0, 35....|622236750714044415|622236750599815167|Manhattan|        114|     114|Greenwich Village...|  false|622236750714044415|[01 03 00 00 00 0...|\n|      VTS|2009-02-17 18:18:00|2009-02-17 18:38:00|              1|         2.75|       -73.99006|      40.727742|        null|       -73.984877|       40.758912|       12.5|  1.0|   null|       0.0|         0.0|        13.5|{1, [[[-73.99006,...|{1, [[[-73.984877...|{5, [[[-80.0, 35....|622236750715420671|622236723501039615|Manhattan|         79|      79|        East Village|  false|622236750715420671|[01 03 00 00 00 0...|\n|      VTS|2009-05-22 09:49:00|2009-05-22 10:06:00|              5|         2.71|      -73.990288|      40.732973|        null|       -73.960995|        40.75682|       10.9|  0.0|   null|       2.0|         0.0|        12.9|{1, [[[-73.990288...|{1, [[[-73.960995...|{5, [[[-80.0, 35....|622236723428589567|622236723503923199|Manhattan|        113|     113|Greenwich Village...|  false|622236723428589567|[01 03 00 00 00 0...|\n|      VTS|2009-05-22 09:49:00|2009-05-22 10:06:00|              5|         2.71|      -73.990288|      40.732973|        null|       -73.960995|        40.75682|       10.9|  0.0|   null|       2.0|         0.0|        12.9|{1, [[[-73.990288...|{1, [[[-73.960995...|{5, [[[-80.0, 35....|622236723428589567|622236723503923199|Manhattan|         79|      79|        East Village|  false|622236723428589567|[01 03 00 00 00 0...|\n|      DDS|2009-05-04 14:48:28|2009-05-04 15:06:54|              2|          5.6|      -74.004991|      40.707614|        null|       -73.986253|       40.755365|       15.3|  0.0|   null|       0.0|         0.0|        15.3|{1, [[[-74.004991...|{1, [[[-73.986253...|{5, [[[-80.0, 35....|622236750647295999|622236723499794431|Manhattan|         87|      87|Financial Distric...|  false|622236750647295999|[01 03 00 00 00 0...|\n+---------+-------------------+-------------------+---------------+-------------+----------------+---------------+------------+-----------------+----------------+-----------+-----+-------+----------+------------+------------+--------------------+--------------------+--------------------+------------------+------------------+---------+-----------+--------+--------------------+-------+------------------+--------------------+\nonly showing top 20 rows\n\n</div>",
       "datasetInfos": [],
       "metadata": {},
       "removedWidgets": [],
       "type": "html"
      }
     },
     "output_type": "display_data",
     "transient": null
    }
   ],
   "source": [
    "mosaic_joined_df = (\n",
    "  trips_with_geom.alias(\"t\")\n",
    "  .join(mosaic_neighbourhoods.alias(\"n\"), on=expr(\"t.pickup_h3 = n.h3\"), how=\"inner\")\n",
    "  .where(\n",
    "    ~col(\"is_core\") | \n",
    "    st_contains(\"wkb\", \"pickup_geom\")\n",
    "  )\n",
    ")\n",
    "\n",
    "mosaic_joined_df.show()"
   ]
  }
 ],
 "metadata": {
  "application/vnd.databricks.v1+notebook": {
   "dashboards": [],
   "language": "python",
   "notebookMetadata": {
    "pythonIndentUnit": 2
   },
   "notebookName": "quickstart",
   "notebookOrigID": 1935524762305611,
   "widgets": {}
  }
 },
 "nbformat": 4,
 "nbformat_minor": 0
}
