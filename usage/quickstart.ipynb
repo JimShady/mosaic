{
 "cells": [
  {
   "cell_type": "markdown",
   "metadata": {
    "application/vnd.databricks.v1+cell": {
     "inputWidgets": {},
     "nuid": "c247678b-66ab-4879-b331-bb0532826530",
     "showTitle": false,
     "title": ""
    }
   },
   "source": [
    "# Quickstart notebook\n",
    "The example code here shows how to get up and running with Mosaic using the Python API."
   ]
  },
  {
   "cell_type": "code",
   "execution_count": 0,
   "metadata": {
    "application/vnd.databricks.v1+cell": {
     "inputWidgets": {},
     "nuid": "aaf89a78-8b1f-4e27-8cc8-3fa382ff8210",
     "showTitle": false,
     "title": ""
    }
   },
   "outputs": [
    {
     "data": {
      "text/html": [
       "<style scoped>\n",
       "  .ansiout {\n",
       "    display: block;\n",
       "    unicode-bidi: embed;\n",
       "    white-space: pre-wrap;\n",
       "    word-wrap: break-word;\n",
       "    word-break: break-all;\n",
       "    font-family: \"Source Code Pro\", \"Menlo\", monospace;;\n",
       "    font-size: 13px;\n",
       "    color: #555;\n",
       "    margin-left: 4px;\n",
       "    line-height: 19px;\n",
       "  }\n",
       "</style>\n",
       "<div class=\"ansiout\"></div>"
      ]
     },
     "metadata": {
      "application/vnd.databricks.v1+output": {
       "addedWidgets": {},
       "arguments": {},
       "data": "<div class=\"ansiout\"></div>",
       "datasetInfos": [],
       "metadata": {},
       "removedWidgets": [],
       "type": "html"
      }
     },
     "output_type": "display_data",
     "transient": null
    }
   ],
   "source": [
    "from pyspark.sql.functions import *"
   ]
  },
  {
   "cell_type": "markdown",
   "metadata": {
    "application/vnd.databricks.v1+cell": {
     "inputWidgets": {},
     "nuid": "ec0b86d5-e58c-478a-824b-e1165fb267de",
     "showTitle": false,
     "title": ""
    }
   },
   "source": [
    "## Enable Mosaic in the notebook\n",
    "To get started, you'll need to attach the python library to your cluster and execute the `enable_mosaic` function."
   ]
  },
  {
   "cell_type": "code",
   "execution_count": 0,
   "metadata": {
    "application/vnd.databricks.v1+cell": {
     "inputWidgets": {},
     "nuid": "ecb6237c-050b-47c6-98ed-6942a50472e3",
     "showTitle": false,
     "title": ""
    }
   },
   "outputs": [
    {
     "data": {
      "text/html": [
       "<style scoped>\n",
       "  .ansiout {\n",
       "    display: block;\n",
       "    unicode-bidi: embed;\n",
       "    white-space: pre-wrap;\n",
       "    word-wrap: break-word;\n",
       "    word-break: break-all;\n",
       "    font-family: \"Source Code Pro\", \"Menlo\", monospace;;\n",
       "    font-size: 13px;\n",
       "    color: #555;\n",
       "    margin-left: 4px;\n",
       "    line-height: 19px;\n",
       "  }\n",
       "</style>\n",
       "<div class=\"ansiout\"></div>"
      ]
     },
     "metadata": {
      "application/vnd.databricks.v1+output": {
       "addedWidgets": {},
       "arguments": {},
       "data": "<div class=\"ansiout\"></div>",
       "datasetInfos": [],
       "metadata": {},
       "removedWidgets": [],
       "type": "html"
      }
     },
     "output_type": "display_data",
     "transient": null
    }
   ],
   "source": [
    "from mosaic import enable_mosaic\n",
    "enable_mosaic(spark)"
   ]
  },
  {
   "cell_type": "markdown",
   "metadata": {
    "application/vnd.databricks.v1+cell": {
     "inputWidgets": {},
     "nuid": "d774f893-1152-41de-adde-bdad37e755f7",
     "showTitle": false,
     "title": ""
    }
   },
   "source": [
    "Mosaic has extra configuration options. Check the docs for more details."
   ]
  },
  {
   "cell_type": "code",
   "execution_count": 0,
   "metadata": {
    "application/vnd.databricks.v1+cell": {
     "inputWidgets": {},
     "nuid": "10776858-768a-450f-9281-6a00e80d04c2",
     "showTitle": false,
     "title": ""
    }
   },
   "outputs": [
    {
     "data": {
      "text/html": [
       "<style scoped>\n",
       "  .ansiout {\n",
       "    display: block;\n",
       "    unicode-bidi: embed;\n",
       "    white-space: pre-wrap;\n",
       "    word-wrap: break-word;\n",
       "    word-break: break-all;\n",
       "    font-family: \"Source Code Pro\", \"Menlo\", monospace;;\n",
       "    font-size: 13px;\n",
       "    color: #555;\n",
       "    margin-left: 4px;\n",
       "    line-height: 19px;\n",
       "  }\n",
       "</style>\n",
       "<div class=\"ansiout\">Help on function enable_mosaic in module mosaic.functions:\n",
       "\n",
       "enable_mosaic(spark: pyspark.sql.session.SparkSession) -&gt; None\n",
       "    Enable Mosaic functions.\n",
       "    \n",
       "    Use this function at the start of your workflow to ensure all of the required dependencies are installed and\n",
       "    Mosaic is configured according to your needs.\n",
       "    \n",
       "    Parameters\n",
       "    ----------\n",
       "    spark : pyspark.sql.SparkSession\n",
       "            The active SparkSession.\n",
       "    \n",
       "    Returns\n",
       "    -------\n",
       "    \n",
       "    Notes\n",
       "    -----\n",
       "    Users can control various aspects of Mosaic&#39;s operation with the following Spark confs:\n",
       "    \n",
       "    - `spark.databricks.mosaic.jar.autoattach`: &#39;true&#39; (default) or &#39;false&#39;\n",
       "       Automatically attach the Mosaic JAR to the Databricks cluster? (Optional)\n",
       "    - `spark.databricks.mosaic.jar.location`\n",
       "       Explicitly specify the path to the Mosaic JAR.\n",
       "       (Optional and not required at all in a standard Databricks environment).\n",
       "    - `spark.databricks.mosaic.geometry.api`: &#39;OGC&#39; (default) or &#39;JTS&#39;\n",
       "       Explicitly specify the underlying geometry library to use for spatial operations. (Optional)\n",
       "    - `spark.databricks.mosaic.index.system`: &#39;H3&#39; (default)\n",
       "       Explicitly specify the index system to use for optimized spatial joins. (Optional)\n",
       "\n",
       "</div>"
      ]
     },
     "metadata": {
      "application/vnd.databricks.v1+output": {
       "addedWidgets": {},
       "arguments": {},
       "data": "<div class=\"ansiout\">Help on function enable_mosaic in module mosaic.functions:\n\nenable_mosaic(spark: pyspark.sql.session.SparkSession) -&gt; None\n    Enable Mosaic functions.\n    \n    Use this function at the start of your workflow to ensure all of the required dependencies are installed and\n    Mosaic is configured according to your needs.\n    \n    Parameters\n    ----------\n    spark : pyspark.sql.SparkSession\n            The active SparkSession.\n    \n    Returns\n    -------\n    \n    Notes\n    -----\n    Users can control various aspects of Mosaic&#39;s operation with the following Spark confs:\n    \n    - `spark.databricks.mosaic.jar.autoattach`: &#39;true&#39; (default) or &#39;false&#39;\n       Automatically attach the Mosaic JAR to the Databricks cluster? (Optional)\n    - `spark.databricks.mosaic.jar.location`\n       Explicitly specify the path to the Mosaic JAR.\n       (Optional and not required at all in a standard Databricks environment).\n    - `spark.databricks.mosaic.geometry.api`: &#39;OGC&#39; (default) or &#39;JTS&#39;\n       Explicitly specify the underlying geometry library to use for spatial operations. (Optional)\n    - `spark.databricks.mosaic.index.system`: &#39;H3&#39; (default)\n       Explicitly specify the index system to use for optimized spatial joins. (Optional)\n\n</div>",
       "datasetInfos": [],
       "metadata": {},
       "removedWidgets": [],
       "type": "html"
      }
     },
     "output_type": "display_data",
     "transient": null
    }
   ],
   "source": [
    "help(enable_mosaic)"
   ]
  },
  {
   "cell_type": "markdown",
   "metadata": {
    "application/vnd.databricks.v1+cell": {
     "inputWidgets": {},
     "nuid": "ac3649d8-5561-4370-b5d3-a36bf5068fd1",
     "showTitle": false,
     "title": ""
    }
   },
   "source": [
    "## Geometry constructors and the Mosaic internal geometry format"
   ]
  },
  {
   "cell_type": "markdown",
   "metadata": {
    "application/vnd.databricks.v1+cell": {
     "inputWidgets": {},
     "nuid": "c9e64d22-ebbc-4ea7-97aa-2dd6e240c9ad",
     "showTitle": false,
     "title": ""
    }
   },
   "source": [
    "Mosaic allows users to create new Point geometries from a pair of Spark DoubleType columns."
   ]
  },
  {
   "cell_type": "code",
   "execution_count": 0,
   "metadata": {
    "application/vnd.databricks.v1+cell": {
     "inputWidgets": {},
     "nuid": "aa85d1b2-8ec1-4879-87b4-cf55eb12820c",
     "showTitle": false,
     "title": ""
    }
   },
   "outputs": [
    {
     "data": {
      "text/html": [
       "<style scoped>\n",
       "  .ansiout {\n",
       "    display: block;\n",
       "    unicode-bidi: embed;\n",
       "    white-space: pre-wrap;\n",
       "    word-wrap: break-word;\n",
       "    word-break: break-all;\n",
       "    font-family: \"Source Code Pro\", \"Menlo\", monospace;;\n",
       "    font-size: 13px;\n",
       "    color: #555;\n",
       "    margin-left: 4px;\n",
       "    line-height: 19px;\n",
       "  }\n",
       "</style>\n",
       "<div class=\"ansiout\">+----+-----+--------------------+\n",
       " lat|  lon|          point_geom|\n",
       "+----+-----+--------------------+\n",
       "35.0|-80.0|{1, [[[-80.0, 35....|\n",
       "45.0|-80.0|{1, [[[-80.0, 45....|\n",
       "45.0|-70.0|{1, [[[-70.0, 45....|\n",
       "35.0|-70.0|{1, [[[-70.0, 35....|\n",
       "35.0|-80.0|{1, [[[-80.0, 35....|\n",
       "+----+-----+--------------------+\n",
       "\n",
       "</div>"
      ]
     },
     "metadata": {
      "application/vnd.databricks.v1+output": {
       "addedWidgets": {},
       "arguments": {},
       "data": "<div class=\"ansiout\">+----+-----+--------------------+\n| lat|  lon|          point_geom|\n+----+-----+--------------------+\n|35.0|-80.0|{1, [[[-80.0, 35....|\n|45.0|-80.0|{1, [[[-80.0, 45....|\n|45.0|-70.0|{1, [[[-70.0, 45....|\n|35.0|-70.0|{1, [[[-70.0, 35....|\n|35.0|-80.0|{1, [[[-80.0, 35....|\n+----+-----+--------------------+\n\n</div>",
       "datasetInfos": [],
       "metadata": {},
       "removedWidgets": [],
       "type": "html"
      }
     },
     "output_type": "display_data",
     "transient": null
    }
   ],
   "source": [
    "from mosaic import st_point\n",
    "\n",
    "lons = [-80., -80., -70., -70., -80.]\n",
    "lats = [ 35.,  45.,  45.,  35.,  35.]\n",
    "\n",
    "bounds_df = (\n",
    "  spark\n",
    "  .createDataFrame({\"lon\": lon, \"lat\": lat} for lon, lat in zip(lons, lats))\n",
    "  .coalesce(1)\n",
    "  .withColumn(\"point_geom\", st_point(\"lon\", \"lat\"))\n",
    ")\n",
    "bounds_df.show()"
   ]
  },
  {
   "cell_type": "markdown",
   "metadata": {
    "application/vnd.databricks.v1+cell": {
     "inputWidgets": {},
     "nuid": "e0229f66-1fe7-4218-905f-6fe265fd2441",
     "showTitle": false,
     "title": ""
    }
   },
   "source": [
    "Mosaic Point geometries can be aggregated into LineString and Polygon geometries using the respective constructors."
   ]
  },
  {
   "cell_type": "code",
   "execution_count": 0,
   "metadata": {
    "application/vnd.databricks.v1+cell": {
     "inputWidgets": {},
     "nuid": "c143e704-333d-4c15-800d-7dcefc924f71",
     "showTitle": false,
     "title": ""
    }
   },
   "outputs": [
    {
     "data": {
      "text/html": [
       "<style scoped>\n",
       "  .ansiout {\n",
       "    display: block;\n",
       "    unicode-bidi: embed;\n",
       "    white-space: pre-wrap;\n",
       "    word-wrap: break-word;\n",
       "    word-break: break-all;\n",
       "    font-family: \"Source Code Pro\", \"Menlo\", monospace;;\n",
       "    font-size: 13px;\n",
       "    color: #555;\n",
       "    margin-left: 4px;\n",
       "    line-height: 19px;\n",
       "  }\n",
       "</style>\n",
       "<div class=\"ansiout\">+--------------------+\n",
       "       bounding_ring|\n",
       "+--------------------+\n",
       "{3, [[[-80.0, 35....|\n",
       "+--------------------+\n",
       "\n",
       "</div>"
      ]
     },
     "metadata": {
      "application/vnd.databricks.v1+output": {
       "addedWidgets": {},
       "arguments": {},
       "data": "<div class=\"ansiout\">+--------------------+\n|       bounding_ring|\n+--------------------+\n|{3, [[[-80.0, 35....|\n+--------------------+\n\n</div>",
       "datasetInfos": [],
       "metadata": {},
       "removedWidgets": [],
       "type": "html"
      }
     },
     "output_type": "display_data",
     "transient": null
    }
   ],
   "source": [
    "from mosaic import st_makeline\n",
    "\n",
    "bounds_df = (\n",
    "  bounds_df\n",
    "  .groupBy()\n",
    "  .agg(collect_list(\"point_geom\").alias(\"bounding_coords\"))\n",
    "  .select(st_makeline(\"bounding_coords\").alias(\"bounding_ring\"))\n",
    ")\n",
    "bounds_df.show()"
   ]
  },
  {
   "cell_type": "code",
   "execution_count": 0,
   "metadata": {
    "application/vnd.databricks.v1+cell": {
     "inputWidgets": {},
     "nuid": "0282fcbd-f9b1-4708-b015-dc9e0fac9072",
     "showTitle": false,
     "title": ""
    }
   },
   "outputs": [
    {
     "data": {
      "text/html": [
       "<style scoped>\n",
       "  .ansiout {\n",
       "    display: block;\n",
       "    unicode-bidi: embed;\n",
       "    white-space: pre-wrap;\n",
       "    word-wrap: break-word;\n",
       "    word-break: break-all;\n",
       "    font-family: \"Source Code Pro\", \"Menlo\", monospace;;\n",
       "    font-size: 13px;\n",
       "    color: #555;\n",
       "    margin-left: 4px;\n",
       "    line-height: 19px;\n",
       "  }\n",
       "</style>\n",
       "<div class=\"ansiout\">+--------------------+\n",
       "              bounds|\n",
       "+--------------------+\n",
       "{5, [[[-80.0, 35....|\n",
       "+--------------------+\n",
       "\n",
       "</div>"
      ]
     },
     "metadata": {
      "application/vnd.databricks.v1+output": {
       "addedWidgets": {},
       "arguments": {},
       "data": "<div class=\"ansiout\">+--------------------+\n|              bounds|\n+--------------------+\n|{5, [[[-80.0, 35....|\n+--------------------+\n\n</div>",
       "datasetInfos": [],
       "metadata": {},
       "removedWidgets": [],
       "type": "html"
      }
     },
     "output_type": "display_data",
     "transient": null
    }
   ],
   "source": [
    "from mosaic import st_makepolygon\n",
    "\n",
    "bounds_df = bounds_df.select(st_makepolygon(\"bounding_ring\").alias(\"bounds\"))\n",
    "bounds_df.show()"
   ]
  },
  {
   "cell_type": "markdown",
   "metadata": {
    "application/vnd.databricks.v1+cell": {
     "inputWidgets": {},
     "nuid": "459a46e8-e7cb-4bb0-a167-e359889d15a9",
     "showTitle": false,
     "title": ""
    }
   },
   "source": [
    "## Geometry clipping without an index"
   ]
  },
  {
   "cell_type": "markdown",
   "metadata": {
    "application/vnd.databricks.v1+cell": {
     "inputWidgets": {},
     "nuid": "02d90b72-81b4-48a9-b117-b7976bca13aa",
     "showTitle": false,
     "title": ""
    }
   },
   "source": [
    "Mosaic implements set intersection functions: contains, intersects, overlaps etc. Here you can see `st_contains` being used to clip points by a polygon geometry."
   ]
  },
  {
   "cell_type": "code",
   "execution_count": 0,
   "metadata": {
    "application/vnd.databricks.v1+cell": {
     "inputWidgets": {},
     "nuid": "e5ec8d70-8d6b-44b9-ad2a-ef593e2011bd",
     "showTitle": false,
     "title": ""
    }
   },
   "outputs": [
    {
     "data": {
      "text/html": [
       "<style scoped>\n",
       "  .ansiout {\n",
       "    display: block;\n",
       "    unicode-bidi: embed;\n",
       "    white-space: pre-wrap;\n",
       "    word-wrap: break-word;\n",
       "    word-break: break-all;\n",
       "    font-family: \"Source Code Pro\", \"Menlo\", monospace;;\n",
       "    font-size: 13px;\n",
       "    color: #555;\n",
       "    margin-left: 4px;\n",
       "    line-height: 19px;\n",
       "  }\n",
       "</style>\n",
       "<div class=\"ansiout\"></div>"
      ]
     },
     "metadata": {
      "application/vnd.databricks.v1+output": {
       "addedWidgets": {},
       "arguments": {},
       "data": "<div class=\"ansiout\"></div>",
       "datasetInfos": [],
       "metadata": {},
       "removedWidgets": [],
       "type": "html"
      }
     },
     "output_type": "display_data",
     "transient": null
    }
   ],
   "source": [
    "tripsTable = spark.table(\"delta.`/databricks-datasets/nyctaxi/tables/nyctaxi_yellow`\")"
   ]
  },
  {
   "cell_type": "code",
   "execution_count": 0,
   "metadata": {
    "application/vnd.databricks.v1+cell": {
     "inputWidgets": {},
     "nuid": "ad0e72a9-4e2e-45fe-ba39-d2933859154d",
     "showTitle": false,
     "title": ""
    }
   },
   "outputs": [
    {
     "data": {
      "text/html": [
       "<style scoped>\n",
       "  .ansiout {\n",
       "    display: block;\n",
       "    unicode-bidi: embed;\n",
       "    white-space: pre-wrap;\n",
       "    word-wrap: break-word;\n",
       "    word-break: break-all;\n",
       "    font-family: \"Source Code Pro\", \"Menlo\", monospace;;\n",
       "    font-size: 13px;\n",
       "    color: #555;\n",
       "    margin-left: 4px;\n",
       "    line-height: 19px;\n",
       "  }\n",
       "</style>\n",
       "<div class=\"ansiout\"></div>"
      ]
     },
     "metadata": {
      "application/vnd.databricks.v1+output": {
       "addedWidgets": {},
       "arguments": {},
       "data": "<div class=\"ansiout\"></div>",
       "datasetInfos": [],
       "metadata": {},
       "removedWidgets": [],
       "type": "html"
      }
     },
     "output_type": "display_data",
     "transient": null
    }
   ],
   "source": [
    "from mosaic import st_contains\n",
    "trips = (\n",
    "  tripsTable\n",
    "  .limit(5_000_000)\n",
    "  .repartition(sc.defaultParallelism * 20)\n",
    "  .drop(\"vendorId\", \"rateCodeId\", \"store_and_fwd_flag\", \"payment_type\")\n",
    "  .withColumn(\"pickup_geom\", st_point(\"pickup_longitude\", \"pickup_latitude\"))\n",
    "  .withColumn(\"dropoff_geom\", st_point(\"dropoff_longitude\", \"dropoff_latitude\"))\n",
    "  .crossJoin(bounds_df)\n",
    "  .where(st_contains(\"bounds\", \"pickup_geom\"))\n",
    "  .where(st_contains(\"bounds\", \"dropoff_geom\"))\n",
    "  .cache()\n",
    ")"
   ]
  },
  {
   "cell_type": "code",
   "execution_count": 0,
   "metadata": {
    "application/vnd.databricks.v1+cell": {
     "inputWidgets": {},
     "nuid": "9aa22657-47c6-4de6-8e48-733a150b00a0",
     "showTitle": false,
     "title": ""
    }
   },
   "outputs": [
    {
     "data": {
      "text/html": [
       "<style scoped>\n",
       "  .ansiout {\n",
       "    display: block;\n",
       "    unicode-bidi: embed;\n",
       "    white-space: pre-wrap;\n",
       "    word-wrap: break-word;\n",
       "    word-break: break-all;\n",
       "    font-family: \"Source Code Pro\", \"Menlo\", monospace;;\n",
       "    font-size: 13px;\n",
       "    color: #555;\n",
       "    margin-left: 4px;\n",
       "    line-height: 19px;\n",
       "  }\n",
       "</style>\n",
       "<div class=\"ansiout\">+---------+-------------------+-------------------+---------------+-------------+----------------+---------------+------------+-----------------+----------------+-----------+-----+-------+----------+------------+------------+--------------------+--------------------+--------------------+\n",
       "vendor_id|    pickup_datetime|   dropoff_datetime|passenger_count|trip_distance|pickup_longitude|pickup_latitude|rate_code_id|dropoff_longitude|dropoff_latitude|fare_amount|extra|mta_tax|tip_amount|tolls_amount|total_amount|         pickup_geom|        dropoff_geom|              bounds|\n",
       "+---------+-------------------+-------------------+---------------+-------------+----------------+---------------+------------+-----------------+----------------+-----------+-----+-------+----------+------------+------------+--------------------+--------------------+--------------------+\n",
       "      CMT|2009-05-16 23:09:38|2009-05-16 23:12:36|              1|          0.4|      -73.993708|      40.724551|        null|       -74.001403|       40.730863|        3.7|  0.0|   null|       0.0|         0.0|         3.7|{1, [[[-73.993708...|{1, [[[-74.001403...|{5, [[[-80.0, 35....|\n",
       "      VTS|2010-04-30 05:50:00|2010-04-30 05:51:00|              1|          0.0|      -74.183187|       40.68801|           5|       -74.183145|       40.687972|       65.0|  0.0|    0.0|      20.0|         0.0|        85.0|{1, [[[-74.183187...|{1, [[[-74.183145...|{5, [[[-80.0, 35....|\n",
       "      DDS|2009-05-29 17:25:37|2009-05-29 17:50:13|              1|          4.5|      -74.002906|      40.728279|        null|       -73.954818|       40.767097|       15.3|  1.0|   null|      4.05|         0.0|       20.35|{1, [[[-74.002906...|{1, [[[-73.954818...|{5, [[[-80.0, 35....|\n",
       "      CMT|2009-12-28 18:19:23|2009-12-28 18:33:29|              1|          4.7|      -73.997848|      40.726077|        null|       -73.988747|       40.777933|       13.3|  1.0|    0.5|      2.22|         0.0|       17.02|{1, [[[-73.997848...|{1, [[[-73.988747...|{5, [[[-80.0, 35....|\n",
       "      CMT|2010-04-30 22:44:29|2010-04-30 22:57:05|              2|          2.5|       -74.00514|      40.718808|           1|       -73.986013|       40.751643|        9.3|  0.5|    0.5|       0.0|         0.0|        10.3|{1, [[[-74.00514,...|{1, [[[-73.986013...|{5, [[[-80.0, 35....|\n",
       "      DDS|2009-05-03 00:12:28|2009-05-03 00:18:40|              1|          1.0|      -73.991796|      40.725481|        null|       -73.977891|        40.72679|        5.3|  0.5|   null|       0.0|         0.0|         5.8|{1, [[[-73.991796...|{1, [[[-73.977891...|{5, [[[-80.0, 35....|\n",
       "      CMT|2009-01-31 01:36:33|2009-01-31 01:54:19|              1|          4.6|      -73.990985|      40.734834|        null|       -73.957354|       40.726189|       15.0|  0.0|   null|       0.0|         0.0|        15.0|{1, [[[-73.990985...|{1, [[[-73.957354...|{5, [[[-80.0, 35....|\n",
       "      VTS|2010-02-09 00:39:00|2010-02-09 00:47:00|              1|         1.84|      -74.004577|      40.723885|           1|       -73.978537|       40.726283|        7.3|  0.5|    0.5|       0.0|         0.0|         8.3|{1, [[[-74.004577...|{1, [[[-73.978537...|{5, [[[-80.0, 35....|\n",
       "      CMT|2010-02-05 17:00:49|2010-02-05 17:09:30|              1|          1.0|      -73.999779|      40.718208|           1|        -74.00997|       40.711261|        6.1|  1.0|    0.5|       0.0|         0.0|         7.6|{1, [[[-73.999779...|{1, [[[-74.00997,...|{5, [[[-80.0, 35....|\n",
       "      CMT|2009-02-05 16:32:41|2009-02-05 16:52:21|              1|          4.4|      -74.009162|      40.713183|        null|       -73.987602|       40.738736|       14.3|  0.0|   null|      2.86|         0.0|       17.16|{1, [[[-74.009162...|{1, [[[-73.987602...|{5, [[[-80.0, 35....|\n",
       "      VTS|2009-05-23 23:12:00|2009-05-23 23:27:00|              2|         4.62|      -74.015995|      40.711183|        null|        -73.99806|       40.682233|       12.9|  0.5|   null|       0.0|         0.0|        13.4|{1, [[[-74.015995...|{1, [[[-73.99806,...|{5, [[[-80.0, 35....|\n",
       "      CMT|2010-02-22 14:24:15|2010-02-22 15:14:33|              1|         20.6|      -74.010775|       40.70861|           1|       -73.785869|       40.638801|       45.0|  0.0|    0.5|      7.51|        4.57|       57.58|{1, [[[-74.010775...|{1, [[[-73.785869...|{5, [[[-80.0, 35....|\n",
       "      CMT|2009-05-13 23:00:55|2009-05-13 23:06:53|              1|          1.5|      -73.998792|      40.734615|        null|       -73.993595|       40.751491|        6.1|  0.0|   null|       0.0|         0.0|         6.1|{1, [[[-73.998792...|{1, [[[-73.993595...|{5, [[[-80.0, 35....|\n",
       "      VTS|2009-02-13 20:44:00|2009-02-13 20:51:00|              1|         1.06|       -74.01119|      40.715655|        null|       -74.016407|        40.70674|        5.3|  0.5|   null|       0.0|         0.0|         5.8|{1, [[[-74.01119,...|{1, [[[-74.016407...|{5, [[[-80.0, 35....|\n",
       "      CMT|2009-01-11 13:23:48|2009-01-11 13:31:00|              1|          1.6|      -73.997643|      40.724385|        null|       -73.981072|       40.733372|        6.5|  0.0|   null|       2.0|         0.0|         8.5|{1, [[[-73.997643...|{1, [[[-73.981072...|{5, [[[-80.0, 35....|\n",
       "      CMT|2010-02-03 07:44:00|2010-02-03 07:58:12|              1|          4.7|       -74.00716|      40.703949|           1|         -73.9861|       40.740568|       13.3|  0.0|    0.5|       0.0|         0.0|        13.8|{1, [[[-74.00716,...|{1, [[[-73.9861, ...|{5, [[[-80.0, 35....|\n",
       "      VTS|2009-04-20 20:38:00|2009-04-20 20:44:00|              4|         0.98|      -73.996908|      40.725305|        null|       -73.989772|       40.729723|        5.3|  0.5|   null|       0.0|         0.0|         5.8|{1, [[[-73.996908...|{1, [[[-73.989772...|{5, [[[-80.0, 35....|\n",
       "      VTS|2010-02-19 19:42:00|2010-02-19 19:46:00|              2|         0.87|      -74.006897|      40.728678|           1|       -74.002515|       40.739837|        4.5|  1.0|    0.5|       0.0|         0.0|         6.0|{1, [[[-74.006897...|{1, [[[-74.002515...|{5, [[[-80.0, 35....|\n",
       "      VTS|2009-02-01 01:06:00|2009-02-01 01:21:00|              1|         2.43|       -74.00025|      40.726588|        null|       -73.972762|       40.740077|       10.1|  0.5|   null|       0.0|         0.0|        10.6|{1, [[[-74.00025,...|{1, [[[-73.972762...|{5, [[[-80.0, 35....|\n",
       "      CMT|2010-02-03 20:56:23|2010-02-03 21:21:14|              2|          5.8|      -74.029051|       40.69396|           1|       -74.029051|        40.69396|       18.1|  0.5|    0.5|      3.82|         0.0|       22.92|{1, [[[-74.029051...|{1, [[[-74.029051...|{5, [[[-80.0, 35....|\n",
       "+---------+-------------------+-------------------+---------------+-------------+----------------+---------------+------------+-----------------+----------------+-----------+-----+-------+----------+------------+------------+--------------------+--------------------+--------------------+\n",
       "only showing top 20 rows\n",
       "\n",
       "</div>"
      ]
     },
     "metadata": {
      "application/vnd.databricks.v1+output": {
       "addedWidgets": {},
       "arguments": {},
       "data": "<div class=\"ansiout\">+---------+-------------------+-------------------+---------------+-------------+----------------+---------------+------------+-----------------+----------------+-----------+-----+-------+----------+------------+------------+--------------------+--------------------+--------------------+\n|vendor_id|    pickup_datetime|   dropoff_datetime|passenger_count|trip_distance|pickup_longitude|pickup_latitude|rate_code_id|dropoff_longitude|dropoff_latitude|fare_amount|extra|mta_tax|tip_amount|tolls_amount|total_amount|         pickup_geom|        dropoff_geom|              bounds|\n+---------+-------------------+-------------------+---------------+-------------+----------------+---------------+------------+-----------------+----------------+-----------+-----+-------+----------+------------+------------+--------------------+--------------------+--------------------+\n|      CMT|2009-05-16 23:09:38|2009-05-16 23:12:36|              1|          0.4|      -73.993708|      40.724551|        null|       -74.001403|       40.730863|        3.7|  0.0|   null|       0.0|         0.0|         3.7|{1, [[[-73.993708...|{1, [[[-74.001403...|{5, [[[-80.0, 35....|\n|      VTS|2010-04-30 05:50:00|2010-04-30 05:51:00|              1|          0.0|      -74.183187|       40.68801|           5|       -74.183145|       40.687972|       65.0|  0.0|    0.0|      20.0|         0.0|        85.0|{1, [[[-74.183187...|{1, [[[-74.183145...|{5, [[[-80.0, 35....|\n|      DDS|2009-05-29 17:25:37|2009-05-29 17:50:13|              1|          4.5|      -74.002906|      40.728279|        null|       -73.954818|       40.767097|       15.3|  1.0|   null|      4.05|         0.0|       20.35|{1, [[[-74.002906...|{1, [[[-73.954818...|{5, [[[-80.0, 35....|\n|      CMT|2009-12-28 18:19:23|2009-12-28 18:33:29|              1|          4.7|      -73.997848|      40.726077|        null|       -73.988747|       40.777933|       13.3|  1.0|    0.5|      2.22|         0.0|       17.02|{1, [[[-73.997848...|{1, [[[-73.988747...|{5, [[[-80.0, 35....|\n|      CMT|2010-04-30 22:44:29|2010-04-30 22:57:05|              2|          2.5|       -74.00514|      40.718808|           1|       -73.986013|       40.751643|        9.3|  0.5|    0.5|       0.0|         0.0|        10.3|{1, [[[-74.00514,...|{1, [[[-73.986013...|{5, [[[-80.0, 35....|\n|      DDS|2009-05-03 00:12:28|2009-05-03 00:18:40|              1|          1.0|      -73.991796|      40.725481|        null|       -73.977891|        40.72679|        5.3|  0.5|   null|       0.0|         0.0|         5.8|{1, [[[-73.991796...|{1, [[[-73.977891...|{5, [[[-80.0, 35....|\n|      CMT|2009-01-31 01:36:33|2009-01-31 01:54:19|              1|          4.6|      -73.990985|      40.734834|        null|       -73.957354|       40.726189|       15.0|  0.0|   null|       0.0|         0.0|        15.0|{1, [[[-73.990985...|{1, [[[-73.957354...|{5, [[[-80.0, 35....|\n|      VTS|2010-02-09 00:39:00|2010-02-09 00:47:00|              1|         1.84|      -74.004577|      40.723885|           1|       -73.978537|       40.726283|        7.3|  0.5|    0.5|       0.0|         0.0|         8.3|{1, [[[-74.004577...|{1, [[[-73.978537...|{5, [[[-80.0, 35....|\n|      CMT|2010-02-05 17:00:49|2010-02-05 17:09:30|              1|          1.0|      -73.999779|      40.718208|           1|        -74.00997|       40.711261|        6.1|  1.0|    0.5|       0.0|         0.0|         7.6|{1, [[[-73.999779...|{1, [[[-74.00997,...|{5, [[[-80.0, 35....|\n|      CMT|2009-02-05 16:32:41|2009-02-05 16:52:21|              1|          4.4|      -74.009162|      40.713183|        null|       -73.987602|       40.738736|       14.3|  0.0|   null|      2.86|         0.0|       17.16|{1, [[[-74.009162...|{1, [[[-73.987602...|{5, [[[-80.0, 35....|\n|      VTS|2009-05-23 23:12:00|2009-05-23 23:27:00|              2|         4.62|      -74.015995|      40.711183|        null|        -73.99806|       40.682233|       12.9|  0.5|   null|       0.0|         0.0|        13.4|{1, [[[-74.015995...|{1, [[[-73.99806,...|{5, [[[-80.0, 35....|\n|      CMT|2010-02-22 14:24:15|2010-02-22 15:14:33|              1|         20.6|      -74.010775|       40.70861|           1|       -73.785869|       40.638801|       45.0|  0.0|    0.5|      7.51|        4.57|       57.58|{1, [[[-74.010775...|{1, [[[-73.785869...|{5, [[[-80.0, 35....|\n|      CMT|2009-05-13 23:00:55|2009-05-13 23:06:53|              1|          1.5|      -73.998792|      40.734615|        null|       -73.993595|       40.751491|        6.1|  0.0|   null|       0.0|         0.0|         6.1|{1, [[[-73.998792...|{1, [[[-73.993595...|{5, [[[-80.0, 35....|\n|      VTS|2009-02-13 20:44:00|2009-02-13 20:51:00|              1|         1.06|       -74.01119|      40.715655|        null|       -74.016407|        40.70674|        5.3|  0.5|   null|       0.0|         0.0|         5.8|{1, [[[-74.01119,...|{1, [[[-74.016407...|{5, [[[-80.0, 35....|\n|      CMT|2009-01-11 13:23:48|2009-01-11 13:31:00|              1|          1.6|      -73.997643|      40.724385|        null|       -73.981072|       40.733372|        6.5|  0.0|   null|       2.0|         0.0|         8.5|{1, [[[-73.997643...|{1, [[[-73.981072...|{5, [[[-80.0, 35....|\n|      CMT|2010-02-03 07:44:00|2010-02-03 07:58:12|              1|          4.7|       -74.00716|      40.703949|           1|         -73.9861|       40.740568|       13.3|  0.0|    0.5|       0.0|         0.0|        13.8|{1, [[[-74.00716,...|{1, [[[-73.9861, ...|{5, [[[-80.0, 35....|\n|      VTS|2009-04-20 20:38:00|2009-04-20 20:44:00|              4|         0.98|      -73.996908|      40.725305|        null|       -73.989772|       40.729723|        5.3|  0.5|   null|       0.0|         0.0|         5.8|{1, [[[-73.996908...|{1, [[[-73.989772...|{5, [[[-80.0, 35....|\n|      VTS|2010-02-19 19:42:00|2010-02-19 19:46:00|              2|         0.87|      -74.006897|      40.728678|           1|       -74.002515|       40.739837|        4.5|  1.0|    0.5|       0.0|         0.0|         6.0|{1, [[[-74.006897...|{1, [[[-74.002515...|{5, [[[-80.0, 35....|\n|      VTS|2009-02-01 01:06:00|2009-02-01 01:21:00|              1|         2.43|       -74.00025|      40.726588|        null|       -73.972762|       40.740077|       10.1|  0.5|   null|       0.0|         0.0|        10.6|{1, [[[-74.00025,...|{1, [[[-73.972762...|{5, [[[-80.0, 35....|\n|      CMT|2010-02-03 20:56:23|2010-02-03 21:21:14|              2|          5.8|      -74.029051|       40.69396|           1|       -74.029051|        40.69396|       18.1|  0.5|    0.5|      3.82|         0.0|       22.92|{1, [[[-74.029051...|{1, [[[-74.029051...|{5, [[[-80.0, 35....|\n+---------+-------------------+-------------------+---------------+-------------+----------------+---------------+------------+-----------------+----------------+-----------+-----+-------+----------+------------+------------+--------------------+--------------------+--------------------+\nonly showing top 20 rows\n\n</div>",
       "datasetInfos": [],
       "metadata": {},
       "removedWidgets": [],
       "type": "html"
      }
     },
     "output_type": "display_data",
     "transient": null
    }
   ],
   "source": [
    "trips.show()"
   ]
  },
  {
   "cell_type": "markdown",
   "metadata": {
    "application/vnd.databricks.v1+cell": {
     "inputWidgets": {},
     "nuid": "c9353ac7-aa07-4d75-8b16-0031803ea31e",
     "showTitle": false,
     "title": ""
    }
   },
   "source": [
    "## Read from GeoJson, compute some basic geometry attributes"
   ]
  },
  {
   "cell_type": "markdown",
   "metadata": {
    "application/vnd.databricks.v1+cell": {
     "inputWidgets": {},
     "nuid": "db5daf84-fc48-45ce-81a7-5af76b7b6010",
     "showTitle": false,
     "title": ""
    }
   },
   "source": [
    "You've seen how Mosaic can create geometries from Spark native data types but it also provides functions to translate Well Known Text (WKT), Well Known Binary (WKB) and GeoJSON representations to Mosaic geometries."
   ]
  },
  {
   "cell_type": "code",
   "execution_count": 0,
   "metadata": {
    "application/vnd.databricks.v1+cell": {
     "inputWidgets": {},
     "nuid": "49505635-4e84-480e-9892-e3e816af2226",
     "showTitle": false,
     "title": ""
    }
   },
   "outputs": [
    {
     "data": {
      "text/html": [
       "<style scoped>\n",
       "  .ansiout {\n",
       "    display: block;\n",
       "    unicode-bidi: embed;\n",
       "    white-space: pre-wrap;\n",
       "    word-wrap: break-word;\n",
       "    word-break: break-all;\n",
       "    font-family: \"Source Code Pro\", \"Menlo\", monospace;;\n",
       "    font-size: 13px;\n",
       "    color: #555;\n",
       "    margin-left: 4px;\n",
       "    line-height: 19px;\n",
       "  }\n",
       "</style>\n",
       "<div class=\"ansiout\">+-------------+-----------+--------+--------------------+--------------------+\n",
       "      borough|location_id|objectid|                zone|            geometry|\n",
       "+-------------+-----------+--------+--------------------+--------------------+\n",
       "          EWR|          1|       1|      Newark Airport|{6, [[[-74.184452...|\n",
       "       Queens|          2|       2|         Jamaica Bay|{6, [[[-73.823375...|\n",
       "        Bronx|          3|       3|Allerton/Pelham G...|{6, [[[-73.847926...|\n",
       "    Manhattan|          4|       4|       Alphabet City|{6, [[[-73.971774...|\n",
       "Staten Island|          5|       5|       Arden Heights|{6, [[[-74.174217...|\n",
       "Staten Island|          6|       6|Arrochar/Fort Wad...|{6, [[[-74.063673...|\n",
       "       Queens|          7|       7|             Astoria|{6, [[[-73.904136...|\n",
       "       Queens|          8|       8|        Astoria Park|{6, [[[-73.923340...|\n",
       "       Queens|          9|       9|          Auburndale|{6, [[[-73.785024...|\n",
       "    Manhattan|         24|      24|        Bloomingdale|{6, [[[-73.959536...|\n",
       "       Queens|         10|      10|        Baisley Park|{6, [[[-73.783266...|\n",
       "     Brooklyn|         11|      11|          Bath Beach|{6, [[[-74.001098...|\n",
       "    Manhattan|         12|      12|        Battery Park|{6, [[[-74.015657...|\n",
       "    Manhattan|         13|      13|   Battery Park City|{6, [[[-74.012441...|\n",
       "        Bronx|         18|      18|        Bedford Park|{6, [[[-73.885139...|\n",
       "     Brooklyn|         25|      25|         Boerum Hill|{6, [[[-73.981552...|\n",
       "     Brooklyn|         14|      14|           Bay Ridge|{6, [[[-74.034073...|\n",
       "       Queens|         15|      15|Bay Terrace/Fort ...|{6, [[[-73.777403...|\n",
       "     Brooklyn|         22|      22|    Bensonhurst West|{6, [[[-73.992549...|\n",
       "Staten Island|         23|      23|Bloomfield/Emerso...|{6, [[[-74.195686...|\n",
       "+-------------+-----------+--------+--------------------+--------------------+\n",
       "only showing top 20 rows\n",
       "\n",
       "</div>"
      ]
     },
     "metadata": {
      "application/vnd.databricks.v1+output": {
       "addedWidgets": {},
       "arguments": {},
       "data": "<div class=\"ansiout\">+-------------+-----------+--------+--------------------+--------------------+\n|      borough|location_id|objectid|                zone|            geometry|\n+-------------+-----------+--------+--------------------+--------------------+\n|          EWR|          1|       1|      Newark Airport|{6, [[[-74.184452...|\n|       Queens|          2|       2|         Jamaica Bay|{6, [[[-73.823375...|\n|        Bronx|          3|       3|Allerton/Pelham G...|{6, [[[-73.847926...|\n|    Manhattan|          4|       4|       Alphabet City|{6, [[[-73.971774...|\n|Staten Island|          5|       5|       Arden Heights|{6, [[[-74.174217...|\n|Staten Island|          6|       6|Arrochar/Fort Wad...|{6, [[[-74.063673...|\n|       Queens|          7|       7|             Astoria|{6, [[[-73.904136...|\n|       Queens|          8|       8|        Astoria Park|{6, [[[-73.923340...|\n|       Queens|          9|       9|          Auburndale|{6, [[[-73.785024...|\n|    Manhattan|         24|      24|        Bloomingdale|{6, [[[-73.959536...|\n|       Queens|         10|      10|        Baisley Park|{6, [[[-73.783266...|\n|     Brooklyn|         11|      11|          Bath Beach|{6, [[[-74.001098...|\n|    Manhattan|         12|      12|        Battery Park|{6, [[[-74.015657...|\n|    Manhattan|         13|      13|   Battery Park City|{6, [[[-74.012441...|\n|        Bronx|         18|      18|        Bedford Park|{6, [[[-73.885139...|\n|     Brooklyn|         25|      25|         Boerum Hill|{6, [[[-73.981552...|\n|     Brooklyn|         14|      14|           Bay Ridge|{6, [[[-74.034073...|\n|       Queens|         15|      15|Bay Terrace/Fort ...|{6, [[[-73.777403...|\n|     Brooklyn|         22|      22|    Bensonhurst West|{6, [[[-73.992549...|\n|Staten Island|         23|      23|Bloomfield/Emerso...|{6, [[[-74.195686...|\n+-------------+-----------+--------+--------------------+--------------------+\nonly showing top 20 rows\n\n</div>",
       "datasetInfos": [],
       "metadata": {},
       "removedWidgets": [],
       "type": "html"
      }
     },
     "output_type": "display_data",
     "transient": null
    }
   ],
   "source": [
    "from mosaic import st_geomfromgeojson\n",
    "\n",
    "geoJsonDF = (\n",
    "  spark.read.format(\"json\")\n",
    "  .load(\"dbfs:/FileStore/shared_uploads/stuart.lynn@databricks.com/NYC_Taxi_Zones.geojson\")\n",
    "  .withColumn(\"geometry\", st_geomfromgeojson(to_json(col(\"geometry\"))))\n",
    "  .select(\"properties.*\", \"geometry\")\n",
    "  .drop(\"shape_area\", \"shape_leng\")\n",
    ")\n",
    "\n",
    "geoJsonDF.show()"
   ]
  },
  {
   "cell_type": "markdown",
   "metadata": {
    "application/vnd.databricks.v1+cell": {
     "inputWidgets": {},
     "nuid": "880c5fb4-c0b2-456b-9167-cb6327876dbd",
     "showTitle": false,
     "title": ""
    }
   },
   "source": [
    "Mosaic provides a number of functions for extracting the properties of geometries. Here are some that are relevant to Polygon geometries:"
   ]
  },
  {
   "cell_type": "code",
   "execution_count": 0,
   "metadata": {
    "application/vnd.databricks.v1+cell": {
     "inputWidgets": {},
     "nuid": "939d35fd-d868-4e73-8338-3cb8142fffe9",
     "showTitle": false,
     "title": ""
    }
   },
   "outputs": [
    {
     "data": {
      "text/html": [
       "<style scoped>\n",
       "  .ansiout {\n",
       "    display: block;\n",
       "    unicode-bidi: embed;\n",
       "    white-space: pre-wrap;\n",
       "    word-wrap: break-word;\n",
       "    word-break: break-all;\n",
       "    font-family: \"Source Code Pro\", \"Menlo\", monospace;;\n",
       "    font-size: 13px;\n",
       "    color: #555;\n",
       "    margin-left: 4px;\n",
       "    line-height: 19px;\n",
       "  }\n",
       "</style>\n",
       "<div class=\"ansiout\">+--------------------+--------------------+--------------------+\n",
       "            geometry|      calculatedArea|    calculatedLength|\n",
       "+--------------------+--------------------+--------------------+\n",
       "{6, [[[-74.184452...|7.823067885002562E-4|  0.1163574531886787|\n",
       "{6, [[[-73.823375...|0.001422779097814599|  0.8431218810128789|\n",
       "{6, [[[-73.847926...|3.144141568206508E-4| 0.08434110590105784|\n",
       "{6, [[[-73.971774...| 7.94539194214528E-5| 0.03559982116907461|\n",
       "{6, [[[-74.174217...|4.979574893632193E-4| 0.09214648985735088|\n",
       "{6, [[[-74.063673...|4.046076598541714E-4| 0.12905753305870837|\n",
       "{6, [[[-73.904136...|3.897879892739018...| 0.10741717112348065|\n",
       "{6, [[[-73.923340...|2.658771690499072E-5|0.027590691195158792|\n",
       "{6, [[[-73.785024...|3.384438031986125...|  0.0997840924710119|\n",
       "{6, [[[-73.959536...|4.193691000471793E-5|0.034022318280805826|\n",
       "{6, [[[-73.783266...|4.358238180810105...| 0.09983947941552027|\n",
       "{6, [[[-74.001098...|2.029913532381591E-4| 0.07243934539937844|\n",
       "{6, [[[-74.015657...|1.078595394871048...| 0.01759380786230351|\n",
       "{6, [[[-74.012441...|4.874002713725957E-5| 0.04726120195723124|\n",
       "{6, [[[-73.885139...|1.488501639473639E-4| 0.06979954985700013|\n",
       "{6, [[[-73.981552...|1.241682673558662...| 0.04714581993191898|\n",
       "{6, [[[-74.034073...|6.636590898190788E-4| 0.13622530962992194|\n",
       "{6, [[[-73.777403...|4.588438269978550...|  0.1295148763926726|\n",
       "{6, [[[-73.992549...|4.613649657988681...| 0.11844001178496774|\n",
       "{6, [[[-74.195686...|0.002090822778761513|  0.3007595308122533|\n",
       "+--------------------+--------------------+--------------------+\n",
       "only showing top 20 rows\n",
       "\n",
       "</div>"
      ]
     },
     "metadata": {
      "application/vnd.databricks.v1+output": {
       "addedWidgets": {},
       "arguments": {},
       "data": "<div class=\"ansiout\">+--------------------+--------------------+--------------------+\n|            geometry|      calculatedArea|    calculatedLength|\n+--------------------+--------------------+--------------------+\n|{6, [[[-74.184452...|7.823067885002562E-4|  0.1163574531886787|\n|{6, [[[-73.823375...|0.001422779097814599|  0.8431218810128789|\n|{6, [[[-73.847926...|3.144141568206508E-4| 0.08434110590105784|\n|{6, [[[-73.971774...| 7.94539194214528E-5| 0.03559982116907461|\n|{6, [[[-74.174217...|4.979574893632193E-4| 0.09214648985735088|\n|{6, [[[-74.063673...|4.046076598541714E-4| 0.12905753305870837|\n|{6, [[[-73.904136...|3.897879892739018...| 0.10741717112348065|\n|{6, [[[-73.923340...|2.658771690499072E-5|0.027590691195158792|\n|{6, [[[-73.785024...|3.384438031986125...|  0.0997840924710119|\n|{6, [[[-73.959536...|4.193691000471793E-5|0.034022318280805826|\n|{6, [[[-73.783266...|4.358238180810105...| 0.09983947941552027|\n|{6, [[[-74.001098...|2.029913532381591E-4| 0.07243934539937844|\n|{6, [[[-74.015657...|1.078595394871048...| 0.01759380786230351|\n|{6, [[[-74.012441...|4.874002713725957E-5| 0.04726120195723124|\n|{6, [[[-73.885139...|1.488501639473639E-4| 0.06979954985700013|\n|{6, [[[-73.981552...|1.241682673558662...| 0.04714581993191898|\n|{6, [[[-74.034073...|6.636590898190788E-4| 0.13622530962992194|\n|{6, [[[-73.777403...|4.588438269978550...|  0.1295148763926726|\n|{6, [[[-73.992549...|4.613649657988681...| 0.11844001178496774|\n|{6, [[[-74.195686...|0.002090822778761513|  0.3007595308122533|\n+--------------------+--------------------+--------------------+\nonly showing top 20 rows\n\n</div>",
       "datasetInfos": [],
       "metadata": {},
       "removedWidgets": [],
       "type": "html"
      }
     },
     "output_type": "display_data",
     "transient": null
    }
   ],
   "source": [
    "from mosaic import st_area, st_length\n",
    "(\n",
    "  geoJsonDF\n",
    "  .withColumn(\"calculatedArea\", abs(st_area(\"geometry\")))\n",
    "  .withColumn(\"calculatedLength\", st_length(\"geometry\"))\n",
    "  .select(\"geometry\", \"calculatedArea\", \"calculatedLength\")\n",
    ").show()"
   ]
  },
  {
   "cell_type": "code",
   "execution_count": 0,
   "metadata": {
    "application/vnd.databricks.v1+cell": {
     "inputWidgets": {},
     "nuid": "920599a2-6c52-40e4-8547-a99f757406a6",
     "showTitle": false,
     "title": ""
    }
   },
   "outputs": [
    {
     "data": {
      "text/html": [
       "<style scoped>\n",
       "  .ansiout {\n",
       "    display: block;\n",
       "    unicode-bidi: embed;\n",
       "    white-space: pre-wrap;\n",
       "    word-wrap: break-word;\n",
       "    word-break: break-all;\n",
       "    font-family: \"Source Code Pro\", \"Menlo\", monospace;;\n",
       "    font-size: 13px;\n",
       "    color: #555;\n",
       "    margin-left: 4px;\n",
       "    line-height: 19px;\n",
       "  }\n",
       "</style>\n",
       "<div class=\"ansiout\">Out[13]: 263</div>"
      ]
     },
     "metadata": {
      "application/vnd.databricks.v1+output": {
       "addedWidgets": {},
       "arguments": {},
       "data": "<div class=\"ansiout\">Out[13]: 263</div>",
       "datasetInfos": [],
       "metadata": {},
       "removedWidgets": [],
       "type": "html"
      }
     },
     "output_type": "display_data",
     "transient": null
    }
   ],
   "source": [
    "geoJsonDF.count()"
   ]
  },
  {
   "cell_type": "markdown",
   "metadata": {
    "application/vnd.databricks.v1+cell": {
     "inputWidgets": {},
     "nuid": "e0d34f66-7498-4a86-9dd3-b2664ebc535c",
     "showTitle": false,
     "title": ""
    }
   },
   "source": [
    "## Example point-in-poly with indexing"
   ]
  },
  {
   "cell_type": "markdown",
   "metadata": {
    "application/vnd.databricks.v1+cell": {
     "inputWidgets": {},
     "nuid": "cb687786-0494-468d-b2e4-dbe847ea887b",
     "showTitle": false,
     "title": ""
    }
   },
   "source": [
    "Mosaic has built-in support for the popular spatial indexing library, H3. The user has access to functions for generating point indices and the sets of indices covering polygons, allowing point-in-polygon joins to be transformed into deterministic SQL joins."
   ]
  },
  {
   "cell_type": "code",
   "execution_count": 0,
   "metadata": {
    "application/vnd.databricks.v1+cell": {
     "inputWidgets": {},
     "nuid": "0ef8a536-fda8-4a9a-a2e6-58ad0c39cc8b",
     "showTitle": false,
     "title": ""
    }
   },
   "outputs": [
    {
     "data": {
      "text/html": [
       "<style scoped>\n",
       "  .ansiout {\n",
       "    display: block;\n",
       "    unicode-bidi: embed;\n",
       "    white-space: pre-wrap;\n",
       "    word-wrap: break-word;\n",
       "    word-break: break-all;\n",
       "    font-family: \"Source Code Pro\", \"Menlo\", monospace;;\n",
       "    font-size: 13px;\n",
       "    color: #555;\n",
       "    margin-left: 4px;\n",
       "    line-height: 19px;\n",
       "  }\n",
       "</style>\n",
       "<div class=\"ansiout\">+---------+-------------------+-------------------+---------------+-------------+----------------+---------------+------------+-----------------+----------------+-----------+-----+-------+----------+------------+------------+--------------------+--------------------+--------------------+------------------+------------------+\n",
       "vendor_id|    pickup_datetime|   dropoff_datetime|passenger_count|trip_distance|pickup_longitude|pickup_latitude|rate_code_id|dropoff_longitude|dropoff_latitude|fare_amount|extra|mta_tax|tip_amount|tolls_amount|total_amount|         pickup_geom|        dropoff_geom|              bounds|         pickup_h3|        dropoff_h3|\n",
       "+---------+-------------------+-------------------+---------------+-------------+----------------+---------------+------------+-----------------+----------------+-----------+-----+-------+----------+------------+------------+--------------------+--------------------+--------------------+------------------+------------------+\n",
       "      CMT|2009-05-16 23:09:38|2009-05-16 23:12:36|              1|          0.4|      -73.993708|      40.724551|        null|       -74.001403|       40.730863|        3.7|  0.0|   null|       0.0|         0.0|         3.7|{1, [[[-73.993708...|{1, [[[-74.001403...|{5, [[[-80.0, 35....|622236750717878271|622236750719582207|\n",
       "      VTS|2010-04-30 05:50:00|2010-04-30 05:51:00|              1|          0.0|      -74.183187|       40.68801|           5|       -74.183145|       40.687972|       65.0|  0.0|    0.0|      20.0|         0.0|        85.0|{1, [[[-74.183187...|{1, [[[-74.183145...|{5, [[[-80.0, 35....|622236750416314367|622236750416314367|\n",
       "      DDS|2009-05-29 17:25:37|2009-05-29 17:50:13|              1|          4.5|      -74.002906|      40.728279|        null|       -73.954818|       40.767097|       15.3|  1.0|   null|      4.05|         0.0|       20.35|{1, [[[-74.002906...|{1, [[[-73.954818...|{5, [[[-80.0, 35....|622236750718533631|622236723465322495|\n",
       "      CMT|2009-12-28 18:19:23|2009-12-28 18:33:29|              1|          4.7|      -73.997848|      40.726077|        null|       -73.988747|       40.777933|       13.3|  1.0|    0.5|      2.22|         0.0|       17.02|{1, [[[-73.997848...|{1, [[[-73.988747...|{5, [[[-80.0, 35....|622236750714863615|622236722234720255|\n",
       "      CMT|2010-04-30 22:44:29|2010-04-30 22:57:05|              2|          2.5|       -74.00514|      40.718808|           1|       -73.986013|       40.751643|        9.3|  0.5|    0.5|       0.0|         0.0|        10.3|{1, [[[-74.00514,...|{1, [[[-73.986013...|{5, [[[-80.0, 35....|622236750713356287|622236723439960063|\n",
       "      DDS|2009-05-03 00:12:28|2009-05-03 00:18:40|              1|          1.0|      -73.991796|      40.725481|        null|       -73.977891|        40.72679|        5.3|  0.5|   null|       0.0|         0.0|         5.8|{1, [[[-73.991796...|{1, [[[-73.977891...|{5, [[[-80.0, 35....|622236750714372095|622236723448152063|\n",
       "      CMT|2009-01-31 01:36:33|2009-01-31 01:54:19|              1|          4.6|      -73.990985|      40.734834|        null|       -73.957354|       40.726189|       15.0|  0.0|   null|       0.0|         0.0|        15.0|{1, [[[-73.990985...|{1, [[[-73.957354...|{5, [[[-80.0, 35....|622236723428556799|622236723413909503|\n",
       "      VTS|2010-02-09 00:39:00|2010-02-09 00:47:00|              1|         1.84|      -74.004577|      40.723885|           1|       -73.978537|       40.726283|        7.3|  0.5|    0.5|       0.0|         0.0|         8.3|{1, [[[-74.004577...|{1, [[[-73.978537...|{5, [[[-80.0, 35....|622236750706278399|622236723448152063|\n",
       "      CMT|2010-02-05 17:00:49|2010-02-05 17:09:30|              1|          1.0|      -73.999779|      40.718208|           1|        -74.00997|       40.711261|        6.1|  1.0|    0.5|       0.0|         0.0|         7.6|{1, [[[-73.999779...|{1, [[[-74.00997,...|{5, [[[-80.0, 35....|622236750709424127|622236750648508415|\n",
       "      CMT|2009-02-05 16:32:41|2009-02-05 16:52:21|              1|          4.4|      -74.009162|      40.713183|        null|       -73.987602|       40.738736|       14.3|  0.0|   null|      2.86|         0.0|       17.16|{1, [[[-74.009162...|{1, [[[-73.987602...|{5, [[[-80.0, 35....|622236750648606719|622236723426820095|\n",
       "      VTS|2009-05-23 23:12:00|2009-05-23 23:27:00|              2|         4.62|      -74.015995|      40.711183|        null|        -73.99806|       40.682233|       12.9|  0.5|   null|       0.0|         0.0|        13.4|{1, [[[-74.015995...|{1, [[[-73.99806,...|{5, [[[-80.0, 35....|622236750652506111|622236750655586303|\n",
       "      CMT|2010-02-22 14:24:15|2010-02-22 15:14:33|              1|         20.6|      -74.010775|       40.70861|           1|       -73.785869|       40.638801|       45.0|  0.0|    0.5|      7.51|        4.57|       57.58|{1, [[[-74.010775...|{1, [[[-73.785869...|{5, [[[-80.0, 35....|622236750647459839|622236735761317887|\n",
       "      CMT|2009-05-13 23:00:55|2009-05-13 23:06:53|              1|          1.5|      -73.998792|      40.734615|        null|       -73.993595|       40.751491|        6.1|  0.0|   null|       0.0|         0.0|         6.1|{1, [[[-73.998792...|{1, [[[-73.993595...|{5, [[[-80.0, 35....|622236723433144319|622236723440123903|\n",
       "      VTS|2009-02-13 20:44:00|2009-02-13 20:51:00|              1|         1.06|       -74.01119|      40.715655|        null|       -74.016407|        40.70674|        5.3|  0.5|   null|       0.0|         0.0|         5.8|{1, [[[-74.01119,...|{1, [[[-74.016407...|{5, [[[-80.0, 35....|622236750712831999|622236750640250879|\n",
       "      CMT|2009-01-11 13:23:48|2009-01-11 13:31:00|              1|          1.6|      -73.997643|      40.724385|        null|       -73.981072|       40.733372|        6.5|  0.0|   null|       2.0|         0.0|         8.5|{1, [[[-73.997643...|{1, [[[-73.981072...|{5, [[[-80.0, 35....|622236750707130367|622236723429310463|\n",
       "      CMT|2010-02-03 07:44:00|2010-02-03 07:58:12|              1|          4.7|       -74.00716|      40.703949|           1|         -73.9861|       40.740568|       13.3|  0.0|    0.5|       0.0|         0.0|        13.8|{1, [[[-74.00716,...|{1, [[[-73.9861, ...|{5, [[[-80.0, 35....|622236750650572799|622236723426328575|\n",
       "      VTS|2009-04-20 20:38:00|2009-04-20 20:44:00|              4|         0.98|      -73.996908|      40.725305|        null|       -73.989772|       40.729723|        5.3|  0.5|   null|       0.0|         0.0|         5.8|{1, [[[-73.996908...|{1, [[[-73.989772...|{5, [[[-80.0, 35....|622236750714896383|622236750715518975|\n",
       "      VTS|2010-02-19 19:42:00|2010-02-19 19:46:00|              2|         0.87|      -74.006897|      40.728678|           1|       -74.002515|       40.739837|        4.5|  1.0|    0.5|       0.0|         0.0|         6.0|{1, [[[-74.006897...|{1, [[[-74.002515...|{5, [[[-80.0, 35....|622236750718992383|622236750533066751|\n",
       "      VTS|2009-02-01 01:06:00|2009-02-01 01:21:00|              1|         2.43|       -74.00025|      40.726588|        null|       -73.972762|       40.740077|       10.1|  0.5|   null|       0.0|         0.0|        10.6|{1, [[[-74.00025,...|{1, [[[-73.972762...|{5, [[[-80.0, 35....|622236750706868223|622236723437666303|\n",
       "      CMT|2010-02-03 20:56:23|2010-02-03 21:21:14|              2|          5.8|      -74.029051|       40.69396|           1|       -74.029051|        40.69396|       18.1|  0.5|    0.5|      3.82|         0.0|       22.92|{1, [[[-74.029051...|{1, [[[-74.029051...|{5, [[[-80.0, 35....|622236750702936063|622236750702936063|\n",
       "+---------+-------------------+-------------------+---------------+-------------+----------------+---------------+------------+-----------------+----------------+-----------+-----+-------+----------+------------+------------+--------------------+--------------------+--------------------+------------------+------------------+\n",
       "only showing top 20 rows\n",
       "\n",
       "</div>"
      ]
     },
     "metadata": {
      "application/vnd.databricks.v1+output": {
       "addedWidgets": {},
       "arguments": {},
       "data": "<div class=\"ansiout\">+---------+-------------------+-------------------+---------------+-------------+----------------+---------------+------------+-----------------+----------------+-----------+-----+-------+----------+------------+------------+--------------------+--------------------+--------------------+------------------+------------------+\n|vendor_id|    pickup_datetime|   dropoff_datetime|passenger_count|trip_distance|pickup_longitude|pickup_latitude|rate_code_id|dropoff_longitude|dropoff_latitude|fare_amount|extra|mta_tax|tip_amount|tolls_amount|total_amount|         pickup_geom|        dropoff_geom|              bounds|         pickup_h3|        dropoff_h3|\n+---------+-------------------+-------------------+---------------+-------------+----------------+---------------+------------+-----------------+----------------+-----------+-----+-------+----------+------------+------------+--------------------+--------------------+--------------------+------------------+------------------+\n|      CMT|2009-05-16 23:09:38|2009-05-16 23:12:36|              1|          0.4|      -73.993708|      40.724551|        null|       -74.001403|       40.730863|        3.7|  0.0|   null|       0.0|         0.0|         3.7|{1, [[[-73.993708...|{1, [[[-74.001403...|{5, [[[-80.0, 35....|622236750717878271|622236750719582207|\n|      VTS|2010-04-30 05:50:00|2010-04-30 05:51:00|              1|          0.0|      -74.183187|       40.68801|           5|       -74.183145|       40.687972|       65.0|  0.0|    0.0|      20.0|         0.0|        85.0|{1, [[[-74.183187...|{1, [[[-74.183145...|{5, [[[-80.0, 35....|622236750416314367|622236750416314367|\n|      DDS|2009-05-29 17:25:37|2009-05-29 17:50:13|              1|          4.5|      -74.002906|      40.728279|        null|       -73.954818|       40.767097|       15.3|  1.0|   null|      4.05|         0.0|       20.35|{1, [[[-74.002906...|{1, [[[-73.954818...|{5, [[[-80.0, 35....|622236750718533631|622236723465322495|\n|      CMT|2009-12-28 18:19:23|2009-12-28 18:33:29|              1|          4.7|      -73.997848|      40.726077|        null|       -73.988747|       40.777933|       13.3|  1.0|    0.5|      2.22|         0.0|       17.02|{1, [[[-73.997848...|{1, [[[-73.988747...|{5, [[[-80.0, 35....|622236750714863615|622236722234720255|\n|      CMT|2010-04-30 22:44:29|2010-04-30 22:57:05|              2|          2.5|       -74.00514|      40.718808|           1|       -73.986013|       40.751643|        9.3|  0.5|    0.5|       0.0|         0.0|        10.3|{1, [[[-74.00514,...|{1, [[[-73.986013...|{5, [[[-80.0, 35....|622236750713356287|622236723439960063|\n|      DDS|2009-05-03 00:12:28|2009-05-03 00:18:40|              1|          1.0|      -73.991796|      40.725481|        null|       -73.977891|        40.72679|        5.3|  0.5|   null|       0.0|         0.0|         5.8|{1, [[[-73.991796...|{1, [[[-73.977891...|{5, [[[-80.0, 35....|622236750714372095|622236723448152063|\n|      CMT|2009-01-31 01:36:33|2009-01-31 01:54:19|              1|          4.6|      -73.990985|      40.734834|        null|       -73.957354|       40.726189|       15.0|  0.0|   null|       0.0|         0.0|        15.0|{1, [[[-73.990985...|{1, [[[-73.957354...|{5, [[[-80.0, 35....|622236723428556799|622236723413909503|\n|      VTS|2010-02-09 00:39:00|2010-02-09 00:47:00|              1|         1.84|      -74.004577|      40.723885|           1|       -73.978537|       40.726283|        7.3|  0.5|    0.5|       0.0|         0.0|         8.3|{1, [[[-74.004577...|{1, [[[-73.978537...|{5, [[[-80.0, 35....|622236750706278399|622236723448152063|\n|      CMT|2010-02-05 17:00:49|2010-02-05 17:09:30|              1|          1.0|      -73.999779|      40.718208|           1|        -74.00997|       40.711261|        6.1|  1.0|    0.5|       0.0|         0.0|         7.6|{1, [[[-73.999779...|{1, [[[-74.00997,...|{5, [[[-80.0, 35....|622236750709424127|622236750648508415|\n|      CMT|2009-02-05 16:32:41|2009-02-05 16:52:21|              1|          4.4|      -74.009162|      40.713183|        null|       -73.987602|       40.738736|       14.3|  0.0|   null|      2.86|         0.0|       17.16|{1, [[[-74.009162...|{1, [[[-73.987602...|{5, [[[-80.0, 35....|622236750648606719|622236723426820095|\n|      VTS|2009-05-23 23:12:00|2009-05-23 23:27:00|              2|         4.62|      -74.015995|      40.711183|        null|        -73.99806|       40.682233|       12.9|  0.5|   null|       0.0|         0.0|        13.4|{1, [[[-74.015995...|{1, [[[-73.99806,...|{5, [[[-80.0, 35....|622236750652506111|622236750655586303|\n|      CMT|2010-02-22 14:24:15|2010-02-22 15:14:33|              1|         20.6|      -74.010775|       40.70861|           1|       -73.785869|       40.638801|       45.0|  0.0|    0.5|      7.51|        4.57|       57.58|{1, [[[-74.010775...|{1, [[[-73.785869...|{5, [[[-80.0, 35....|622236750647459839|622236735761317887|\n|      CMT|2009-05-13 23:00:55|2009-05-13 23:06:53|              1|          1.5|      -73.998792|      40.734615|        null|       -73.993595|       40.751491|        6.1|  0.0|   null|       0.0|         0.0|         6.1|{1, [[[-73.998792...|{1, [[[-73.993595...|{5, [[[-80.0, 35....|622236723433144319|622236723440123903|\n|      VTS|2009-02-13 20:44:00|2009-02-13 20:51:00|              1|         1.06|       -74.01119|      40.715655|        null|       -74.016407|        40.70674|        5.3|  0.5|   null|       0.0|         0.0|         5.8|{1, [[[-74.01119,...|{1, [[[-74.016407...|{5, [[[-80.0, 35....|622236750712831999|622236750640250879|\n|      CMT|2009-01-11 13:23:48|2009-01-11 13:31:00|              1|          1.6|      -73.997643|      40.724385|        null|       -73.981072|       40.733372|        6.5|  0.0|   null|       2.0|         0.0|         8.5|{1, [[[-73.997643...|{1, [[[-73.981072...|{5, [[[-80.0, 35....|622236750707130367|622236723429310463|\n|      CMT|2010-02-03 07:44:00|2010-02-03 07:58:12|              1|          4.7|       -74.00716|      40.703949|           1|         -73.9861|       40.740568|       13.3|  0.0|    0.5|       0.0|         0.0|        13.8|{1, [[[-74.00716,...|{1, [[[-73.9861, ...|{5, [[[-80.0, 35....|622236750650572799|622236723426328575|\n|      VTS|2009-04-20 20:38:00|2009-04-20 20:44:00|              4|         0.98|      -73.996908|      40.725305|        null|       -73.989772|       40.729723|        5.3|  0.5|   null|       0.0|         0.0|         5.8|{1, [[[-73.996908...|{1, [[[-73.989772...|{5, [[[-80.0, 35....|622236750714896383|622236750715518975|\n|      VTS|2010-02-19 19:42:00|2010-02-19 19:46:00|              2|         0.87|      -74.006897|      40.728678|           1|       -74.002515|       40.739837|        4.5|  1.0|    0.5|       0.0|         0.0|         6.0|{1, [[[-74.006897...|{1, [[[-74.002515...|{5, [[[-80.0, 35....|622236750718992383|622236750533066751|\n|      VTS|2009-02-01 01:06:00|2009-02-01 01:21:00|              1|         2.43|       -74.00025|      40.726588|        null|       -73.972762|       40.740077|       10.1|  0.5|   null|       0.0|         0.0|        10.6|{1, [[[-74.00025,...|{1, [[[-73.972762...|{5, [[[-80.0, 35....|622236750706868223|622236723437666303|\n|      CMT|2010-02-03 20:56:23|2010-02-03 21:21:14|              2|          5.8|      -74.029051|       40.69396|           1|       -74.029051|        40.69396|       18.1|  0.5|    0.5|      3.82|         0.0|       22.92|{1, [[[-74.029051...|{1, [[[-74.029051...|{5, [[[-80.0, 35....|622236750702936063|622236750702936063|\n+---------+-------------------+-------------------+---------------+-------------+----------------+---------------+------------+-----------------+----------------+-----------+-----+-------+----------+------------+------------+--------------------+--------------------+--------------------+------------------+------------------+\nonly showing top 20 rows\n\n</div>",
       "datasetInfos": [],
       "metadata": {},
       "removedWidgets": [],
       "type": "html"
      }
     },
     "output_type": "display_data",
     "transient": null
    }
   ],
   "source": [
    "from mosaic import point_index\n",
    "\n",
    "trips_with_geom = (\n",
    "  trips\n",
    "  .withColumn(\"pickup_h3\", point_index(lng=\"pickup_longitude\", lat=\"pickup_latitude\", resolution=lit(10)))\n",
    "  .withColumn(\"dropoff_h3\", point_index(lng=\"dropoff_longitude\", lat=\"dropoff_latitude\", resolution=lit(10)))\n",
    ")\n",
    "\n",
    "trips_with_geom.show()"
   ]
  },
  {
   "cell_type": "code",
   "execution_count": 0,
   "metadata": {
    "application/vnd.databricks.v1+cell": {
     "inputWidgets": {},
     "nuid": "21627a45-71e0-4286-907b-94de6f04ec43",
     "showTitle": false,
     "title": ""
    }
   },
   "outputs": [
    {
     "data": {
      "text/html": [
       "<style scoped>\n",
       "  .ansiout {\n",
       "    display: block;\n",
       "    unicode-bidi: embed;\n",
       "    white-space: pre-wrap;\n",
       "    word-wrap: break-word;\n",
       "    word-break: break-all;\n",
       "    font-family: \"Source Code Pro\", \"Menlo\", monospace;;\n",
       "    font-size: 13px;\n",
       "    color: #555;\n",
       "    margin-left: 4px;\n",
       "    line-height: 19px;\n",
       "  }\n",
       "</style>\n",
       "<div class=\"ansiout\">+-------+-----------+--------+--------------------+------------------+\n",
       "borough|location_id|objectid|                zone|                h3|\n",
       "+-------+-----------+--------+--------------------+------------------+\n",
       " Queens|        207|     207|Saint Michaels Ce...|622236723991183359|\n",
       " Queens|        207|     207|Saint Michaels Ce...|622236723950878719|\n",
       " Queens|        207|     207|Saint Michaels Ce...|622236723989315583|\n",
       " Queens|        207|     207|Saint Michaels Ce...|622236723991216127|\n",
       " Queens|        207|     207|Saint Michaels Ce...|622236723988201471|\n",
       " Queens|        207|     207|Saint Michaels Ce...|622236723991248895|\n",
       " Queens|        207|     207|Saint Michaels Ce...|622236723990134783|\n",
       " Queens|        207|     207|Saint Michaels Ce...|622236723990167551|\n",
       " Queens|        207|     207|Saint Michaels Ce...|622236723950223359|\n",
       " Queens|        207|     207|Saint Michaels Ce...|622236723988299775|\n",
       " Queens|        207|     207|Saint Michaels Ce...|622236723951009791|\n",
       " Queens|        207|     207|Saint Michaels Ce...|622236723950256127|\n",
       " Queens|        207|     207|Saint Michaels Ce...|622236723988332543|\n",
       " Queens|        207|     207|Saint Michaels Ce...|622236723951042559|\n",
       " Queens|        207|     207|Saint Michaels Ce...|622236723991379967|\n",
       " Queens|        207|     207|Saint Michaels Ce...|622236723950682111|\n",
       " Queens|        207|     207|Saint Michaels Ce...|622236723950714879|\n",
       " Queens|        207|     207|Saint Michaels Ce...|622236723991052287|\n",
       " Queens|        207|     207|Saint Michaels Ce...|622236723950747647|\n",
       " Queens|        207|     207|Saint Michaels Ce...|622236723951140863|\n",
       "+-------+-----------+--------+--------------------+------------------+\n",
       "only showing top 20 rows\n",
       "\n",
       "</div>"
      ]
     },
     "metadata": {
      "application/vnd.databricks.v1+output": {
       "addedWidgets": {},
       "arguments": {},
       "data": "<div class=\"ansiout\">+-------+-----------+--------+--------------------+------------------+\n|borough|location_id|objectid|                zone|                h3|\n+-------+-----------+--------+--------------------+------------------+\n| Queens|        207|     207|Saint Michaels Ce...|622236723991183359|\n| Queens|        207|     207|Saint Michaels Ce...|622236723950878719|\n| Queens|        207|     207|Saint Michaels Ce...|622236723989315583|\n| Queens|        207|     207|Saint Michaels Ce...|622236723991216127|\n| Queens|        207|     207|Saint Michaels Ce...|622236723988201471|\n| Queens|        207|     207|Saint Michaels Ce...|622236723991248895|\n| Queens|        207|     207|Saint Michaels Ce...|622236723990134783|\n| Queens|        207|     207|Saint Michaels Ce...|622236723990167551|\n| Queens|        207|     207|Saint Michaels Ce...|622236723950223359|\n| Queens|        207|     207|Saint Michaels Ce...|622236723988299775|\n| Queens|        207|     207|Saint Michaels Ce...|622236723951009791|\n| Queens|        207|     207|Saint Michaels Ce...|622236723950256127|\n| Queens|        207|     207|Saint Michaels Ce...|622236723988332543|\n| Queens|        207|     207|Saint Michaels Ce...|622236723951042559|\n| Queens|        207|     207|Saint Michaels Ce...|622236723991379967|\n| Queens|        207|     207|Saint Michaels Ce...|622236723950682111|\n| Queens|        207|     207|Saint Michaels Ce...|622236723950714879|\n| Queens|        207|     207|Saint Michaels Ce...|622236723991052287|\n| Queens|        207|     207|Saint Michaels Ce...|622236723950747647|\n| Queens|        207|     207|Saint Michaels Ce...|622236723951140863|\n+-------+-----------+--------+--------------------+------------------+\nonly showing top 20 rows\n\n</div>",
       "datasetInfos": [],
       "metadata": {},
       "removedWidgets": [],
       "type": "html"
      }
     },
     "output_type": "display_data",
     "transient": null
    }
   ],
   "source": [
    "from mosaic import polyfill\n",
    "\n",
    "neighbourhoods = (\n",
    "  geoJsonDF\n",
    "  .repartition(sc.defaultParallelism)\n",
    "  .select(\"*\", explode(polyfill(\"geometry\", lit(10))).alias(\"h3\"))\n",
    "  .drop(\"geometry\")\n",
    ")\n",
    "\n",
    "neighbourhoods.show()"
   ]
  },
  {
   "cell_type": "code",
   "execution_count": 0,
   "metadata": {
    "application/vnd.databricks.v1+cell": {
     "inputWidgets": {},
     "nuid": "c3e68351-52d4-4a8b-8ce6-4898dedd0ecc",
     "showTitle": false,
     "title": ""
    }
   },
   "outputs": [
    {
     "data": {
      "text/html": [
       "<style scoped>\n",
       "  .ansiout {\n",
       "    display: block;\n",
       "    unicode-bidi: embed;\n",
       "    white-space: pre-wrap;\n",
       "    word-wrap: break-word;\n",
       "    word-break: break-all;\n",
       "    font-family: \"Source Code Pro\", \"Menlo\", monospace;;\n",
       "    font-size: 13px;\n",
       "    color: #555;\n",
       "    margin-left: 4px;\n",
       "    line-height: 19px;\n",
       "  }\n",
       "</style>\n",
       "<div class=\"ansiout\">Out[16]: 4942629</div>"
      ]
     },
     "metadata": {
      "application/vnd.databricks.v1+output": {
       "addedWidgets": {},
       "arguments": {},
       "data": "<div class=\"ansiout\">Out[16]: 4942629</div>",
       "datasetInfos": [],
       "metadata": {},
       "removedWidgets": [],
       "type": "html"
      }
     },
     "output_type": "display_data",
     "transient": null
    }
   ],
   "source": [
    "joined_df = trips_with_geom.alias(\"t\").join(neighbourhoods.alias(\"n\"), on=expr(\"t.pickup_h3 = n.h3\"), how=\"inner\")\n",
    "joined_df.count()"
   ]
  },
  {
   "cell_type": "markdown",
   "metadata": {
    "application/vnd.databricks.v1+cell": {
     "inputWidgets": {},
     "nuid": "c4fb8772-94b2-4fbe-aaf9-6e261609b009",
     "showTitle": false,
     "title": ""
    }
   },
   "source": [
    "## Mosaic spatial join optimizations"
   ]
  },
  {
   "cell_type": "markdown",
   "metadata": {
    "application/vnd.databricks.v1+cell": {
     "inputWidgets": {},
     "nuid": "c7696c95-820a-434e-9535-48807e1fb27c",
     "showTitle": false,
     "title": ""
    }
   },
   "source": [
    "Mosaic provides easy access to the optimized spatial join technique described in [this](https://databricks.com/blog/2021/10/11/efficient-point-in-polygon-joins-via-pyspark-and-bng-geospatial-indexing.html) blog post."
   ]
  },
  {
   "cell_type": "code",
   "execution_count": 0,
   "metadata": {
    "application/vnd.databricks.v1+cell": {
     "inputWidgets": {},
     "nuid": "1319c9ca-149c-4208-8512-f035ffff467b",
     "showTitle": false,
     "title": ""
    }
   },
   "outputs": [
    {
     "data": {
      "text/html": [
       "<style scoped>\n",
       "  .ansiout {\n",
       "    display: block;\n",
       "    unicode-bidi: embed;\n",
       "    white-space: pre-wrap;\n",
       "    word-wrap: break-word;\n",
       "    word-break: break-all;\n",
       "    font-family: \"Source Code Pro\", \"Menlo\", monospace;;\n",
       "    font-size: 13px;\n",
       "    color: #555;\n",
       "    margin-left: 4px;\n",
       "    line-height: 19px;\n",
       "  }\n",
       "</style>\n",
       "<div class=\"ansiout\">+-------+-----------+--------+--------------------+-------+------------------+--------------------+\n",
       "borough|location_id|objectid|                zone|is_core|                h3|                 wkb|\n",
       "+-------+-----------+--------+--------------------+-------+------------------+--------------------+\n",
       " Queens|        207|     207|Saint Michaels Ce...|   true|622236723950682111|                null|\n",
       " Queens|        207|     207|Saint Michaels Ce...|   true|622236723950845951|                null|\n",
       " Queens|        207|     207|Saint Michaels Ce...|   true|622236723951009791|                null|\n",
       " Queens|        207|     207|Saint Michaels Ce...|   true|622236723988332543|                null|\n",
       " Queens|        207|     207|Saint Michaels Ce...|   true|622236723950780415|                null|\n",
       " Queens|        207|     207|Saint Michaels Ce...|   true|622236723991085055|                null|\n",
       " Queens|        207|     207|Saint Michaels Ce...|   true|622236723991248895|                null|\n",
       " Queens|        207|     207|Saint Michaels Ce...|   true|622236723950714879|                null|\n",
       " Queens|        207|     207|Saint Michaels Ce...|   true|622236723991183359|                null|\n",
       " Queens|        207|     207|Saint Michaels Ce...|   true|622236723988299775|                null|\n",
       " Queens|        207|     207|Saint Michaels Ce...|   true|622236723950747647|                null|\n",
       " Queens|        207|     207|Saint Michaels Ce...|   true|622236723991052287|                null|\n",
       " Queens|        207|     207|Saint Michaels Ce...|   true|622236723991216127|                null|\n",
       " Queens|        207|     207|Saint Michaels Ce...|   true|622236723991379967|                null|\n",
       " Queens|        207|     207|Saint Michaels Ce...|   true|622236723951140863|                null|\n",
       " Queens|        207|     207|Saint Michaels Ce...|  false|622236723990167551|[01 03 00 00 00 0...|\n",
       " Queens|        207|     207|Saint Michaels Ce...|  false|622236723991117823|[01 03 00 00 00 0...|\n",
       " Queens|        207|     207|Saint Michaels Ce...|  false|622236723950288895|[01 03 00 00 00 0...|\n",
       " Queens|        207|     207|Saint Michaels Ce...|  false|622236723988365311|[01 03 00 00 00 0...|\n",
       " Queens|        207|     207|Saint Michaels Ce...|  false|622236723950878719|[01 03 00 00 00 0...|\n",
       "+-------+-----------+--------+--------------------+-------+------------------+--------------------+\n",
       "only showing top 20 rows\n",
       "\n",
       "</div>"
      ]
     },
     "metadata": {
      "application/vnd.databricks.v1+output": {
       "addedWidgets": {},
       "arguments": {},
       "data": "<div class=\"ansiout\">+-------+-----------+--------+--------------------+-------+------------------+--------------------+\n|borough|location_id|objectid|                zone|is_core|                h3|                 wkb|\n+-------+-----------+--------+--------------------+-------+------------------+--------------------+\n| Queens|        207|     207|Saint Michaels Ce...|   true|622236723950682111|                null|\n| Queens|        207|     207|Saint Michaels Ce...|   true|622236723950845951|                null|\n| Queens|        207|     207|Saint Michaels Ce...|   true|622236723951009791|                null|\n| Queens|        207|     207|Saint Michaels Ce...|   true|622236723988332543|                null|\n| Queens|        207|     207|Saint Michaels Ce...|   true|622236723950780415|                null|\n| Queens|        207|     207|Saint Michaels Ce...|   true|622236723991085055|                null|\n| Queens|        207|     207|Saint Michaels Ce...|   true|622236723991248895|                null|\n| Queens|        207|     207|Saint Michaels Ce...|   true|622236723950714879|                null|\n| Queens|        207|     207|Saint Michaels Ce...|   true|622236723991183359|                null|\n| Queens|        207|     207|Saint Michaels Ce...|   true|622236723988299775|                null|\n| Queens|        207|     207|Saint Michaels Ce...|   true|622236723950747647|                null|\n| Queens|        207|     207|Saint Michaels Ce...|   true|622236723991052287|                null|\n| Queens|        207|     207|Saint Michaels Ce...|   true|622236723991216127|                null|\n| Queens|        207|     207|Saint Michaels Ce...|   true|622236723991379967|                null|\n| Queens|        207|     207|Saint Michaels Ce...|   true|622236723951140863|                null|\n| Queens|        207|     207|Saint Michaels Ce...|  false|622236723990167551|[01 03 00 00 00 0...|\n| Queens|        207|     207|Saint Michaels Ce...|  false|622236723991117823|[01 03 00 00 00 0...|\n| Queens|        207|     207|Saint Michaels Ce...|  false|622236723950288895|[01 03 00 00 00 0...|\n| Queens|        207|     207|Saint Michaels Ce...|  false|622236723988365311|[01 03 00 00 00 0...|\n| Queens|        207|     207|Saint Michaels Ce...|  false|622236723950878719|[01 03 00 00 00 0...|\n+-------+-----------+--------+--------------------+-------+------------------+--------------------+\nonly showing top 20 rows\n\n</div>",
       "datasetInfos": [],
       "metadata": {},
       "removedWidgets": [],
       "type": "html"
      }
     },
     "output_type": "display_data",
     "transient": null
    }
   ],
   "source": [
    "from mosaic import mosaic_explode\n",
    "\n",
    "mosaic_neighbourhoods = (\n",
    "  geoJsonDF\n",
    "  .repartition(sc.defaultParallelism)\n",
    "  .select(\"*\", mosaic_explode(\"geometry\", lit(10)))\n",
    "  .drop(\"geometry\")\n",
    ")\n",
    "\n",
    "mosaic_neighbourhoods.show()"
   ]
  },
  {
   "cell_type": "markdown",
   "metadata": {
    "application/vnd.databricks.v1+cell": {
     "inputWidgets": {},
     "nuid": "11933dab-085c-4503-8ba1-06365caa335c",
     "showTitle": false,
     "title": ""
    }
   },
   "source": [
    "Now the two datasets can be joined first on H3 index, with any false positives removed through a contains filter on a much simpler geometry."
   ]
  },
  {
   "cell_type": "code",
   "execution_count": 0,
   "metadata": {
    "application/vnd.databricks.v1+cell": {
     "inputWidgets": {},
     "nuid": "98514998-1fe7-4a0c-b4f9-eebf38fb9d81",
     "showTitle": false,
     "title": ""
    }
   },
   "outputs": [
    {
     "data": {
      "text/html": [
       "<style scoped>\n",
       "  .ansiout {\n",
       "    display: block;\n",
       "    unicode-bidi: embed;\n",
       "    white-space: pre-wrap;\n",
       "    word-wrap: break-word;\n",
       "    word-break: break-all;\n",
       "    font-family: \"Source Code Pro\", \"Menlo\", monospace;;\n",
       "    font-size: 13px;\n",
       "    color: #555;\n",
       "    margin-left: 4px;\n",
       "    line-height: 19px;\n",
       "  }\n",
       "</style>\n",
       "<div class=\"ansiout\">+---------+-------------------+-------------------+---------------+-------------+----------------+---------------+------------+-----------------+----------------+-----------+-----+-------+----------+------------+------------+--------------------+--------------------+--------------------+------------------+------------------+---------+-----------+--------+--------------------+-------+------------------+--------------------+\n",
       "vendor_id|    pickup_datetime|   dropoff_datetime|passenger_count|trip_distance|pickup_longitude|pickup_latitude|rate_code_id|dropoff_longitude|dropoff_latitude|fare_amount|extra|mta_tax|tip_amount|tolls_amount|total_amount|         pickup_geom|        dropoff_geom|              bounds|         pickup_h3|        dropoff_h3|  borough|location_id|objectid|                zone|is_core|                h3|                 wkb|\n",
       "+---------+-------------------+-------------------+---------------+-------------+----------------+---------------+------------+-----------------+----------------+-----------+-----+-------+----------+------------+------------+--------------------+--------------------+--------------------+------------------+------------------+---------+-----------+--------+--------------------+-------+------------------+--------------------+\n",
       "      CMT|2009-05-16 23:09:38|2009-05-16 23:12:36|              1|          0.4|      -73.993708|      40.724551|        null|       -74.001403|       40.730863|        3.7|  0.0|   null|       0.0|         0.0|         3.7|{1, [[[-73.993708...|{1, [[[-74.001403...|{5, [[[-80.0, 35....|622236750717878271|622236750719582207|Manhattan|        144|     144| Little Italy/NoLiTa|  false|622236750717878271|[01 03 00 00 00 0...|\n",
       "      CMT|2009-05-16 23:09:38|2009-05-16 23:12:36|              1|          0.4|      -73.993708|      40.724551|        null|       -74.001403|       40.730863|        3.7|  0.0|   null|       0.0|         0.0|         3.7|{1, [[[-73.993708...|{1, [[[-74.001403...|{5, [[[-80.0, 35....|622236750717878271|622236750719582207|Manhattan|        114|     114|Greenwich Village...|  false|622236750717878271|[01 03 00 00 00 0...|\n",
       "      DDS|2009-05-29 17:25:37|2009-05-29 17:50:13|              1|          4.5|      -74.002906|      40.728279|        null|       -73.954818|       40.767097|       15.3|  1.0|   null|      4.05|         0.0|       20.35|{1, [[[-74.002906...|{1, [[[-73.954818...|{5, [[[-80.0, 35....|622236750718533631|622236723465322495|Manhattan|        249|     249|        West Village|  false|622236750718533631|[01 03 00 00 00 0...|\n",
       "      DDS|2009-05-29 17:25:37|2009-05-29 17:50:13|              1|          4.5|      -74.002906|      40.728279|        null|       -73.954818|       40.767097|       15.3|  1.0|   null|      4.05|         0.0|       20.35|{1, [[[-74.002906...|{1, [[[-73.954818...|{5, [[[-80.0, 35....|622236750718533631|622236723465322495|Manhattan|        125|     125|           Hudson Sq|  false|622236750718533631|[01 03 00 00 00 0...|\n",
       "      CMT|2009-12-28 18:19:23|2009-12-28 18:33:29|              1|          4.7|      -73.997848|      40.726077|        null|       -73.988747|       40.777933|       13.3|  1.0|    0.5|      2.22|         0.0|       17.02|{1, [[[-73.997848...|{1, [[[-73.988747...|{5, [[[-80.0, 35....|622236750714863615|622236722234720255|Manhattan|        211|     211|                SoHo|  false|622236750714863615|[01 03 00 00 00 0...|\n",
       "      CMT|2009-12-28 18:19:23|2009-12-28 18:33:29|              1|          4.7|      -73.997848|      40.726077|        null|       -73.988747|       40.777933|       13.3|  1.0|    0.5|      2.22|         0.0|       17.02|{1, [[[-73.997848...|{1, [[[-73.988747...|{5, [[[-80.0, 35....|622236750714863615|622236722234720255|Manhattan|        114|     114|Greenwich Village...|  false|622236750714863615|[01 03 00 00 00 0...|\n",
       "      DDS|2009-05-03 00:12:28|2009-05-03 00:18:40|              1|          1.0|      -73.991796|      40.725481|        null|       -73.977891|        40.72679|        5.3|  0.5|   null|       0.0|         0.0|         5.8|{1, [[[-73.991796...|{1, [[[-73.977891...|{5, [[[-80.0, 35....|622236750714372095|622236723448152063|Manhattan|         79|      79|        East Village|  false|622236750714372095|[01 03 00 00 00 0...|\n",
       "      DDS|2009-05-03 00:12:28|2009-05-03 00:18:40|              1|          1.0|      -73.991796|      40.725481|        null|       -73.977891|        40.72679|        5.3|  0.5|   null|       0.0|         0.0|         5.8|{1, [[[-73.991796...|{1, [[[-73.977891...|{5, [[[-80.0, 35....|622236750714372095|622236723448152063|Manhattan|        114|     114|Greenwich Village...|  false|622236750714372095|[01 03 00 00 00 0...|\n",
       "      CMT|2009-01-31 01:36:33|2009-01-31 01:54:19|              1|          4.6|      -73.990985|      40.734834|        null|       -73.957354|       40.726189|       15.0|  0.0|   null|       0.0|         0.0|        15.0|{1, [[[-73.990985...|{1, [[[-73.957354...|{5, [[[-80.0, 35....|622236723428556799|622236723413909503|Manhattan|        234|     234|            Union Sq|  false|622236723428556799|[01 03 00 00 00 0...|\n",
       "      CMT|2009-01-31 01:36:33|2009-01-31 01:54:19|              1|          4.6|      -73.990985|      40.734834|        null|       -73.957354|       40.726189|       15.0|  0.0|   null|       0.0|         0.0|        15.0|{1, [[[-73.990985...|{1, [[[-73.957354...|{5, [[[-80.0, 35....|622236723428556799|622236723413909503|Manhattan|        113|     113|Greenwich Village...|  false|622236723428556799|[01 03 00 00 00 0...|\n",
       "      VTS|2010-02-09 00:39:00|2010-02-09 00:47:00|              1|         1.84|      -74.004577|      40.723885|           1|       -73.978537|       40.726283|        7.3|  0.5|    0.5|       0.0|         0.0|         8.3|{1, [[[-74.004577...|{1, [[[-73.978537...|{5, [[[-80.0, 35....|622236750706278399|622236723448152063|Manhattan|        125|     125|           Hudson Sq|  false|622236750706278399|[01 03 00 00 00 0...|\n",
       "      VTS|2010-02-09 00:39:00|2010-02-09 00:47:00|              1|         1.84|      -74.004577|      40.723885|           1|       -73.978537|       40.726283|        7.3|  0.5|    0.5|       0.0|         0.0|         8.3|{1, [[[-74.004577...|{1, [[[-73.978537...|{5, [[[-80.0, 35....|622236750706278399|622236723448152063|Manhattan|        211|     211|                SoHo|  false|622236750706278399|[01 03 00 00 00 0...|\n",
       "      CMT|2010-02-05 17:00:49|2010-02-05 17:09:30|              1|          1.0|      -73.999779|      40.718208|           1|        -74.00997|       40.711261|        6.1|  1.0|    0.5|       0.0|         0.0|         7.6|{1, [[[-73.999779...|{1, [[[-74.00997,...|{5, [[[-80.0, 35....|622236750709424127|622236750648508415|Manhattan|        231|     231|TriBeCa/Civic Center|  false|622236750709424127|[01 03 00 00 00 0...|\n",
       "      CMT|2010-02-05 17:00:49|2010-02-05 17:09:30|              1|          1.0|      -73.999779|      40.718208|           1|        -74.00997|       40.711261|        6.1|  1.0|    0.5|       0.0|         0.0|         7.6|{1, [[[-73.999779...|{1, [[[-74.00997,...|{5, [[[-80.0, 35....|622236750709424127|622236750648508415|Manhattan|        144|     144| Little Italy/NoLiTa|  false|622236750709424127|[01 03 00 00 00 0...|\n",
       "      CMT|2010-02-22 14:24:15|2010-02-22 15:14:33|              1|         20.6|      -74.010775|       40.70861|           1|       -73.785869|       40.638801|       45.0|  0.0|    0.5|      7.51|        4.57|       57.58|{1, [[[-74.010775...|{1, [[[-73.785869...|{5, [[[-80.0, 35....|622236750647459839|622236735761317887|Manhattan|         87|      87|Financial Distric...|  false|622236750647459839|[01 03 00 00 00 0...|\n",
       "      CMT|2010-02-22 14:24:15|2010-02-22 15:14:33|              1|         20.6|      -74.010775|       40.70861|           1|       -73.785869|       40.638801|       45.0|  0.0|    0.5|      7.51|        4.57|       57.58|{1, [[[-74.010775...|{1, [[[-73.785869...|{5, [[[-80.0, 35....|622236750647459839|622236735761317887|Manhattan|        261|     261|  World Trade Center|  false|622236750647459839|[01 03 00 00 00 0...|\n",
       "      CMT|2009-05-13 23:00:55|2009-05-13 23:06:53|              1|          1.5|      -73.998792|      40.734615|        null|       -73.993595|       40.751491|        6.1|  0.0|   null|       0.0|         0.0|         6.1|{1, [[[-73.998792...|{1, [[[-73.993595...|{5, [[[-80.0, 35....|622236723433144319|622236723440123903|Manhattan|        249|     249|        West Village|  false|622236723433144319|[01 03 00 00 00 0...|\n",
       "      CMT|2009-05-13 23:00:55|2009-05-13 23:06:53|              1|          1.5|      -73.998792|      40.734615|        null|       -73.993595|       40.751491|        6.1|  0.0|   null|       0.0|         0.0|         6.1|{1, [[[-73.998792...|{1, [[[-73.993595...|{5, [[[-80.0, 35....|622236723433144319|622236723440123903|Manhattan|        113|     113|Greenwich Village...|  false|622236723433144319|[01 03 00 00 00 0...|\n",
       "      CMT|2009-01-11 13:23:48|2009-01-11 13:31:00|              1|          1.6|      -73.997643|      40.724385|        null|       -73.981072|       40.733372|        6.5|  0.0|   null|       2.0|         0.0|         8.5|{1, [[[-73.997643...|{1, [[[-73.981072...|{5, [[[-80.0, 35....|622236750707130367|622236723429310463|Manhattan|        211|     211|                SoHo|  false|622236750707130367|[01 03 00 00 00 0...|\n",
       "      CMT|2009-01-11 13:23:48|2009-01-11 13:31:00|              1|          1.6|      -73.997643|      40.724385|        null|       -73.981072|       40.733372|        6.5|  0.0|   null|       2.0|         0.0|         8.5|{1, [[[-73.997643...|{1, [[[-73.981072...|{5, [[[-80.0, 35....|622236750707130367|622236723429310463|Manhattan|        144|     144| Little Italy/NoLiTa|  false|622236750707130367|[01 03 00 00 00 0...|\n",
       "+---------+-------------------+-------------------+---------------+-------------+----------------+---------------+------------+-----------------+----------------+-----------+-----+-------+----------+------------+------------+--------------------+--------------------+--------------------+------------------+------------------+---------+-----------+--------+--------------------+-------+------------------+--------------------+\n",
       "only showing top 20 rows\n",
       "\n",
       "</div>"
      ]
     },
     "metadata": {
      "application/vnd.databricks.v1+output": {
       "addedWidgets": {},
       "arguments": {},
       "data": "<div class=\"ansiout\">+---------+-------------------+-------------------+---------------+-------------+----------------+---------------+------------+-----------------+----------------+-----------+-----+-------+----------+------------+------------+--------------------+--------------------+--------------------+------------------+------------------+---------+-----------+--------+--------------------+-------+------------------+--------------------+\n|vendor_id|    pickup_datetime|   dropoff_datetime|passenger_count|trip_distance|pickup_longitude|pickup_latitude|rate_code_id|dropoff_longitude|dropoff_latitude|fare_amount|extra|mta_tax|tip_amount|tolls_amount|total_amount|         pickup_geom|        dropoff_geom|              bounds|         pickup_h3|        dropoff_h3|  borough|location_id|objectid|                zone|is_core|                h3|                 wkb|\n+---------+-------------------+-------------------+---------------+-------------+----------------+---------------+------------+-----------------+----------------+-----------+-----+-------+----------+------------+------------+--------------------+--------------------+--------------------+------------------+------------------+---------+-----------+--------+--------------------+-------+------------------+--------------------+\n|      CMT|2009-05-16 23:09:38|2009-05-16 23:12:36|              1|          0.4|      -73.993708|      40.724551|        null|       -74.001403|       40.730863|        3.7|  0.0|   null|       0.0|         0.0|         3.7|{1, [[[-73.993708...|{1, [[[-74.001403...|{5, [[[-80.0, 35....|622236750717878271|622236750719582207|Manhattan|        144|     144| Little Italy/NoLiTa|  false|622236750717878271|[01 03 00 00 00 0...|\n|      CMT|2009-05-16 23:09:38|2009-05-16 23:12:36|              1|          0.4|      -73.993708|      40.724551|        null|       -74.001403|       40.730863|        3.7|  0.0|   null|       0.0|         0.0|         3.7|{1, [[[-73.993708...|{1, [[[-74.001403...|{5, [[[-80.0, 35....|622236750717878271|622236750719582207|Manhattan|        114|     114|Greenwich Village...|  false|622236750717878271|[01 03 00 00 00 0...|\n|      DDS|2009-05-29 17:25:37|2009-05-29 17:50:13|              1|          4.5|      -74.002906|      40.728279|        null|       -73.954818|       40.767097|       15.3|  1.0|   null|      4.05|         0.0|       20.35|{1, [[[-74.002906...|{1, [[[-73.954818...|{5, [[[-80.0, 35....|622236750718533631|622236723465322495|Manhattan|        249|     249|        West Village|  false|622236750718533631|[01 03 00 00 00 0...|\n|      DDS|2009-05-29 17:25:37|2009-05-29 17:50:13|              1|          4.5|      -74.002906|      40.728279|        null|       -73.954818|       40.767097|       15.3|  1.0|   null|      4.05|         0.0|       20.35|{1, [[[-74.002906...|{1, [[[-73.954818...|{5, [[[-80.0, 35....|622236750718533631|622236723465322495|Manhattan|        125|     125|           Hudson Sq|  false|622236750718533631|[01 03 00 00 00 0...|\n|      CMT|2009-12-28 18:19:23|2009-12-28 18:33:29|              1|          4.7|      -73.997848|      40.726077|        null|       -73.988747|       40.777933|       13.3|  1.0|    0.5|      2.22|         0.0|       17.02|{1, [[[-73.997848...|{1, [[[-73.988747...|{5, [[[-80.0, 35....|622236750714863615|622236722234720255|Manhattan|        211|     211|                SoHo|  false|622236750714863615|[01 03 00 00 00 0...|\n|      CMT|2009-12-28 18:19:23|2009-12-28 18:33:29|              1|          4.7|      -73.997848|      40.726077|        null|       -73.988747|       40.777933|       13.3|  1.0|    0.5|      2.22|         0.0|       17.02|{1, [[[-73.997848...|{1, [[[-73.988747...|{5, [[[-80.0, 35....|622236750714863615|622236722234720255|Manhattan|        114|     114|Greenwich Village...|  false|622236750714863615|[01 03 00 00 00 0...|\n|      DDS|2009-05-03 00:12:28|2009-05-03 00:18:40|              1|          1.0|      -73.991796|      40.725481|        null|       -73.977891|        40.72679|        5.3|  0.5|   null|       0.0|         0.0|         5.8|{1, [[[-73.991796...|{1, [[[-73.977891...|{5, [[[-80.0, 35....|622236750714372095|622236723448152063|Manhattan|         79|      79|        East Village|  false|622236750714372095|[01 03 00 00 00 0...|\n|      DDS|2009-05-03 00:12:28|2009-05-03 00:18:40|              1|          1.0|      -73.991796|      40.725481|        null|       -73.977891|        40.72679|        5.3|  0.5|   null|       0.0|         0.0|         5.8|{1, [[[-73.991796...|{1, [[[-73.977891...|{5, [[[-80.0, 35....|622236750714372095|622236723448152063|Manhattan|        114|     114|Greenwich Village...|  false|622236750714372095|[01 03 00 00 00 0...|\n|      CMT|2009-01-31 01:36:33|2009-01-31 01:54:19|              1|          4.6|      -73.990985|      40.734834|        null|       -73.957354|       40.726189|       15.0|  0.0|   null|       0.0|         0.0|        15.0|{1, [[[-73.990985...|{1, [[[-73.957354...|{5, [[[-80.0, 35....|622236723428556799|622236723413909503|Manhattan|        234|     234|            Union Sq|  false|622236723428556799|[01 03 00 00 00 0...|\n|      CMT|2009-01-31 01:36:33|2009-01-31 01:54:19|              1|          4.6|      -73.990985|      40.734834|        null|       -73.957354|       40.726189|       15.0|  0.0|   null|       0.0|         0.0|        15.0|{1, [[[-73.990985...|{1, [[[-73.957354...|{5, [[[-80.0, 35....|622236723428556799|622236723413909503|Manhattan|        113|     113|Greenwich Village...|  false|622236723428556799|[01 03 00 00 00 0...|\n|      VTS|2010-02-09 00:39:00|2010-02-09 00:47:00|              1|         1.84|      -74.004577|      40.723885|           1|       -73.978537|       40.726283|        7.3|  0.5|    0.5|       0.0|         0.0|         8.3|{1, [[[-74.004577...|{1, [[[-73.978537...|{5, [[[-80.0, 35....|622236750706278399|622236723448152063|Manhattan|        125|     125|           Hudson Sq|  false|622236750706278399|[01 03 00 00 00 0...|\n|      VTS|2010-02-09 00:39:00|2010-02-09 00:47:00|              1|         1.84|      -74.004577|      40.723885|           1|       -73.978537|       40.726283|        7.3|  0.5|    0.5|       0.0|         0.0|         8.3|{1, [[[-74.004577...|{1, [[[-73.978537...|{5, [[[-80.0, 35....|622236750706278399|622236723448152063|Manhattan|        211|     211|                SoHo|  false|622236750706278399|[01 03 00 00 00 0...|\n|      CMT|2010-02-05 17:00:49|2010-02-05 17:09:30|              1|          1.0|      -73.999779|      40.718208|           1|        -74.00997|       40.711261|        6.1|  1.0|    0.5|       0.0|         0.0|         7.6|{1, [[[-73.999779...|{1, [[[-74.00997,...|{5, [[[-80.0, 35....|622236750709424127|622236750648508415|Manhattan|        231|     231|TriBeCa/Civic Center|  false|622236750709424127|[01 03 00 00 00 0...|\n|      CMT|2010-02-05 17:00:49|2010-02-05 17:09:30|              1|          1.0|      -73.999779|      40.718208|           1|        -74.00997|       40.711261|        6.1|  1.0|    0.5|       0.0|         0.0|         7.6|{1, [[[-73.999779...|{1, [[[-74.00997,...|{5, [[[-80.0, 35....|622236750709424127|622236750648508415|Manhattan|        144|     144| Little Italy/NoLiTa|  false|622236750709424127|[01 03 00 00 00 0...|\n|      CMT|2010-02-22 14:24:15|2010-02-22 15:14:33|              1|         20.6|      -74.010775|       40.70861|           1|       -73.785869|       40.638801|       45.0|  0.0|    0.5|      7.51|        4.57|       57.58|{1, [[[-74.010775...|{1, [[[-73.785869...|{5, [[[-80.0, 35....|622236750647459839|622236735761317887|Manhattan|         87|      87|Financial Distric...|  false|622236750647459839|[01 03 00 00 00 0...|\n|      CMT|2010-02-22 14:24:15|2010-02-22 15:14:33|              1|         20.6|      -74.010775|       40.70861|           1|       -73.785869|       40.638801|       45.0|  0.0|    0.5|      7.51|        4.57|       57.58|{1, [[[-74.010775...|{1, [[[-73.785869...|{5, [[[-80.0, 35....|622236750647459839|622236735761317887|Manhattan|        261|     261|  World Trade Center|  false|622236750647459839|[01 03 00 00 00 0...|\n|      CMT|2009-05-13 23:00:55|2009-05-13 23:06:53|              1|          1.5|      -73.998792|      40.734615|        null|       -73.993595|       40.751491|        6.1|  0.0|   null|       0.0|         0.0|         6.1|{1, [[[-73.998792...|{1, [[[-73.993595...|{5, [[[-80.0, 35....|622236723433144319|622236723440123903|Manhattan|        249|     249|        West Village|  false|622236723433144319|[01 03 00 00 00 0...|\n|      CMT|2009-05-13 23:00:55|2009-05-13 23:06:53|              1|          1.5|      -73.998792|      40.734615|        null|       -73.993595|       40.751491|        6.1|  0.0|   null|       0.0|         0.0|         6.1|{1, [[[-73.998792...|{1, [[[-73.993595...|{5, [[[-80.0, 35....|622236723433144319|622236723440123903|Manhattan|        113|     113|Greenwich Village...|  false|622236723433144319|[01 03 00 00 00 0...|\n|      CMT|2009-01-11 13:23:48|2009-01-11 13:31:00|              1|          1.6|      -73.997643|      40.724385|        null|       -73.981072|       40.733372|        6.5|  0.0|   null|       2.0|         0.0|         8.5|{1, [[[-73.997643...|{1, [[[-73.981072...|{5, [[[-80.0, 35....|622236750707130367|622236723429310463|Manhattan|        211|     211|                SoHo|  false|622236750707130367|[01 03 00 00 00 0...|\n|      CMT|2009-01-11 13:23:48|2009-01-11 13:31:00|              1|          1.6|      -73.997643|      40.724385|        null|       -73.981072|       40.733372|        6.5|  0.0|   null|       2.0|         0.0|         8.5|{1, [[[-73.997643...|{1, [[[-73.981072...|{5, [[[-80.0, 35....|622236750707130367|622236723429310463|Manhattan|        144|     144| Little Italy/NoLiTa|  false|622236750707130367|[01 03 00 00 00 0...|\n+---------+-------------------+-------------------+---------------+-------------+----------------+---------------+------------+-----------------+----------------+-----------+-----+-------+----------+------------+------------+--------------------+--------------------+--------------------+------------------+------------------+---------+-----------+--------+--------------------+-------+------------------+--------------------+\nonly showing top 20 rows\n\n</div>",
       "datasetInfos": [],
       "metadata": {},
       "removedWidgets": [],
       "type": "html"
      }
     },
     "output_type": "display_data",
     "transient": null
    }
   ],
   "source": [
    "mosaic_joined_df = (\n",
    "  trips_with_geom.alias(\"t\")\n",
    "  .join(mosaic_neighbourhoods.alias(\"n\"), on=expr(\"t.pickup_h3 = n.h3\"), how=\"inner\")\n",
    "  .where(\n",
    "    ~col(\"is_core\") | \n",
    "    st_contains(\"wkb\", \"pickup_geom\")\n",
    "  )\n",
    ")\n",
    "\n",
    "mosaic_joined_df.show()"
   ]
  }
 ],
 "metadata": {
  "application/vnd.databricks.v1+notebook": {
   "dashboards": [],
   "language": "python",
   "notebookMetadata": {
    "pythonIndentUnit": 2
   },
   "notebookName": "quickstart",
   "notebookOrigID": 1935524762305611,
   "widgets": {}
  }
 },
 "nbformat": 4,
 "nbformat_minor": 0
}
